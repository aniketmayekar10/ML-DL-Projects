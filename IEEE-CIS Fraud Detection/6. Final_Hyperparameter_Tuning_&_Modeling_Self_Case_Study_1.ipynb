{
 "cells": [
  {
   "cell_type": "code",
   "execution_count": 1,
   "metadata": {
    "executionInfo": {
     "elapsed": 1034,
     "status": "ok",
     "timestamp": 1683096326455,
     "user": {
      "displayName": "Aniket Mayekar",
      "userId": "03479200196172620637"
     },
     "user_tz": -330
    },
    "id": "DCgZLoWL4IdP"
   },
   "outputs": [],
   "source": [
    "# importing the libraries\n",
    "import pandas as pd\n",
    "import numpy as np\n",
    "import matplotlib.pyplot as plt\n",
    "import seaborn as sns\n",
    "import random\n",
    "from collections import Counter\n",
    "from prettytable import PrettyTable\n",
    "from time import time\n",
    "import datetime\n",
    "from pandas.api.types import is_string_dtype\n",
    "from pandas.api.types import is_numeric_dtype\n",
    "from sklearn.preprocessing import StandardScaler\n",
    "from sklearn.preprocessing import MinMaxScaler\n",
    "from sklearn.preprocessing import Normalizer\n",
    "from sklearn.preprocessing import LabelEncoder\n",
    "from prettytable import PrettyTable\n",
    "import sklearn\n",
    "from sklearn import metrics\n",
    "from sklearn.naive_bayes import GaussianNB\n",
    "from sklearn.linear_model import LogisticRegression\n",
    "from sklearn.tree import DecisionTreeClassifier\n",
    "from sklearn.ensemble import RandomForestClassifier, AdaBoostClassifier\n",
    "from xgboost import XGBClassifier\n",
    "from sklearn.model_selection import TimeSeriesSplit, train_test_split, GridSearchCV\n",
    "from sklearn.metrics import roc_auc_score\n",
    "from sklearn.metrics import roc_auc_score,roc_curve,auc,confusion_matrix\n",
    "from sklearn.calibration import CalibratedClassifierCV\n",
    "from statsmodels.stats.outliers_influence import variance_inflation_factor\n",
    "from sklearn.ensemble import GradientBoostingClassifier\n",
    "from sklearn.model_selection import GridSearchCV\n",
    "from sklearn.model_selection import RandomizedSearchCV\n",
    "from sklearn.model_selection import GroupKFold\n",
    "import xgboost as xgb\n",
    "import re\n",
    "import joblib\n",
    "import sys\n",
    "sys.modules['sklearn.externals.joblib'] = joblib\n",
    "from mlxtend.feature_selection import SequentialFeatureSelector as SFS\n",
    "\n",
    "%matplotlib inline\n",
    "import warnings\n",
    "warnings.filterwarnings(\"ignore\")"
   ]
  },
  {
   "cell_type": "code",
   "execution_count": 2,
   "metadata": {
    "colab": {
     "base_uri": "https://localhost:8080/"
    },
    "executionInfo": {
     "elapsed": 29527,
     "status": "ok",
     "timestamp": 1683096359240,
     "user": {
      "displayName": "Aniket Mayekar",
      "userId": "03479200196172620637"
     },
     "user_tz": -330
    },
    "id": "Sx1uYH2d445Q",
    "outputId": "32094257-3b29-43cb-b7af-f62059c74b51"
   },
   "outputs": [
    {
     "name": "stdout",
     "output_type": "stream",
     "text": [
      "Mounted at /content/drive\n"
     ]
    }
   ],
   "source": [
    "# Load the Drive helper and mount\n",
    "from google.colab import drive\n",
    "drive.mount('/content/drive')"
   ]
  },
  {
   "cell_type": "code",
   "execution_count": 3,
   "metadata": {
    "executionInfo": {
     "elapsed": 20166,
     "status": "ok",
     "timestamp": 1683096379403,
     "user": {
      "displayName": "Aniket Mayekar",
      "userId": "03479200196172620637"
     },
     "user_tz": -330
    },
    "id": "q2Apqki_9O8y"
   },
   "outputs": [],
   "source": [
    "# reading the datasets\n",
    "df_train = pd.read_pickle('/content/drive/MyDrive/Self_Case_Study_1/Datasets/feature_engg/fea_eng_train.pkl')\n",
    "df_test = pd.read_pickle('/content/drive/MyDrive/Self_Case_Study_1/Datasets/feature_engg/fea_eng_test.pkl')"
   ]
  },
  {
   "cell_type": "code",
   "execution_count": 4,
   "metadata": {
    "executionInfo": {
     "elapsed": 6,
     "status": "ok",
     "timestamp": 1683096379403,
     "user": {
      "displayName": "Aniket Mayekar",
      "userId": "03479200196172620637"
     },
     "user_tz": -330
    },
    "id": "0Fi4ys489NL4"
   },
   "outputs": [],
   "source": [
    "# training and test dataset\n",
    "\n",
    "X_train = df_train.drop(['isFraud', 'TransactionID', 'uid', 'uid2'], axis=1)\n",
    "y_train = df_train['isFraud']\n",
    "X_test = df_test.drop(['TransactionID', 'uid', 'uid2'], axis=1)\n",
    "test_ids = df_test['TransactionID'].values"
   ]
  },
  {
   "cell_type": "code",
   "execution_count": null,
   "metadata": {
    "colab": {
     "base_uri": "https://localhost:8080/"
    },
    "executionInfo": {
     "elapsed": 7,
     "status": "ok",
     "timestamp": 1683039610732,
     "user": {
      "displayName": "Aniket Mayekar",
      "userId": "03479200196172620637"
     },
     "user_tz": -330
    },
    "id": "f9k3avfu49TN",
    "outputId": "8729b9bb-9e54-498f-e18c-53447b733a2b"
   },
   "outputs": [
    {
     "name": "stdout",
     "output_type": "stream",
     "text": [
      "shape of training dataset: (590538, 236)\n",
      "shape of test dataset: (506691, 236)\n"
     ]
    }
   ],
   "source": [
    "# getting the shape of each train dataset and test dataset\n",
    "# raw data\n",
    "print('shape of training dataset:', X_train.shape)\n",
    "print('shape of test dataset:', X_test.shape)"
   ]
  },
  {
   "cell_type": "code",
   "execution_count": null,
   "metadata": {
    "id": "C3JeIcLx56qd"
   },
   "outputs": [],
   "source": [
    "# available categorical features\n",
    "cat_fea = ['ProductCD', 'card1', 'card2', 'card3', 'card4', 'card5', 'card6', 'addr1', 'addr2', \n",
    "           'P_emaildomain', 'R_emaildomain', 'M1', 'M2', 'M3', 'M4', 'M5', 'M6', 'M7', 'M8', 'M9', \n",
    "           'DeviceType', 'DeviceInfo', 'id_12', 'id_13', 'id_14', 'id_15', 'id_16', 'id_17', 'id_18', \n",
    "           'id_19', 'id_20', 'id_21', 'id_22', 'id_23', 'id_24', 'id_25', 'id_26', 'id_27', 'id_28', \n",
    "           'id_29', 'id_30', 'id_31', 'id_32', 'id_33', 'id_34', 'id_35', 'id_36', 'id_37', 'id_38', \n",
    "           'TransactionHours']"
   ]
  },
  {
   "cell_type": "code",
   "execution_count": null,
   "metadata": {
    "id": "vWMpsF2a7xYG"
   },
   "outputs": [],
   "source": [
    "# normalization using minmaxscaler\n",
    "\n",
    "def min_max_scaler(X_train, X_test):\n",
    "    \n",
    "    X_train_norm = X_train.copy()\n",
    "    X_test_norm = X_test.copy()\n",
    "    \n",
    "    for fea in X_train.columns:\n",
    "        if fea not in cat_fea:\n",
    "          if fea not in ['isFraud', 'TransactionID','D4norm', 'D15norm', 'D6norm']:\n",
    "            scale = MinMaxScaler()\n",
    "            X_train_norm[fea] = scale.fit_transform(X_train_norm[fea].values.reshape(-1, 1))\n",
    "            X_test_norm[fea] = scale.transform(X_test_norm[fea].values.reshape(-1, 1))\n",
    "\n",
    "    return (X_train_norm, X_test_norm)"
   ]
  },
  {
   "cell_type": "code",
   "execution_count": null,
   "metadata": {
    "id": "3Glg3ly249ag"
   },
   "outputs": [],
   "source": [
    "# standardizing numerical features\n",
    "\n",
    "def standard(X_train, X_test):\n",
    "    \n",
    "    X_train_std = X_train.copy()\n",
    "    X_test_std = X_test.copy()\n",
    "    \n",
    "    for fea in X_train.columns:\n",
    "        if fea not in cat_fea:\n",
    "          if fea not in ['isFraud', 'TransactionID','D4norm', 'D15norm', 'D6norm']:\n",
    "            scaler = StandardScaler()\n",
    "            X_train_std[fea] = scaler.fit_transform(X_train_std[fea].values.reshape(-1, 1))\n",
    "            X_test_std[fea] = scaler.transform(X_test_std[fea].values.reshape(-1, 1))\n",
    "    \n",
    "    return (X_train_std, X_test_std)"
   ]
  },
  {
   "cell_type": "code",
   "execution_count": 5,
   "metadata": {
    "executionInfo": {
     "elapsed": 5,
     "status": "ok",
     "timestamp": 1683096379403,
     "user": {
      "displayName": "Aniket Mayekar",
      "userId": "03479200196172620637"
     },
     "user_tz": -330
    },
    "id": "uyy3yi_UfK7v"
   },
   "outputs": [],
   "source": [
    "# function to save test predictions in a file\n",
    "\n",
    "def predict_and_save(prediction, name):\n",
    "    \n",
    "    '''\n",
    "        Utility Function to save the test data predictions locally.\n",
    "    '''\n",
    "\n",
    "    df = pd.DataFrame({'TransactionID':test_ids.reshape(-1), 'isFraud':prediction.reshape(-1)})\n",
    "    df = df.sort_values('TransactionID')\n",
    "    df.to_csv(name, index=False)"
   ]
  },
  {
   "cell_type": "code",
   "execution_count": null,
   "metadata": {
    "id": "0fAaS8DmcQKt"
   },
   "outputs": [],
   "source": [
    "X_train_norm, X_test_norm = min_max_scaler(X_train, X_test) # normalizing the data\n",
    "X_train_std, X_test_std = standard(X_train, X_test) # standardizing the data"
   ]
  },
  {
   "cell_type": "code",
   "execution_count": null,
   "metadata": {
    "colab": {
     "base_uri": "https://localhost:8080/"
    },
    "executionInfo": {
     "elapsed": 96516,
     "status": "ok",
     "timestamp": 1683039790478,
     "user": {
      "displayName": "Aniket Mayekar",
      "userId": "03479200196172620637"
     },
     "user_tz": -330
    },
    "id": "pCop5eEk49dr",
    "outputId": "1a2a47b6-f37a-4e8a-8841-f79146d921d7"
   },
   "outputs": [
    {
     "name": "stdout",
     "output_type": "stream",
     "text": [
      "[0]\tvalidation_0-auc:0.84405\n",
      "[50]\tvalidation_0-auc:0.93332\n",
      "[100]\tvalidation_0-auc:0.93437\n",
      "[150]\tvalidation_0-auc:0.93529\n",
      "[200]\tvalidation_0-auc:0.93604\n",
      "[250]\tvalidation_0-auc:0.93627\n",
      "[300]\tvalidation_0-auc:0.93586\n",
      "[323]\tvalidation_0-auc:0.93608\n"
     ]
    }
   ],
   "source": [
    "# fitting the inital model on tuned parameters (cross-validation fit)\n",
    "\n",
    "idx_tr = X_train.index[:int(X_train.shape[0]*0.75)]  \n",
    "idx_cv = X_train.index[int(X_train.shape[0]*0.75):]\n",
    "\n",
    "xgboost_raw = XGBClassifier(\n",
    "          objective='binary:logistic',\n",
    "          eval_metric='auc',\n",
    "          n_estimators=1000,\n",
    "          tree_method='gpu_hist',\n",
    "          subsample=0.8,\n",
    "          max_depth=20,\n",
    "          colsample_bytree=0.4,\n",
    "          learning_rate=0.2,\n",
    "          missing=-1\n",
    "          )\n",
    "\n",
    "# fitting the raw data\n",
    "clf_raw = xgboost_raw.fit(X_train.loc[idx_tr], y_train[idx_tr], eval_set=[(X_train.loc[idx_cv], y_train[idx_cv])], \n",
    "            verbose=50, early_stopping_rounds=100)\n",
    "best_score_raw = roc_auc_score(y_train[idx_cv], xgboost_raw.predict_proba(X_train.loc[idx_cv])[:,1])"
   ]
  },
  {
   "cell_type": "code",
   "execution_count": null,
   "metadata": {
    "colab": {
     "base_uri": "https://localhost:8080/"
    },
    "executionInfo": {
     "elapsed": 96225,
     "status": "ok",
     "timestamp": 1683039886690,
     "user": {
      "displayName": "Aniket Mayekar",
      "userId": "03479200196172620637"
     },
     "user_tz": -330
    },
    "id": "tFwfaX8uDFn8",
    "outputId": "fb0ee45b-d4c6-4fdd-e61f-df0284fb3217"
   },
   "outputs": [
    {
     "name": "stdout",
     "output_type": "stream",
     "text": [
      "[0]\tvalidation_0-auc:0.84827\n",
      "[50]\tvalidation_0-auc:0.92788\n",
      "[100]\tvalidation_0-auc:0.93058\n",
      "[150]\tvalidation_0-auc:0.93180\n",
      "[200]\tvalidation_0-auc:0.93225\n",
      "[250]\tvalidation_0-auc:0.93175\n",
      "[300]\tvalidation_0-auc:0.93150\n",
      "[307]\tvalidation_0-auc:0.93131\n"
     ]
    }
   ],
   "source": [
    "# fitting the normalized data\n",
    "\n",
    "xgboost_norm = XGBClassifier(\n",
    "               objective='binary:logistic',\n",
    "               eval_metric='auc',\n",
    "               n_estimators=1000,\n",
    "               tree_method='gpu_hist',\n",
    "               subsample=0.8,\n",
    "               max_depth=20,\n",
    "               colsample_bytree=0.4,\n",
    "               learning_rate=0.2,\n",
    "               missing=-1\n",
    "               )\n",
    "\n",
    "clf_norm = xgboost_norm.fit(X_train_norm.loc[idx_tr], y_train[idx_tr], eval_set=[(X_train_norm.loc[idx_cv], y_train[idx_cv])], \n",
    "            verbose=50, early_stopping_rounds=100)\n",
    "best_score_norm = roc_auc_score(y_train[idx_cv], xgboost_norm.predict_proba(X_train_norm.loc[idx_cv])[:,1])"
   ]
  },
  {
   "cell_type": "code",
   "execution_count": null,
   "metadata": {
    "colab": {
     "base_uri": "https://localhost:8080/"
    },
    "executionInfo": {
     "elapsed": 93810,
     "status": "ok",
     "timestamp": 1683039980486,
     "user": {
      "displayName": "Aniket Mayekar",
      "userId": "03479200196172620637"
     },
     "user_tz": -330
    },
    "id": "B_xnlcKVkvjH",
    "outputId": "fc7c2621-6f4a-485a-9881-1a291e7de178"
   },
   "outputs": [
    {
     "name": "stdout",
     "output_type": "stream",
     "text": [
      "[0]\tvalidation_0-auc:0.84827\n",
      "[50]\tvalidation_0-auc:0.92696\n",
      "[100]\tvalidation_0-auc:0.92997\n",
      "[150]\tvalidation_0-auc:0.93143\n",
      "[200]\tvalidation_0-auc:0.93221\n",
      "[250]\tvalidation_0-auc:0.93208\n",
      "[293]\tvalidation_0-auc:0.93161\n"
     ]
    }
   ],
   "source": [
    "# fitting the standardized data\n",
    "\n",
    "xgboost_std = XGBClassifier(\n",
    "               objective='binary:logistic',\n",
    "               eval_metric='auc',\n",
    "               n_estimators=1000,\n",
    "               tree_method='gpu_hist',\n",
    "               subsample=0.8,\n",
    "               max_depth=20,\n",
    "               colsample_bytree=0.4,\n",
    "               learning_rate=0.2,\n",
    "               missing=-1\n",
    "               )\n",
    "\n",
    "clf_std = xgboost_std.fit(X_train_std.loc[idx_tr], y_train[idx_tr], eval_set=[(X_train_std.loc[idx_cv], y_train[idx_cv])], \n",
    "            verbose=50, early_stopping_rounds=100)\n",
    "best_score_std = roc_auc_score(y_train[idx_cv], xgboost_std.predict_proba(X_train_std.loc[idx_cv])[:,1])"
   ]
  },
  {
   "cell_type": "code",
   "execution_count": null,
   "metadata": {
    "colab": {
     "base_uri": "https://localhost:8080/"
    },
    "executionInfo": {
     "elapsed": 13,
     "status": "ok",
     "timestamp": 1683039980487,
     "user": {
      "displayName": "Aniket Mayekar",
      "userId": "03479200196172620637"
     },
     "user_tz": -330
    },
    "id": "6V0ZjJSzkvmi",
    "outputId": "eda8667f-41dd-4933-c3a4-f0f1383bf922"
   },
   "outputs": [
    {
     "name": "stdout",
     "output_type": "stream",
     "text": [
      "0.9366496966345383\n",
      "0.9322554398403695\n",
      "0.9323909462897659\n"
     ]
    }
   ],
   "source": [
    "# best auc score\n",
    "print(best_score_raw)\n",
    "print(best_score_norm)\n",
    "print(best_score_std)\n",
    "\n",
    "# raw data gives the best results"
   ]
  },
  {
   "cell_type": "code",
   "execution_count": null,
   "metadata": {
    "colab": {
     "base_uri": "https://localhost:8080/",
     "height": 635
    },
    "executionInfo": {
     "elapsed": 1577,
     "status": "ok",
     "timestamp": 1683039982052,
     "user": {
      "displayName": "Aniket Mayekar",
      "userId": "03479200196172620637"
     },
     "user_tz": -330
    },
    "id": "rJ1tm5d649hH",
    "outputId": "4751718e-7906-4139-b953-be4767d811b4"
   },
   "outputs": [
    {
     "data": {
      "image/png": "[encoded data removed]",
      "text/plain": [
       "<Figure size 2000x1000 with 1 Axes>"
      ]
     },
     "metadata": {},
     "output_type": "display_data"
    }
   ],
   "source": [
    "# feature importances\n",
    "feature_imp = pd.DataFrame(sorted(zip(clf_raw.feature_importances_, X_train.columns)), columns=['Value','Feature'])\n",
    "\n",
    "# Top 50 features\n",
    "plt.figure(figsize=(20, 10))\n",
    "sns.barplot(x=\"Value\", y=\"Feature\", data=feature_imp.sort_values(by=\"Value\", ascending=False).iloc[:50])\n",
    "plt.title('XGBoost Features Importances')\n",
    "plt.tight_layout()\n",
    "plt.show()\n",
    "\n",
    "# del xgboost"
   ]
  },
  {
   "cell_type": "markdown",
   "metadata": {
    "id": "v_Y-CA5Bd0gC"
   },
   "source": []
  },
  {
   "cell_type": "code",
   "execution_count": null,
   "metadata": {
    "colab": {
     "base_uri": "https://localhost:8080/",
     "height": 954
    },
    "executionInfo": {
     "elapsed": 16234,
     "status": "ok",
     "timestamp": 1683039998281,
     "user": {
      "displayName": "Aniket Mayekar",
      "userId": "03479200196172620637"
     },
     "user_tz": -330
    },
    "id": "VY8FVtm449ne",
    "outputId": "60b07361-fb97-47a3-9028-9588c5ac91c9"
   },
   "outputs": [
    {
     "name": "stdout",
     "output_type": "stream",
     "text": [
      "Area under train roc 1.0\n",
      "Area under test roc 0.9366496966345383\n"
     ]
    },
    {
     "data": {
      "image/png": "[encoded data removed]",
      "text/plain": [
       "<Figure size 500x500 with 2 Axes>"
      ]
     },
     "metadata": {},
     "output_type": "display_data"
    },
    {
     "data": {
      "image/png": "[encoded data removed]",
      "text/plain": [
       "<Figure size 500x500 with 2 Axes>"
      ]
     },
     "metadata": {},
     "output_type": "display_data"
    }
   ],
   "source": [
    "# AUC and confusion matrix\n",
    "\n",
    "y_train_pred = clf_raw.predict(X_train.loc[idx_tr])\n",
    "y_cv_pred = clf_raw.predict(X_train.loc[idx_cv])\n",
    "\n",
    "train_fpr, train_tpr, thresholds = roc_curve(y_train.loc[idx_tr], clf_raw.predict_proba(X_train.loc[idx_tr])[:,1])\n",
    "test_fpr, test_tpr, thresholds = roc_curve(y_train.loc[idx_cv], clf_raw.predict_proba(X_train.loc[idx_cv])[:,1])\n",
    "\n",
    "#Area under ROC curve\n",
    "print('Area under train roc {}'.format(auc(train_fpr, train_tpr)))\n",
    "print('Area under test roc {}'.format(auc(test_fpr, test_tpr)))\n",
    "\n",
    "train_cf = confusion_matrix(y_train.loc[idx_tr],y_train_pred)\n",
    "plt.figure(figsize=(5,5))\n",
    "sns.heatmap(train_cf,annot=True,annot_kws={\"size\": 16},fmt=\"0\")\n",
    "plt.title('Train confusion matrix')\n",
    "plt.show()\n",
    "\n",
    "cv_cf = confusion_matrix(y_train.loc[idx_cv],y_cv_pred)\n",
    "plt.figure(figsize=(5,5))\n",
    "sns.heatmap(cv_cf,annot=True,annot_kws={\"size\": 16},fmt=\"0\")\n",
    "plt.title('Test confusion matrix')\n",
    "plt.show()\n",
    "\n",
    "del xgboost_raw, xgboost_norm, xgboost_std"
   ]
  },
  {
   "cell_type": "code",
   "execution_count": null,
   "metadata": {
    "colab": {
     "base_uri": "https://localhost:8080/",
     "height": 248
    },
    "executionInfo": {
     "elapsed": 96019,
     "status": "ok",
     "timestamp": 1683040094294,
     "user": {
      "displayName": "Aniket Mayekar",
      "userId": "03479200196172620637"
     },
     "user_tz": -330
    },
    "id": "bRdvJRpjpBLs",
    "outputId": "b5d0870d-1e83-4b9b-8fe8-9203dbf8f883"
   },
   "outputs": [
    {
     "data": {
      "text/html": [
       "<style>#sk-container-id-1 {color: black;background-color: white;}#sk-container-id-1 pre{padding: 0;}#sk-container-id-1 div.sk-toggleable {background-color: white;}#sk-container-id-1 label.sk-toggleable__label {cursor: pointer;display: block;width: 100%;margin-bottom: 0;padding: 0.3em;box-sizing: border-box;text-align: center;}#sk-container-id-1 label.sk-toggleable__label-arrow:before {content: \"▸\";float: left;margin-right: 0.25em;color: #696969;}#sk-container-id-1 label.sk-toggleable__label-arrow:hover:before {color: black;}#sk-container-id-1 div.sk-estimator:hover label.sk-toggleable__label-arrow:before {color: black;}#sk-container-id-1 div.sk-toggleable__content {max-height: 0;max-width: 0;overflow: hidden;text-align: left;background-color: #f0f8ff;}#sk-container-id-1 div.sk-toggleable__content pre {margin: 0.2em;color: black;border-radius: 0.25em;background-color: #f0f8ff;}#sk-container-id-1 input.sk-toggleable__control:checked~div.sk-toggleable__content {max-height: 200px;max-width: 100%;overflow: auto;}#sk-container-id-1 input.sk-toggleable__control:checked~label.sk-toggleable__label-arrow:before {content: \"▾\";}#sk-container-id-1 div.sk-estimator input.sk-toggleable__control:checked~label.sk-toggleable__label {background-color: #d4ebff;}#sk-container-id-1 div.sk-label input.sk-toggleable__control:checked~label.sk-toggleable__label {background-color: #d4ebff;}#sk-container-id-1 input.sk-hidden--visually {border: 0;clip: rect(1px 1px 1px 1px);clip: rect(1px, 1px, 1px, 1px);height: 1px;margin: -1px;overflow: hidden;padding: 0;position: absolute;width: 1px;}#sk-container-id-1 div.sk-estimator {font-family: monospace;background-color: #f0f8ff;border: 1px dotted black;border-radius: 0.25em;box-sizing: border-box;margin-bottom: 0.5em;}#sk-container-id-1 div.sk-estimator:hover {background-color: #d4ebff;}#sk-container-id-1 div.sk-parallel-item::after {content: \"\";width: 100%;border-bottom: 1px solid gray;flex-grow: 1;}#sk-container-id-1 div.sk-label:hover label.sk-toggleable__label {background-color: #d4ebff;}#sk-container-id-1 div.sk-serial::before {content: \"\";position: absolute;border-left: 1px solid gray;box-sizing: border-box;top: 0;bottom: 0;left: 50%;z-index: 0;}#sk-container-id-1 div.sk-serial {display: flex;flex-direction: column;align-items: center;background-color: white;padding-right: 0.2em;padding-left: 0.2em;position: relative;}#sk-container-id-1 div.sk-item {position: relative;z-index: 1;}#sk-container-id-1 div.sk-parallel {display: flex;align-items: stretch;justify-content: center;background-color: white;position: relative;}#sk-container-id-1 div.sk-item::before, #sk-container-id-1 div.sk-parallel-item::before {content: \"\";position: absolute;border-left: 1px solid gray;box-sizing: border-box;top: 0;bottom: 0;left: 50%;z-index: -1;}#sk-container-id-1 div.sk-parallel-item {display: flex;flex-direction: column;z-index: 1;position: relative;background-color: white;}#sk-container-id-1 div.sk-parallel-item:first-child::after {align-self: flex-end;width: 50%;}#sk-container-id-1 div.sk-parallel-item:last-child::after {align-self: flex-start;width: 50%;}#sk-container-id-1 div.sk-parallel-item:only-child::after {width: 0;}#sk-container-id-1 div.sk-dashed-wrapped {border: 1px dashed gray;margin: 0 0.4em 0.5em 0.4em;box-sizing: border-box;padding-bottom: 0.4em;background-color: white;}#sk-container-id-1 div.sk-label label {font-family: monospace;font-weight: bold;display: inline-block;line-height: 1.2em;}#sk-container-id-1 div.sk-label-container {text-align: center;}#sk-container-id-1 div.sk-container {/* jupyter's `normalize.less` sets `[hidden] { display: none; }` but bootstrap.min.css set `[hidden] { display: none !important; }` so we also need the `!important` here to be able to override the default hidden behavior on the sphinx rendered scikit-learn.org. See: https://github.com/scikit-learn/scikit-learn/issues/21755 */display: inline-block !important;position: relative;}#sk-container-id-1 div.sk-text-repr-fallback {display: none;}</style><div id=\"sk-container-id-1\" class=\"sk-top-container\"><div class=\"sk-text-repr-fallback\"><pre>XGBClassifier(base_score=None, booster=None, callbacks=None,\n",
       "              colsample_bylevel=None, colsample_bynode=None,\n",
       "              colsample_bytree=0.4, early_stopping_rounds=None,\n",
       "              enable_categorical=False, eval_metric=&#x27;auc&#x27;, feature_types=None,\n",
       "              gamma=None, gpu_id=None, grow_policy=None, importance_type=None,\n",
       "              interaction_constraints=None, learning_rate=0.2, max_bin=None,\n",
       "              max_cat_threshold=None, max_cat_to_onehot=None,\n",
       "              max_delta_step=None, max_depth=20, max_leaves=None,\n",
       "              min_child_weight=None, missing=-1, monotone_constraints=None,\n",
       "              n_estimators=1000, n_jobs=None, num_parallel_tree=None,\n",
       "              predictor=None, random_state=None, ...)</pre><b>In a Jupyter environment, please rerun this cell to show the HTML representation or trust the notebook. <br />On GitHub, the HTML representation is unable to render, please try loading this page with nbviewer.org.</b></div><div class=\"sk-container\" hidden><div class=\"sk-item\"><div class=\"sk-estimator sk-toggleable\"><input class=\"sk-toggleable__control sk-hidden--visually\" id=\"sk-estimator-id-1\" type=\"checkbox\" checked><label for=\"sk-estimator-id-1\" class=\"sk-toggleable__label sk-toggleable__label-arrow\">XGBClassifier</label><div class=\"sk-toggleable__content\"><pre>XGBClassifier(base_score=None, booster=None, callbacks=None,\n",
       "              colsample_bylevel=None, colsample_bynode=None,\n",
       "              colsample_bytree=0.4, early_stopping_rounds=None,\n",
       "              enable_categorical=False, eval_metric=&#x27;auc&#x27;, feature_types=None,\n",
       "              gamma=None, gpu_id=None, grow_policy=None, importance_type=None,\n",
       "              interaction_constraints=None, learning_rate=0.2, max_bin=None,\n",
       "              max_cat_threshold=None, max_cat_to_onehot=None,\n",
       "              max_delta_step=None, max_depth=20, max_leaves=None,\n",
       "              min_child_weight=None, missing=-1, monotone_constraints=None,\n",
       "              n_estimators=1000, n_jobs=None, num_parallel_tree=None,\n",
       "              predictor=None, random_state=None, ...)</pre></div></div></div></div></div>"
      ],
      "text/plain": [
       "XGBClassifier(base_score=None, booster=None, callbacks=None,\n",
       "              colsample_bylevel=None, colsample_bynode=None,\n",
       "              colsample_bytree=0.4, early_stopping_rounds=None,\n",
       "              enable_categorical=False, eval_metric='auc', feature_types=None,\n",
       "              gamma=None, gpu_id=None, grow_policy=None, importance_type=None,\n",
       "              interaction_constraints=None, learning_rate=0.2, max_bin=None,\n",
       "              max_cat_threshold=None, max_cat_to_onehot=None,\n",
       "              max_delta_step=None, max_depth=20, max_leaves=None,\n",
       "              min_child_weight=None, missing=-1, monotone_constraints=None,\n",
       "              n_estimators=1000, n_jobs=None, num_parallel_tree=None,\n",
       "              predictor=None, random_state=None, ...)"
      ]
     },
     "execution_count": 17,
     "metadata": {},
     "output_type": "execute_result"
    }
   ],
   "source": [
    "# Setting up the classifier\n",
    "\n",
    "xgboost = XGBClassifier(\n",
    "          objective='binary:logistic',\n",
    "          eval_metric='auc',\n",
    "          n_estimators=1000,\n",
    "          tree_method='gpu_hist',\n",
    "          subsample=0.8,\n",
    "          max_depth=20,\n",
    "          colsample_bytree=0.4,\n",
    "          learning_rate=0.2,\n",
    "          missing=-1\n",
    "          )\n",
    "\n",
    "xgboost.fit(X_train, y_train)"
   ]
  },
  {
   "cell_type": "code",
   "execution_count": null,
   "metadata": {
    "id": "MOPEMXXJpp5O"
   },
   "outputs": [],
   "source": [
    "# Prediction for test data\n",
    "xgboost_test_proba = xgboost.predict_proba(X_test)[:,1]\n",
    "predict_and_save(xgboost_test_proba, '/content/drive/MyDrive/Self_Case_Study_1/ipynb/to_predict/xgboost_test_1a.csv')"
   ]
  },
  {
   "attachments": {
    "test_1a.png": {
     "image/png": "[encoded data removed]"
    }
   },
   "cell_type": "markdown",
   "metadata": {},
   "source": [
    "![test_1a.png](attachment:test_1a.png)"
   ]
  },
  {
   "cell_type": "markdown",
   "metadata": {
    "id": "2NqA58FvQuXS"
   },
   "source": [
    "Final Hyperparameter Tuning"
   ]
  },
  {
   "cell_type": "code",
   "execution_count": 6,
   "metadata": {
    "colab": {
     "base_uri": "https://localhost:8080/",
     "height": 780
    },
    "executionInfo": {
     "elapsed": 3425086,
     "status": "ok",
     "timestamp": 1683099940391,
     "user": {
      "displayName": "Aniket Mayekar",
      "userId": "03479200196172620637"
     },
     "user_tz": -330
    },
    "id": "fmc5iePA14Mu",
    "outputId": "ff626862-ad20-4af4-e680-00d624bf451c"
   },
   "outputs": [
    {
     "name": "stdout",
     "output_type": "stream",
     "text": [
      "Fitting 3 folds for each of 6 candidates, totalling 18 fits\n",
      "[CV 1/3; 1/6] START colsample_bytree=0.4, learning_rate=0.002, max_depth=12, n_estimators=1000, subsample=0.8, tree_method=gpu_hist\n",
      "[CV 1/3; 1/6] END colsample_bytree=0.4, learning_rate=0.002, max_depth=12, n_estimators=1000, subsample=0.8, tree_method=gpu_hist;, score=(train=0.947, test=0.887) total time= 1.1min\n",
      "[CV 2/3; 1/6] START colsample_bytree=0.4, learning_rate=0.002, max_depth=12, n_estimators=1000, subsample=0.8, tree_method=gpu_hist\n",
      "[CV 2/3; 1/6] END colsample_bytree=0.4, learning_rate=0.002, max_depth=12, n_estimators=1000, subsample=0.8, tree_method=gpu_hist;, score=(train=0.940, test=0.913) total time= 1.1min\n",
      "[CV 3/3; 1/6] START colsample_bytree=0.4, learning_rate=0.002, max_depth=12, n_estimators=1000, subsample=0.8, tree_method=gpu_hist\n",
      "[CV 3/3; 1/6] END colsample_bytree=0.4, learning_rate=0.002, max_depth=12, n_estimators=1000, subsample=0.8, tree_method=gpu_hist;, score=(train=0.939, test=0.892) total time= 1.1min\n",
      "[CV 1/3; 2/6] START colsample_bytree=0.4, learning_rate=0.002, max_depth=6, n_estimators=1000, subsample=0.8, tree_method=gpu_hist\n",
      "[CV 1/3; 2/6] END colsample_bytree=0.4, learning_rate=0.002, max_depth=6, n_estimators=1000, subsample=0.8, tree_method=gpu_hist;, score=(train=0.888, test=0.857) total time=  32.2s\n",
      "[CV 2/3; 2/6] START colsample_bytree=0.4, learning_rate=0.002, max_depth=6, n_estimators=1000, subsample=0.8, tree_method=gpu_hist\n",
      "[CV 2/3; 2/6] END colsample_bytree=0.4, learning_rate=0.002, max_depth=6, n_estimators=1000, subsample=0.8, tree_method=gpu_hist;, score=(train=0.879, test=0.876) total time=  32.7s\n",
      "[CV 3/3; 2/6] START colsample_bytree=0.4, learning_rate=0.002, max_depth=6, n_estimators=1000, subsample=0.8, tree_method=gpu_hist\n",
      "[CV 3/3; 2/6] END colsample_bytree=0.4, learning_rate=0.002, max_depth=6, n_estimators=1000, subsample=0.8, tree_method=gpu_hist;, score=(train=0.883, test=0.868) total time=  32.0s\n",
      "[CV 1/3; 3/6] START colsample_bytree=0.4, learning_rate=0.002, max_depth=12, n_estimators=5000, subsample=0.8, tree_method=gpu_hist\n",
      "[CV 1/3; 3/6] END colsample_bytree=0.4, learning_rate=0.002, max_depth=12, n_estimators=5000, subsample=0.8, tree_method=gpu_hist;, score=(train=0.998, test=0.917) total time= 5.9min\n",
      "[CV 2/3; 3/6] START colsample_bytree=0.4, learning_rate=0.002, max_depth=12, n_estimators=5000, subsample=0.8, tree_method=gpu_hist\n",
      "[CV 2/3; 3/6] END colsample_bytree=0.4, learning_rate=0.002, max_depth=12, n_estimators=5000, subsample=0.8, tree_method=gpu_hist;, score=(train=0.997, test=0.936) total time= 5.9min\n",
      "[CV 3/3; 3/6] START colsample_bytree=0.4, learning_rate=0.002, max_depth=12, n_estimators=5000, subsample=0.8, tree_method=gpu_hist\n",
      "[CV 3/3; 3/6] END colsample_bytree=0.4, learning_rate=0.002, max_depth=12, n_estimators=5000, subsample=0.8, tree_method=gpu_hist;, score=(train=0.997, test=0.926) total time= 5.8min\n",
      "[CV 1/3; 4/6] START colsample_bytree=0.4, learning_rate=0.002, max_depth=6, n_estimators=5000, subsample=0.4, tree_method=gpu_hist\n",
      "[CV 1/3; 4/6] END colsample_bytree=0.4, learning_rate=0.002, max_depth=6, n_estimators=5000, subsample=0.4, tree_method=gpu_hist;, score=(train=0.948, test=0.894) total time= 2.4min\n",
      "[CV 2/3; 4/6] START colsample_bytree=0.4, learning_rate=0.002, max_depth=6, n_estimators=5000, subsample=0.4, tree_method=gpu_hist\n",
      "[CV 2/3; 4/6] END colsample_bytree=0.4, learning_rate=0.002, max_depth=6, n_estimators=5000, subsample=0.4, tree_method=gpu_hist;, score=(train=0.944, test=0.911) total time= 2.5min\n",
      "[CV 3/3; 4/6] START colsample_bytree=0.4, learning_rate=0.002, max_depth=6, n_estimators=5000, subsample=0.4, tree_method=gpu_hist\n",
      "[CV 3/3; 4/6] END colsample_bytree=0.4, learning_rate=0.002, max_depth=6, n_estimators=5000, subsample=0.4, tree_method=gpu_hist;, score=(train=0.945, test=0.905) total time= 2.3min\n",
      "[CV 1/3; 5/6] START colsample_bytree=0.4, learning_rate=0.02, max_depth=6, n_estimators=5000, subsample=0.8, tree_method=gpu_hist\n",
      "[CV 1/3; 5/6] END colsample_bytree=0.4, learning_rate=0.02, max_depth=6, n_estimators=5000, subsample=0.8, tree_method=gpu_hist;, score=(train=0.997, test=0.889) total time= 2.2min\n",
      "[CV 2/3; 5/6] START colsample_bytree=0.4, learning_rate=0.02, max_depth=6, n_estimators=5000, subsample=0.8, tree_method=gpu_hist\n",
      "[CV 2/3; 5/6] END colsample_bytree=0.4, learning_rate=0.02, max_depth=6, n_estimators=5000, subsample=0.8, tree_method=gpu_hist;, score=(train=0.997, test=0.917) total time= 2.3min\n",
      "[CV 3/3; 5/6] START colsample_bytree=0.4, learning_rate=0.02, max_depth=6, n_estimators=5000, subsample=0.8, tree_method=gpu_hist\n",
      "[CV 3/3; 5/6] END colsample_bytree=0.4, learning_rate=0.02, max_depth=6, n_estimators=5000, subsample=0.8, tree_method=gpu_hist;, score=(train=0.997, test=0.918) total time= 2.2min\n",
      "[CV 1/3; 6/6] START colsample_bytree=0.4, learning_rate=0.02, max_depth=12, n_estimators=1000, subsample=0.4, tree_method=gpu_hist\n",
      "[CV 1/3; 6/6] END colsample_bytree=0.4, learning_rate=0.02, max_depth=12, n_estimators=1000, subsample=0.4, tree_method=gpu_hist;, score=(train=0.999, test=0.908) total time= 1.1min\n",
      "[CV 2/3; 6/6] START colsample_bytree=0.4, learning_rate=0.02, max_depth=12, n_estimators=1000, subsample=0.4, tree_method=gpu_hist\n",
      "[CV 2/3; 6/6] END colsample_bytree=0.4, learning_rate=0.02, max_depth=12, n_estimators=1000, subsample=0.4, tree_method=gpu_hist;, score=(train=0.999, test=0.927) total time= 1.1min\n",
      "[CV 3/3; 6/6] START colsample_bytree=0.4, learning_rate=0.02, max_depth=12, n_estimators=1000, subsample=0.4, tree_method=gpu_hist\n",
      "[CV 3/3; 6/6] END colsample_bytree=0.4, learning_rate=0.02, max_depth=12, n_estimators=1000, subsample=0.4, tree_method=gpu_hist;, score=(train=0.999, test=0.923) total time= 1.1min\n"
     ]
    },
    {
     "data": {
      "text/html": [
       "<style>#sk-container-id-1 {color: black;background-color: white;}#sk-container-id-1 pre{padding: 0;}#sk-container-id-1 div.sk-toggleable {background-color: white;}#sk-container-id-1 label.sk-toggleable__label {cursor: pointer;display: block;width: 100%;margin-bottom: 0;padding: 0.3em;box-sizing: border-box;text-align: center;}#sk-container-id-1 label.sk-toggleable__label-arrow:before {content: \"▸\";float: left;margin-right: 0.25em;color: #696969;}#sk-container-id-1 label.sk-toggleable__label-arrow:hover:before {color: black;}#sk-container-id-1 div.sk-estimator:hover label.sk-toggleable__label-arrow:before {color: black;}#sk-container-id-1 div.sk-toggleable__content {max-height: 0;max-width: 0;overflow: hidden;text-align: left;background-color: #f0f8ff;}#sk-container-id-1 div.sk-toggleable__content pre {margin: 0.2em;color: black;border-radius: 0.25em;background-color: #f0f8ff;}#sk-container-id-1 input.sk-toggleable__control:checked~div.sk-toggleable__content {max-height: 200px;max-width: 100%;overflow: auto;}#sk-container-id-1 input.sk-toggleable__control:checked~label.sk-toggleable__label-arrow:before {content: \"▾\";}#sk-container-id-1 div.sk-estimator input.sk-toggleable__control:checked~label.sk-toggleable__label {background-color: #d4ebff;}#sk-container-id-1 div.sk-label input.sk-toggleable__control:checked~label.sk-toggleable__label {background-color: #d4ebff;}#sk-container-id-1 input.sk-hidden--visually {border: 0;clip: rect(1px 1px 1px 1px);clip: rect(1px, 1px, 1px, 1px);height: 1px;margin: -1px;overflow: hidden;padding: 0;position: absolute;width: 1px;}#sk-container-id-1 div.sk-estimator {font-family: monospace;background-color: #f0f8ff;border: 1px dotted black;border-radius: 0.25em;box-sizing: border-box;margin-bottom: 0.5em;}#sk-container-id-1 div.sk-estimator:hover {background-color: #d4ebff;}#sk-container-id-1 div.sk-parallel-item::after {content: \"\";width: 100%;border-bottom: 1px solid gray;flex-grow: 1;}#sk-container-id-1 div.sk-label:hover label.sk-toggleable__label {background-color: #d4ebff;}#sk-container-id-1 div.sk-serial::before {content: \"\";position: absolute;border-left: 1px solid gray;box-sizing: border-box;top: 0;bottom: 0;left: 50%;z-index: 0;}#sk-container-id-1 div.sk-serial {display: flex;flex-direction: column;align-items: center;background-color: white;padding-right: 0.2em;padding-left: 0.2em;position: relative;}#sk-container-id-1 div.sk-item {position: relative;z-index: 1;}#sk-container-id-1 div.sk-parallel {display: flex;align-items: stretch;justify-content: center;background-color: white;position: relative;}#sk-container-id-1 div.sk-item::before, #sk-container-id-1 div.sk-parallel-item::before {content: \"\";position: absolute;border-left: 1px solid gray;box-sizing: border-box;top: 0;bottom: 0;left: 50%;z-index: -1;}#sk-container-id-1 div.sk-parallel-item {display: flex;flex-direction: column;z-index: 1;position: relative;background-color: white;}#sk-container-id-1 div.sk-parallel-item:first-child::after {align-self: flex-end;width: 50%;}#sk-container-id-1 div.sk-parallel-item:last-child::after {align-self: flex-start;width: 50%;}#sk-container-id-1 div.sk-parallel-item:only-child::after {width: 0;}#sk-container-id-1 div.sk-dashed-wrapped {border: 1px dashed gray;margin: 0 0.4em 0.5em 0.4em;box-sizing: border-box;padding-bottom: 0.4em;background-color: white;}#sk-container-id-1 div.sk-label label {font-family: monospace;font-weight: bold;display: inline-block;line-height: 1.2em;}#sk-container-id-1 div.sk-label-container {text-align: center;}#sk-container-id-1 div.sk-container {/* jupyter's `normalize.less` sets `[hidden] { display: none; }` but bootstrap.min.css set `[hidden] { display: none !important; }` so we also need the `!important` here to be able to override the default hidden behavior on the sphinx rendered scikit-learn.org. See: https://github.com/scikit-learn/scikit-learn/issues/21755 */display: inline-block !important;position: relative;}#sk-container-id-1 div.sk-text-repr-fallback {display: none;}</style><div id=\"sk-container-id-1\" class=\"sk-top-container\"><div class=\"sk-text-repr-fallback\"><pre>RandomizedSearchCV(cv=3,\n",
       "                   estimator=XGBClassifier(base_score=None, booster=None,\n",
       "                                           callbacks=None,\n",
       "                                           colsample_bylevel=None,\n",
       "                                           colsample_bynode=None,\n",
       "                                           colsample_bytree=None,\n",
       "                                           early_stopping_rounds=None,\n",
       "                                           enable_categorical=False,\n",
       "                                           eval_metric=None, feature_types=None,\n",
       "                                           gamma=None, gpu_id=None,\n",
       "                                           grow_policy=None,\n",
       "                                           importance_type=None,\n",
       "                                           interaction_constraints=None,\n",
       "                                           learning_rate...\n",
       "                                           monotone_constraints=None,\n",
       "                                           n_estimators=100, n_jobs=None,\n",
       "                                           num_parallel_tree=None,\n",
       "                                           predictor=None, random_state=None, ...),\n",
       "                   n_iter=6,\n",
       "                   param_distributions={&#x27;colsample_bytree&#x27;: [0.4],\n",
       "                                        &#x27;learning_rate&#x27;: [0.002, 0.02, 0.2],\n",
       "                                        &#x27;max_depth&#x27;: [6, 12],\n",
       "                                        &#x27;n_estimators&#x27;: [1000, 5000],\n",
       "                                        &#x27;subsample&#x27;: [0.4, 0.8],\n",
       "                                        &#x27;tree_method&#x27;: [&#x27;gpu_hist&#x27;]},\n",
       "                   random_state=10, return_train_score=True, scoring=&#x27;roc_auc&#x27;,\n",
       "                   verbose=20)</pre><b>In a Jupyter environment, please rerun this cell to show the HTML representation or trust the notebook. <br />On GitHub, the HTML representation is unable to render, please try loading this page with nbviewer.org.</b></div><div class=\"sk-container\" hidden><div class=\"sk-item sk-dashed-wrapped\"><div class=\"sk-label-container\"><div class=\"sk-label sk-toggleable\"><input class=\"sk-toggleable__control sk-hidden--visually\" id=\"sk-estimator-id-1\" type=\"checkbox\" ><label for=\"sk-estimator-id-1\" class=\"sk-toggleable__label sk-toggleable__label-arrow\">RandomizedSearchCV</label><div class=\"sk-toggleable__content\"><pre>RandomizedSearchCV(cv=3,\n",
       "                   estimator=XGBClassifier(base_score=None, booster=None,\n",
       "                                           callbacks=None,\n",
       "                                           colsample_bylevel=None,\n",
       "                                           colsample_bynode=None,\n",
       "                                           colsample_bytree=None,\n",
       "                                           early_stopping_rounds=None,\n",
       "                                           enable_categorical=False,\n",
       "                                           eval_metric=None, feature_types=None,\n",
       "                                           gamma=None, gpu_id=None,\n",
       "                                           grow_policy=None,\n",
       "                                           importance_type=None,\n",
       "                                           interaction_constraints=None,\n",
       "                                           learning_rate...\n",
       "                                           monotone_constraints=None,\n",
       "                                           n_estimators=100, n_jobs=None,\n",
       "                                           num_parallel_tree=None,\n",
       "                                           predictor=None, random_state=None, ...),\n",
       "                   n_iter=6,\n",
       "                   param_distributions={&#x27;colsample_bytree&#x27;: [0.4],\n",
       "                                        &#x27;learning_rate&#x27;: [0.002, 0.02, 0.2],\n",
       "                                        &#x27;max_depth&#x27;: [6, 12],\n",
       "                                        &#x27;n_estimators&#x27;: [1000, 5000],\n",
       "                                        &#x27;subsample&#x27;: [0.4, 0.8],\n",
       "                                        &#x27;tree_method&#x27;: [&#x27;gpu_hist&#x27;]},\n",
       "                   random_state=10, return_train_score=True, scoring=&#x27;roc_auc&#x27;,\n",
       "                   verbose=20)</pre></div></div></div><div class=\"sk-parallel\"><div class=\"sk-parallel-item\"><div class=\"sk-item\"><div class=\"sk-label-container\"><div class=\"sk-label sk-toggleable\"><input class=\"sk-toggleable__control sk-hidden--visually\" id=\"sk-estimator-id-2\" type=\"checkbox\" ><label for=\"sk-estimator-id-2\" class=\"sk-toggleable__label sk-toggleable__label-arrow\">estimator: XGBClassifier</label><div class=\"sk-toggleable__content\"><pre>XGBClassifier(base_score=None, booster=None, callbacks=None,\n",
       "              colsample_bylevel=None, colsample_bynode=None,\n",
       "              colsample_bytree=None, early_stopping_rounds=None,\n",
       "              enable_categorical=False, eval_metric=None, feature_types=None,\n",
       "              gamma=None, gpu_id=None, grow_policy=None, importance_type=None,\n",
       "              interaction_constraints=None, learning_rate=None, max_bin=None,\n",
       "              max_cat_threshold=None, max_cat_to_onehot=None,\n",
       "              max_delta_step=None, max_depth=None, max_leaves=None,\n",
       "              min_child_weight=None, missing=nan, monotone_constraints=None,\n",
       "              n_estimators=100, n_jobs=None, num_parallel_tree=None,\n",
       "              predictor=None, random_state=None, ...)</pre></div></div></div><div class=\"sk-serial\"><div class=\"sk-item\"><div class=\"sk-estimator sk-toggleable\"><input class=\"sk-toggleable__control sk-hidden--visually\" id=\"sk-estimator-id-3\" type=\"checkbox\" ><label for=\"sk-estimator-id-3\" class=\"sk-toggleable__label sk-toggleable__label-arrow\">XGBClassifier</label><div class=\"sk-toggleable__content\"><pre>XGBClassifier(base_score=None, booster=None, callbacks=None,\n",
       "              colsample_bylevel=None, colsample_bynode=None,\n",
       "              colsample_bytree=None, early_stopping_rounds=None,\n",
       "              enable_categorical=False, eval_metric=None, feature_types=None,\n",
       "              gamma=None, gpu_id=None, grow_policy=None, importance_type=None,\n",
       "              interaction_constraints=None, learning_rate=None, max_bin=None,\n",
       "              max_cat_threshold=None, max_cat_to_onehot=None,\n",
       "              max_delta_step=None, max_depth=None, max_leaves=None,\n",
       "              min_child_weight=None, missing=nan, monotone_constraints=None,\n",
       "              n_estimators=100, n_jobs=None, num_parallel_tree=None,\n",
       "              predictor=None, random_state=None, ...)</pre></div></div></div></div></div></div></div></div></div></div>"
      ],
      "text/plain": [
       "RandomizedSearchCV(cv=3,\n",
       "                   estimator=XGBClassifier(base_score=None, booster=None,\n",
       "                                           callbacks=None,\n",
       "                                           colsample_bylevel=None,\n",
       "                                           colsample_bynode=None,\n",
       "                                           colsample_bytree=None,\n",
       "                                           early_stopping_rounds=None,\n",
       "                                           enable_categorical=False,\n",
       "                                           eval_metric=None, feature_types=None,\n",
       "                                           gamma=None, gpu_id=None,\n",
       "                                           grow_policy=None,\n",
       "                                           importance_type=None,\n",
       "                                           interaction_constraints=None,\n",
       "                                           learning_rate...\n",
       "                                           monotone_constraints=None,\n",
       "                                           n_estimators=100, n_jobs=None,\n",
       "                                           num_parallel_tree=None,\n",
       "                                           predictor=None, random_state=None, ...),\n",
       "                   n_iter=6,\n",
       "                   param_distributions={'colsample_bytree': [0.4],\n",
       "                                        'learning_rate': [0.002, 0.02, 0.2],\n",
       "                                        'max_depth': [6, 12],\n",
       "                                        'n_estimators': [1000, 5000],\n",
       "                                        'subsample': [0.4, 0.8],\n",
       "                                        'tree_method': ['gpu_hist']},\n",
       "                   random_state=10, return_train_score=True, scoring='roc_auc',\n",
       "                   verbose=20)"
      ]
     },
     "execution_count": 6,
     "metadata": {},
     "output_type": "execute_result"
    }
   ],
   "source": [
    "clf = xgb.XGBClassifier()\n",
    "\n",
    "param_grid = {\n",
    "        'max_depth': [6, 12],\n",
    "        'learning_rate': [0.002, 0.02, 0.2],\n",
    "        'subsample': [0.4, 0.8],\n",
    "        'colsample_bytree': [0.4],\n",
    "        'n_estimators': [1000, 5000],\n",
    "        'tree_method':['gpu_hist']}\n",
    "\n",
    "search = RandomizedSearchCV(clf, param_grid, n_iter=6, verbose=20, cv=3, \n",
    "                            scoring='roc_auc', return_train_score=True, random_state = 10)\n",
    "\n",
    "search.fit(X_train, y_train)"
   ]
  },
  {
   "cell_type": "code",
   "execution_count": 7,
   "metadata": {
    "executionInfo": {
     "elapsed": 17,
     "status": "ok",
     "timestamp": 1683099942685,
     "user": {
      "displayName": "Aniket Mayekar",
      "userId": "03479200196172620637"
     },
     "user_tz": -330
    },
    "id": "nQbD_2im14Pi"
   },
   "outputs": [],
   "source": [
    "results = pd.DataFrame.from_dict(search.cv_results_)\n",
    "train_auc= results['mean_train_score']\n",
    "train_auc_std= results['std_train_score']\n",
    "cv_auc = results['mean_test_score'] \n",
    "cv_auc_std = results['std_test_score']"
   ]
  },
  {
   "cell_type": "code",
   "execution_count": 8,
   "metadata": {
    "colab": {
     "base_uri": "https://localhost:8080/"
    },
    "executionInfo": {
     "elapsed": 14,
     "status": "ok",
     "timestamp": 1683099942686,
     "user": {
      "displayName": "Aniket Mayekar",
      "userId": "03479200196172620637"
     },
     "user_tz": -330
    },
    "id": "y47p7ZBs14SG",
    "outputId": "3faeed82-b348-4ce2-fc48-0a78fe44b518"
   },
   "outputs": [
    {
     "name": "stdout",
     "output_type": "stream",
     "text": [
      "Best Parameters: {'tree_method': 'gpu_hist', 'subsample': 0.8, 'n_estimators': 5000, 'max_depth': 12, 'learning_rate': 0.002, 'colsample_bytree': 0.4}\n",
      "Best Score: 0.9261822292845769\n"
     ]
    }
   ],
   "source": [
    "print('Best Parameters:' , search.best_params_)\n",
    "print('Best Score:' , search.best_score_)"
   ]
  },
  {
   "cell_type": "code",
   "execution_count": 9,
   "metadata": {
    "executionInfo": {
     "elapsed": 11,
     "status": "ok",
     "timestamp": 1683099942687,
     "user": {
      "displayName": "Aniket Mayekar",
      "userId": "03479200196172620637"
     },
     "user_tz": -330
    },
    "id": "IswCYzaB14VF"
   },
   "outputs": [],
   "source": [
    "best_learning_rate = search.best_params_['learning_rate']\n",
    "best_estimator = search.best_params_['n_estimators']\n",
    "best_depth = search.best_params_['max_depth']\n",
    "best_subsample = search.best_params_['subsample']\n",
    "best_colsample_bytree = search.best_params_['colsample_bytree']"
   ]
  },
  {
   "cell_type": "markdown",
   "metadata": {
    "id": "sVPmVisPUSJc"
   },
   "source": [
    "6 fold cross validation"
   ]
  },
  {
   "cell_type": "code",
   "execution_count": 19,
   "metadata": {
    "colab": {
     "base_uri": "https://localhost:8080/"
    },
    "executionInfo": {
     "elapsed": 3364692,
     "status": "ok",
     "timestamp": 1683106731782,
     "user": {
      "displayName": "Aniket Mayekar",
      "userId": "03479200196172620637"
     },
     "user_tz": -330
    },
    "id": "k--uDAGr14X_",
    "outputId": "f3eaa0b2-012f-4bc0-cb8b-3d258b657419"
   },
   "outputs": [
    {
     "name": "stdout",
     "output_type": "stream",
     "text": [
      "Fold 0\n",
      "rows of train = 490884 rows of holdout = 99654\n",
      "[0]\tvalidation_0-auc:0.86060\n",
      "[250]\tvalidation_0-auc:0.90465\n",
      "[500]\tvalidation_0-auc:0.91227\n",
      "[750]\tvalidation_0-auc:0.92003\n",
      "[1000]\tvalidation_0-auc:0.92776\n",
      "[1250]\tvalidation_0-auc:0.93478\n",
      "[1500]\tvalidation_0-auc:0.94044\n",
      "[1750]\tvalidation_0-auc:0.94510\n",
      "[2000]\tvalidation_0-auc:0.94977\n",
      "[2250]\tvalidation_0-auc:0.95393\n",
      "[2500]\tvalidation_0-auc:0.95771\n",
      "[2750]\tvalidation_0-auc:0.96112\n",
      "[3000]\tvalidation_0-auc:0.96377\n",
      "[3250]\tvalidation_0-auc:0.96580\n",
      "[3500]\tvalidation_0-auc:0.96740\n",
      "[3750]\tvalidation_0-auc:0.96859\n",
      "[4000]\tvalidation_0-auc:0.96951\n",
      "[4250]\tvalidation_0-auc:0.97031\n",
      "[4500]\tvalidation_0-auc:0.97090\n",
      "[4750]\tvalidation_0-auc:0.97145\n",
      "[4999]\tvalidation_0-auc:0.97193\n",
      "Fold 1\n",
      "rows of train = 491530 rows of holdout = 99008\n",
      "[0]\tvalidation_0-auc:0.85882\n",
      "[250]\tvalidation_0-auc:0.89957\n",
      "[500]\tvalidation_0-auc:0.90628\n",
      "[750]\tvalidation_0-auc:0.91356\n",
      "[1000]\tvalidation_0-auc:0.92056\n",
      "[1250]\tvalidation_0-auc:0.92725\n",
      "[1500]\tvalidation_0-auc:0.93318\n",
      "[1750]\tvalidation_0-auc:0.93872\n",
      "[2000]\tvalidation_0-auc:0.94406\n",
      "[2250]\tvalidation_0-auc:0.94875\n",
      "[2500]\tvalidation_0-auc:0.95296\n",
      "[2750]\tvalidation_0-auc:0.95644\n",
      "[3000]\tvalidation_0-auc:0.95922\n",
      "[3250]\tvalidation_0-auc:0.96137\n",
      "[3500]\tvalidation_0-auc:0.96302\n",
      "[3750]\tvalidation_0-auc:0.96443\n",
      "[4000]\tvalidation_0-auc:0.96553\n",
      "[4250]\tvalidation_0-auc:0.96654\n",
      "[4500]\tvalidation_0-auc:0.96737\n",
      "[4750]\tvalidation_0-auc:0.96808\n",
      "[4999]\tvalidation_0-auc:0.96875\n",
      "Fold 2\n",
      "rows of train = 492132 rows of holdout = 98406\n",
      "[0]\tvalidation_0-auc:0.83441\n",
      "[250]\tvalidation_0-auc:0.88173\n",
      "[500]\tvalidation_0-auc:0.88951\n",
      "[750]\tvalidation_0-auc:0.89879\n",
      "[1000]\tvalidation_0-auc:0.90809\n",
      "[1250]\tvalidation_0-auc:0.91670\n",
      "[1500]\tvalidation_0-auc:0.92439\n",
      "[1750]\tvalidation_0-auc:0.93109\n",
      "[2000]\tvalidation_0-auc:0.93750\n",
      "[2250]\tvalidation_0-auc:0.94314\n",
      "[2500]\tvalidation_0-auc:0.94790\n",
      "[2750]\tvalidation_0-auc:0.95221\n",
      "[3000]\tvalidation_0-auc:0.95554\n",
      "[3250]\tvalidation_0-auc:0.95802\n",
      "[3500]\tvalidation_0-auc:0.95992\n",
      "[3750]\tvalidation_0-auc:0.96133\n",
      "[4000]\tvalidation_0-auc:0.96245\n",
      "[4250]\tvalidation_0-auc:0.96334\n",
      "[4500]\tvalidation_0-auc:0.96412\n",
      "[4750]\tvalidation_0-auc:0.96476\n",
      "[4999]\tvalidation_0-auc:0.96533\n",
      "Fold 3\n",
      "rows of train = 492561 rows of holdout = 97977\n",
      "[0]\tvalidation_0-auc:0.87011\n",
      "[250]\tvalidation_0-auc:0.90851\n",
      "[500]\tvalidation_0-auc:0.91528\n",
      "[750]\tvalidation_0-auc:0.92316\n",
      "[1000]\tvalidation_0-auc:0.93117\n",
      "[1250]\tvalidation_0-auc:0.93771\n",
      "[1500]\tvalidation_0-auc:0.94322\n",
      "[1750]\tvalidation_0-auc:0.94831\n",
      "[2000]\tvalidation_0-auc:0.95290\n",
      "[2250]\tvalidation_0-auc:0.95695\n",
      "[2500]\tvalidation_0-auc:0.96041\n",
      "[2750]\tvalidation_0-auc:0.96349\n",
      "[3000]\tvalidation_0-auc:0.96588\n",
      "[3250]\tvalidation_0-auc:0.96767\n",
      "[3500]\tvalidation_0-auc:0.96905\n",
      "[3750]\tvalidation_0-auc:0.97023\n",
      "[4000]\tvalidation_0-auc:0.97114\n",
      "[4250]\tvalidation_0-auc:0.97195\n",
      "[4500]\tvalidation_0-auc:0.97261\n",
      "[4750]\tvalidation_0-auc:0.97312\n",
      "[4999]\tvalidation_0-auc:0.97362\n",
      "Fold 4\n",
      "rows of train = 492243 rows of holdout = 98295\n",
      "[0]\tvalidation_0-auc:0.85762\n",
      "[250]\tvalidation_0-auc:0.89848\n",
      "[500]\tvalidation_0-auc:0.90432\n",
      "[750]\tvalidation_0-auc:0.91186\n",
      "[1000]\tvalidation_0-auc:0.91969\n",
      "[1250]\tvalidation_0-auc:0.92631\n",
      "[1500]\tvalidation_0-auc:0.93197\n",
      "[1750]\tvalidation_0-auc:0.93746\n",
      "[2000]\tvalidation_0-auc:0.94265\n",
      "[2250]\tvalidation_0-auc:0.94711\n",
      "[2500]\tvalidation_0-auc:0.95116\n",
      "[2750]\tvalidation_0-auc:0.95505\n",
      "[3000]\tvalidation_0-auc:0.95822\n",
      "[3250]\tvalidation_0-auc:0.96053\n",
      "[3500]\tvalidation_0-auc:0.96231\n",
      "[3750]\tvalidation_0-auc:0.96371\n",
      "[4000]\tvalidation_0-auc:0.96484\n",
      "[4250]\tvalidation_0-auc:0.96586\n",
      "[4500]\tvalidation_0-auc:0.96666\n",
      "[4750]\tvalidation_0-auc:0.96730\n",
      "[4999]\tvalidation_0-auc:0.96792\n",
      "Fold 5\n",
      "rows of train = 493340 rows of holdout = 97198\n",
      "[0]\tvalidation_0-auc:0.86321\n",
      "[250]\tvalidation_0-auc:0.90205\n",
      "[500]\tvalidation_0-auc:0.90826\n",
      "[750]\tvalidation_0-auc:0.91582\n",
      "[1000]\tvalidation_0-auc:0.92352\n",
      "[1250]\tvalidation_0-auc:0.93026\n",
      "[1500]\tvalidation_0-auc:0.93627\n",
      "[1750]\tvalidation_0-auc:0.94181\n",
      "[2000]\tvalidation_0-auc:0.94696\n",
      "[2250]\tvalidation_0-auc:0.95161\n",
      "[2500]\tvalidation_0-auc:0.95571\n",
      "[2750]\tvalidation_0-auc:0.95944\n",
      "[3000]\tvalidation_0-auc:0.96219\n",
      "[3250]\tvalidation_0-auc:0.96418\n",
      "[3500]\tvalidation_0-auc:0.96572\n",
      "[3750]\tvalidation_0-auc:0.96691\n",
      "[4000]\tvalidation_0-auc:0.96779\n",
      "[4250]\tvalidation_0-auc:0.96859\n",
      "[4500]\tvalidation_0-auc:0.96926\n",
      "[4750]\tvalidation_0-auc:0.96980\n",
      "[4999]\tvalidation_0-auc:0.97027\n",
      "#########################\n",
      "XGB CV= 0.9698196009140594\n"
     ]
    }
   ],
   "source": [
    "tr_pred = np.zeros(len(X_train))\n",
    "preds = np.zeros(len(X_test))\n",
    "\n",
    "skf = GroupKFold(n_splits=6)\n",
    "for i, (idx_tr, idx_cv) in enumerate(skf.split(X_train, y_train, groups=X_train['TransactionHours'])):\n",
    "    print('Fold',i)\n",
    "    print('rows of train =',len(idx_tr),'rows of holdout =',len(idx_cv))\n",
    "    clf = xgb.XGBClassifier(\n",
    "          n_estimators=5000,\n",
    "          max_depth=12,\n",
    "          learning_rate=0.002,\n",
    "          subsample=0.8,\n",
    "          colsample_bytree=0.4,\n",
    "          missing=-1,\n",
    "          eval_metric='auc',\n",
    "          tree_method='gpu_hist' \n",
    "          )\n",
    "\n",
    "    h = clf.fit(X_train.iloc[idx_tr], y_train.iloc[idx_tr], eval_set=[(X_train.iloc[idx_cv],y_train.iloc[idx_cv])],\n",
    "                verbose=250, early_stopping_rounds=200)\n",
    "\n",
    "    tr_pred[idx_cv] += clf.predict_proba(X_train.iloc[idx_cv])[:,1]\n",
    "    preds += clf.predict_proba(X_test)[:,1]/skf.n_splits\n",
    "\n",
    "    del h, clf\n",
    "\n",
    "print('#'*25)\n",
    "print ('XGB CV=',roc_auc_score(y_train,tr_pred)) #Total Train dataset"
   ]
  },
  {
   "cell_type": "markdown",
   "metadata": {
    "id": "lnj5RQ-fWX9B"
   },
   "source": [
    "Final submission on Kaggle"
   ]
  },
  {
   "cell_type": "code",
   "execution_count": 20,
   "metadata": {
    "colab": {
     "base_uri": "https://localhost:8080/",
     "height": 248
    },
    "executionInfo": {
     "elapsed": 412976,
     "status": "ok",
     "timestamp": 1683107147010,
     "user": {
      "displayName": "Aniket Mayekar",
      "userId": "03479200196172620637"
     },
     "user_tz": -330
    },
    "id": "686iiz9IVBHn",
    "outputId": "992aa637-5dd9-48fd-e918-cd94636696de"
   },
   "outputs": [
    {
     "data": {
      "text/html": [
       "<style>#sk-container-id-2 {color: black;background-color: white;}#sk-container-id-2 pre{padding: 0;}#sk-container-id-2 div.sk-toggleable {background-color: white;}#sk-container-id-2 label.sk-toggleable__label {cursor: pointer;display: block;width: 100%;margin-bottom: 0;padding: 0.3em;box-sizing: border-box;text-align: center;}#sk-container-id-2 label.sk-toggleable__label-arrow:before {content: \"▸\";float: left;margin-right: 0.25em;color: #696969;}#sk-container-id-2 label.sk-toggleable__label-arrow:hover:before {color: black;}#sk-container-id-2 div.sk-estimator:hover label.sk-toggleable__label-arrow:before {color: black;}#sk-container-id-2 div.sk-toggleable__content {max-height: 0;max-width: 0;overflow: hidden;text-align: left;background-color: #f0f8ff;}#sk-container-id-2 div.sk-toggleable__content pre {margin: 0.2em;color: black;border-radius: 0.25em;background-color: #f0f8ff;}#sk-container-id-2 input.sk-toggleable__control:checked~div.sk-toggleable__content {max-height: 200px;max-width: 100%;overflow: auto;}#sk-container-id-2 input.sk-toggleable__control:checked~label.sk-toggleable__label-arrow:before {content: \"▾\";}#sk-container-id-2 div.sk-estimator input.sk-toggleable__control:checked~label.sk-toggleable__label {background-color: #d4ebff;}#sk-container-id-2 div.sk-label input.sk-toggleable__control:checked~label.sk-toggleable__label {background-color: #d4ebff;}#sk-container-id-2 input.sk-hidden--visually {border: 0;clip: rect(1px 1px 1px 1px);clip: rect(1px, 1px, 1px, 1px);height: 1px;margin: -1px;overflow: hidden;padding: 0;position: absolute;width: 1px;}#sk-container-id-2 div.sk-estimator {font-family: monospace;background-color: #f0f8ff;border: 1px dotted black;border-radius: 0.25em;box-sizing: border-box;margin-bottom: 0.5em;}#sk-container-id-2 div.sk-estimator:hover {background-color: #d4ebff;}#sk-container-id-2 div.sk-parallel-item::after {content: \"\";width: 100%;border-bottom: 1px solid gray;flex-grow: 1;}#sk-container-id-2 div.sk-label:hover label.sk-toggleable__label {background-color: #d4ebff;}#sk-container-id-2 div.sk-serial::before {content: \"\";position: absolute;border-left: 1px solid gray;box-sizing: border-box;top: 0;bottom: 0;left: 50%;z-index: 0;}#sk-container-id-2 div.sk-serial {display: flex;flex-direction: column;align-items: center;background-color: white;padding-right: 0.2em;padding-left: 0.2em;position: relative;}#sk-container-id-2 div.sk-item {position: relative;z-index: 1;}#sk-container-id-2 div.sk-parallel {display: flex;align-items: stretch;justify-content: center;background-color: white;position: relative;}#sk-container-id-2 div.sk-item::before, #sk-container-id-2 div.sk-parallel-item::before {content: \"\";position: absolute;border-left: 1px solid gray;box-sizing: border-box;top: 0;bottom: 0;left: 50%;z-index: -1;}#sk-container-id-2 div.sk-parallel-item {display: flex;flex-direction: column;z-index: 1;position: relative;background-color: white;}#sk-container-id-2 div.sk-parallel-item:first-child::after {align-self: flex-end;width: 50%;}#sk-container-id-2 div.sk-parallel-item:last-child::after {align-self: flex-start;width: 50%;}#sk-container-id-2 div.sk-parallel-item:only-child::after {width: 0;}#sk-container-id-2 div.sk-dashed-wrapped {border: 1px dashed gray;margin: 0 0.4em 0.5em 0.4em;box-sizing: border-box;padding-bottom: 0.4em;background-color: white;}#sk-container-id-2 div.sk-label label {font-family: monospace;font-weight: bold;display: inline-block;line-height: 1.2em;}#sk-container-id-2 div.sk-label-container {text-align: center;}#sk-container-id-2 div.sk-container {/* jupyter's `normalize.less` sets `[hidden] { display: none; }` but bootstrap.min.css set `[hidden] { display: none !important; }` so we also need the `!important` here to be able to override the default hidden behavior on the sphinx rendered scikit-learn.org. See: https://github.com/scikit-learn/scikit-learn/issues/21755 */display: inline-block !important;position: relative;}#sk-container-id-2 div.sk-text-repr-fallback {display: none;}</style><div id=\"sk-container-id-2\" class=\"sk-top-container\"><div class=\"sk-text-repr-fallback\"><pre>XGBClassifier(base_score=None, booster=None, callbacks=None,\n",
       "              colsample_bylevel=None, colsample_bynode=None,\n",
       "              colsample_bytree=0.4, early_stopping_rounds=None,\n",
       "              enable_categorical=False, eval_metric=&#x27;auc&#x27;, feature_types=None,\n",
       "              gamma=None, gpu_id=None, grow_policy=None, importance_type=None,\n",
       "              interaction_constraints=None, learning_rate=0.002, max_bin=None,\n",
       "              max_cat_threshold=None, max_cat_to_onehot=None,\n",
       "              max_delta_step=None, max_depth=12, max_leaves=None,\n",
       "              min_child_weight=None, missing=-1, monotone_constraints=None,\n",
       "              n_estimators=5000, n_jobs=None, num_parallel_tree=None,\n",
       "              predictor=None, random_state=None, ...)</pre><b>In a Jupyter environment, please rerun this cell to show the HTML representation or trust the notebook. <br />On GitHub, the HTML representation is unable to render, please try loading this page with nbviewer.org.</b></div><div class=\"sk-container\" hidden><div class=\"sk-item\"><div class=\"sk-estimator sk-toggleable\"><input class=\"sk-toggleable__control sk-hidden--visually\" id=\"sk-estimator-id-4\" type=\"checkbox\" checked><label for=\"sk-estimator-id-4\" class=\"sk-toggleable__label sk-toggleable__label-arrow\">XGBClassifier</label><div class=\"sk-toggleable__content\"><pre>XGBClassifier(base_score=None, booster=None, callbacks=None,\n",
       "              colsample_bylevel=None, colsample_bynode=None,\n",
       "              colsample_bytree=0.4, early_stopping_rounds=None,\n",
       "              enable_categorical=False, eval_metric=&#x27;auc&#x27;, feature_types=None,\n",
       "              gamma=None, gpu_id=None, grow_policy=None, importance_type=None,\n",
       "              interaction_constraints=None, learning_rate=0.002, max_bin=None,\n",
       "              max_cat_threshold=None, max_cat_to_onehot=None,\n",
       "              max_delta_step=None, max_depth=12, max_leaves=None,\n",
       "              min_child_weight=None, missing=-1, monotone_constraints=None,\n",
       "              n_estimators=5000, n_jobs=None, num_parallel_tree=None,\n",
       "              predictor=None, random_state=None, ...)</pre></div></div></div></div></div>"
      ],
      "text/plain": [
       "XGBClassifier(base_score=None, booster=None, callbacks=None,\n",
       "              colsample_bylevel=None, colsample_bynode=None,\n",
       "              colsample_bytree=0.4, early_stopping_rounds=None,\n",
       "              enable_categorical=False, eval_metric='auc', feature_types=None,\n",
       "              gamma=None, gpu_id=None, grow_policy=None, importance_type=None,\n",
       "              interaction_constraints=None, learning_rate=0.002, max_bin=None,\n",
       "              max_cat_threshold=None, max_cat_to_onehot=None,\n",
       "              max_delta_step=None, max_depth=12, max_leaves=None,\n",
       "              min_child_weight=None, missing=-1, monotone_constraints=None,\n",
       "              n_estimators=5000, n_jobs=None, num_parallel_tree=None,\n",
       "              predictor=None, random_state=None, ...)"
      ]
     },
     "execution_count": 20,
     "metadata": {},
     "output_type": "execute_result"
    }
   ],
   "source": [
    "# Setting up the classifier\n",
    "\n",
    "fxgboost = XGBClassifier(\n",
    "          objective='binary:logistic',\n",
    "          eval_metric='auc',\n",
    "          n_estimators=5000,\n",
    "          tree_method='gpu_hist',\n",
    "          subsample=0.8,\n",
    "          max_depth=12,\n",
    "          colsample_bytree=0.4,\n",
    "          learning_rate=0.002,\n",
    "          missing=-1\n",
    "          )\n",
    "\n",
    "fxgboost.fit(X_train, y_train)"
   ]
  },
  {
   "cell_type": "code",
   "execution_count": 21,
   "metadata": {
    "executionInfo": {
     "elapsed": 143988,
     "status": "ok",
     "timestamp": 1683107290994,
     "user": {
      "displayName": "Aniket Mayekar",
      "userId": "03479200196172620637"
     },
     "user_tz": -330
    },
    "id": "sUzA2dE6XgKJ"
   },
   "outputs": [],
   "source": [
    "# Prediction for test data\n",
    "fxgboost_test_proba = fxgboost.predict_proba(X_test)[:,1]\n",
    "predict_and_save(fxgboost_test_proba, '/content/drive/MyDrive/Self_Case_Study_1/ipynb/to_predict/xgboost_test_f.csv')"
   ]
  },
  {
   "attachments": {
    "final_xgboost.png": {
     "image/png": "[encoded data removed]"
    }
   },
   "cell_type": "markdown",
   "metadata": {},
   "source": [
    "![final_xgboost.png](attachment:final_xgboost.png)"
   ]
  },
  {
   "cell_type": "markdown",
   "metadata": {},
   "source": [
    "### Final Kaggle Score"
   ]
  },
  {
   "cell_type": "markdown",
   "metadata": {},
   "source": [
    "Private Score: 0.921069\n",
    "\n",
    "Public Score: 0.949205"
   ]
  },
  {
   "cell_type": "code",
   "execution_count": null,
   "metadata": {},
   "outputs": [],
   "source": []
  }
 ],
 "metadata": {
  "accelerator": "GPU",
  "colab": {
   "authorship_tag": "ABX9TyNMzWts+egnNj8+CKKYjdXr",
   "machine_shape": "hm",
   "provenance": []
  },
  "gpuClass": "standard",
  "kernelspec": {
   "display_name": "Python 3 (ipykernel)",
   "language": "python",
   "name": "python3"
  },
  "language_info": {
   "codemirror_mode": {
    "name": "ipython",
    "version": 3
   },
   "file_extension": ".py",
   "mimetype": "text/x-python",
   "name": "python",
   "nbconvert_exporter": "python",
   "pygments_lexer": "ipython3",
   "version": "3.9.16"
  }
 },
 "nbformat": 4,
 "nbformat_minor": 1
}
