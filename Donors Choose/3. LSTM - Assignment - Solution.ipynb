{
 "cells": [
  {
   "cell_type": "markdown",
   "metadata": {},
   "source": [
    "## Assignment : LSTM on Donors Choose"
   ]
  },
  {
   "cell_type": "code",
   "execution_count": 1,
   "metadata": {},
   "outputs": [],
   "source": [
    "import pandas as pd\n",
    "import numpy as np"
   ]
  },
  {
   "cell_type": "code",
   "execution_count": 2,
   "metadata": {},
   "outputs": [],
   "source": [
    "data = pd.read_csv('preprocessed_data.csv')"
   ]
  },
  {
   "cell_type": "code",
   "execution_count": 3,
   "metadata": {},
   "outputs": [
    {
     "data": {
      "text/html": [
       "<div>\n",
       "<style scoped>\n",
       "    .dataframe tbody tr th:only-of-type {\n",
       "        vertical-align: middle;\n",
       "    }\n",
       "\n",
       "    .dataframe tbody tr th {\n",
       "        vertical-align: top;\n",
       "    }\n",
       "\n",
       "    .dataframe thead th {\n",
       "        text-align: right;\n",
       "    }\n",
       "</style>\n",
       "<table border=\"1\" class=\"dataframe\">\n",
       "  <thead>\n",
       "    <tr style=\"text-align: right;\">\n",
       "      <th></th>\n",
       "      <th>school_state</th>\n",
       "      <th>teacher_prefix</th>\n",
       "      <th>project_grade_category</th>\n",
       "      <th>teacher_number_of_previously_posted_projects</th>\n",
       "      <th>project_is_approved</th>\n",
       "      <th>clean_categories</th>\n",
       "      <th>clean_subcategories</th>\n",
       "      <th>essay</th>\n",
       "      <th>price</th>\n",
       "    </tr>\n",
       "  </thead>\n",
       "  <tbody>\n",
       "    <tr>\n",
       "      <th>0</th>\n",
       "      <td>ca</td>\n",
       "      <td>mrs</td>\n",
       "      <td>grades_prek_2</td>\n",
       "      <td>53</td>\n",
       "      <td>1</td>\n",
       "      <td>math_science</td>\n",
       "      <td>appliedsciences health_lifescience</td>\n",
       "      <td>i fortunate enough use fairy tale stem kits cl...</td>\n",
       "      <td>725.05</td>\n",
       "    </tr>\n",
       "    <tr>\n",
       "      <th>1</th>\n",
       "      <td>ut</td>\n",
       "      <td>ms</td>\n",
       "      <td>grades_3_5</td>\n",
       "      <td>4</td>\n",
       "      <td>1</td>\n",
       "      <td>specialneeds</td>\n",
       "      <td>specialneeds</td>\n",
       "      <td>imagine 8 9 years old you third grade classroo...</td>\n",
       "      <td>213.03</td>\n",
       "    </tr>\n",
       "    <tr>\n",
       "      <th>2</th>\n",
       "      <td>ca</td>\n",
       "      <td>mrs</td>\n",
       "      <td>grades_prek_2</td>\n",
       "      <td>10</td>\n",
       "      <td>1</td>\n",
       "      <td>literacy_language</td>\n",
       "      <td>literacy</td>\n",
       "      <td>having class 24 students comes diverse learner...</td>\n",
       "      <td>329.00</td>\n",
       "    </tr>\n",
       "    <tr>\n",
       "      <th>3</th>\n",
       "      <td>ga</td>\n",
       "      <td>mrs</td>\n",
       "      <td>grades_prek_2</td>\n",
       "      <td>2</td>\n",
       "      <td>1</td>\n",
       "      <td>appliedlearning</td>\n",
       "      <td>earlydevelopment</td>\n",
       "      <td>i recently read article giving students choice...</td>\n",
       "      <td>481.04</td>\n",
       "    </tr>\n",
       "    <tr>\n",
       "      <th>4</th>\n",
       "      <td>wa</td>\n",
       "      <td>mrs</td>\n",
       "      <td>grades_3_5</td>\n",
       "      <td>2</td>\n",
       "      <td>1</td>\n",
       "      <td>literacy_language</td>\n",
       "      <td>literacy</td>\n",
       "      <td>my students crave challenge eat obstacles brea...</td>\n",
       "      <td>17.74</td>\n",
       "    </tr>\n",
       "    <tr>\n",
       "      <th>...</th>\n",
       "      <td>...</td>\n",
       "      <td>...</td>\n",
       "      <td>...</td>\n",
       "      <td>...</td>\n",
       "      <td>...</td>\n",
       "      <td>...</td>\n",
       "      <td>...</td>\n",
       "      <td>...</td>\n",
       "      <td>...</td>\n",
       "    </tr>\n",
       "    <tr>\n",
       "      <th>109243</th>\n",
       "      <td>hi</td>\n",
       "      <td>mrs</td>\n",
       "      <td>grades_9_12</td>\n",
       "      <td>5</td>\n",
       "      <td>1</td>\n",
       "      <td>health_sports</td>\n",
       "      <td>teamsports</td>\n",
       "      <td>our day starts 100 students athletes low incom...</td>\n",
       "      <td>143.36</td>\n",
       "    </tr>\n",
       "    <tr>\n",
       "      <th>109244</th>\n",
       "      <td>nm</td>\n",
       "      <td>ms</td>\n",
       "      <td>grades_prek_2</td>\n",
       "      <td>3</td>\n",
       "      <td>1</td>\n",
       "      <td>appliedlearning</td>\n",
       "      <td>earlydevelopment other</td>\n",
       "      <td>my students range age four five years old atte...</td>\n",
       "      <td>268.57</td>\n",
       "    </tr>\n",
       "    <tr>\n",
       "      <th>109245</th>\n",
       "      <td>il</td>\n",
       "      <td>mrs</td>\n",
       "      <td>grades_3_5</td>\n",
       "      <td>0</td>\n",
       "      <td>1</td>\n",
       "      <td>math_science</td>\n",
       "      <td>appliedsciences environmentalscience</td>\n",
       "      <td>we title 1 school 650 total students our eleme...</td>\n",
       "      <td>399.00</td>\n",
       "    </tr>\n",
       "    <tr>\n",
       "      <th>109246</th>\n",
       "      <td>hi</td>\n",
       "      <td>mrs</td>\n",
       "      <td>grades_9_12</td>\n",
       "      <td>1</td>\n",
       "      <td>1</td>\n",
       "      <td>math_science</td>\n",
       "      <td>health_lifescience</td>\n",
       "      <td>i teach many different types students my class...</td>\n",
       "      <td>287.73</td>\n",
       "    </tr>\n",
       "    <tr>\n",
       "      <th>109247</th>\n",
       "      <td>ca</td>\n",
       "      <td>mrs</td>\n",
       "      <td>grades_prek_2</td>\n",
       "      <td>2</td>\n",
       "      <td>1</td>\n",
       "      <td>literacy_language</td>\n",
       "      <td>literacy literature_writing</td>\n",
       "      <td>my first graders eager learn world around they...</td>\n",
       "      <td>5.50</td>\n",
       "    </tr>\n",
       "  </tbody>\n",
       "</table>\n",
       "<p>109248 rows × 9 columns</p>\n",
       "</div>"
      ],
      "text/plain": [
       "       school_state teacher_prefix project_grade_category  \\\n",
       "0                ca            mrs          grades_prek_2   \n",
       "1                ut             ms             grades_3_5   \n",
       "2                ca            mrs          grades_prek_2   \n",
       "3                ga            mrs          grades_prek_2   \n",
       "4                wa            mrs             grades_3_5   \n",
       "...             ...            ...                    ...   \n",
       "109243           hi            mrs            grades_9_12   \n",
       "109244           nm             ms          grades_prek_2   \n",
       "109245           il            mrs             grades_3_5   \n",
       "109246           hi            mrs            grades_9_12   \n",
       "109247           ca            mrs          grades_prek_2   \n",
       "\n",
       "        teacher_number_of_previously_posted_projects  project_is_approved  \\\n",
       "0                                                 53                    1   \n",
       "1                                                  4                    1   \n",
       "2                                                 10                    1   \n",
       "3                                                  2                    1   \n",
       "4                                                  2                    1   \n",
       "...                                              ...                  ...   \n",
       "109243                                             5                    1   \n",
       "109244                                             3                    1   \n",
       "109245                                             0                    1   \n",
       "109246                                             1                    1   \n",
       "109247                                             2                    1   \n",
       "\n",
       "         clean_categories                   clean_subcategories  \\\n",
       "0            math_science    appliedsciences health_lifescience   \n",
       "1            specialneeds                          specialneeds   \n",
       "2       literacy_language                              literacy   \n",
       "3         appliedlearning                      earlydevelopment   \n",
       "4       literacy_language                              literacy   \n",
       "...                   ...                                   ...   \n",
       "109243      health_sports                            teamsports   \n",
       "109244    appliedlearning                earlydevelopment other   \n",
       "109245       math_science  appliedsciences environmentalscience   \n",
       "109246       math_science                    health_lifescience   \n",
       "109247  literacy_language           literacy literature_writing   \n",
       "\n",
       "                                                    essay   price  \n",
       "0       i fortunate enough use fairy tale stem kits cl...  725.05  \n",
       "1       imagine 8 9 years old you third grade classroo...  213.03  \n",
       "2       having class 24 students comes diverse learner...  329.00  \n",
       "3       i recently read article giving students choice...  481.04  \n",
       "4       my students crave challenge eat obstacles brea...   17.74  \n",
       "...                                                   ...     ...  \n",
       "109243  our day starts 100 students athletes low incom...  143.36  \n",
       "109244  my students range age four five years old atte...  268.57  \n",
       "109245  we title 1 school 650 total students our eleme...  399.00  \n",
       "109246  i teach many different types students my class...  287.73  \n",
       "109247  my first graders eager learn world around they...    5.50  \n",
       "\n",
       "[109248 rows x 9 columns]"
      ]
     },
     "execution_count": 3,
     "metadata": {},
     "output_type": "execute_result"
    }
   ],
   "source": [
    "data"
   ]
  },
  {
   "cell_type": "code",
   "execution_count": 4,
   "metadata": {},
   "outputs": [],
   "source": [
    "y = data['project_is_approved'].values"
   ]
  },
  {
   "cell_type": "code",
   "execution_count": 5,
   "metadata": {},
   "outputs": [],
   "source": [
    "x = data.drop(['project_is_approved'], axis = 1)"
   ]
  },
  {
   "cell_type": "code",
   "execution_count": 6,
   "metadata": {},
   "outputs": [
    {
     "data": {
      "text/plain": [
       "(109248, 8)"
      ]
     },
     "execution_count": 6,
     "metadata": {},
     "output_type": "execute_result"
    }
   ],
   "source": [
    "x.shape"
   ]
  },
  {
   "cell_type": "code",
   "execution_count": 7,
   "metadata": {},
   "outputs": [],
   "source": [
    "from sklearn.model_selection import train_test_split\n",
    "x_train, x_test, y_train, y_test = train_test_split(x, y, random_state=15, test_size=0.25, stratify = y)"
   ]
  },
  {
   "cell_type": "code",
   "execution_count": 8,
   "metadata": {},
   "outputs": [],
   "source": [
    "from keras.utils import to_categorical\n",
    "y_train = to_categorical(y_train)\n",
    "y_test = to_categorical(y_test)"
   ]
  },
  {
   "cell_type": "code",
   "execution_count": 9,
   "metadata": {},
   "outputs": [
    {
     "name": "stdout",
     "output_type": "stream",
     "text": [
      "[[1. 0.]\n",
      " [1. 0.]\n",
      " [1. 0.]\n",
      " [0. 1.]\n",
      " [0. 1.]\n",
      " [1. 0.]\n",
      " [0. 1.]\n",
      " [0. 1.]\n",
      " [1. 0.]\n",
      " [0. 1.]]\n"
     ]
    }
   ],
   "source": [
    "print(y_test[:10])"
   ]
  },
  {
   "cell_type": "markdown",
   "metadata": {},
   "source": [
    "### Model 1 - Word Embedding"
   ]
  },
  {
   "cell_type": "code",
   "execution_count": 10,
   "metadata": {},
   "outputs": [],
   "source": [
    "from nltk.tokenize import word_tokenize \n",
    "from tensorflow.keras.preprocessing.sequence import pad_sequences\n",
    "from keras.preprocessing.text import Tokenizer, text_to_word_sequence"
   ]
  },
  {
   "cell_type": "code",
   "execution_count": 11,
   "metadata": {},
   "outputs": [],
   "source": [
    "def processing(x_train,x_test):\n",
    "    \n",
    "    tokenizer = Tokenizer(filters='!\"#$%&()*+,-./:;<=>?@[\\\\]^`{|}~\\t\\n')\n",
    "    tokenizer.fit_on_texts(x_train)\n",
    "    train_sequences = tokenizer.texts_to_sequences(x_train)\n",
    "    word_index = tokenizer.word_index\n",
    "    vocab_size = len(word_index) + 1\n",
    "    max_len = max([len(x) for x in train_sequences])\n",
    "    train_padding = pad_sequences(train_sequences, maxlen=max_len)\n",
    "    test_sequences = tokenizer.texts_to_sequences(x_test)\n",
    "    test_padding = pad_sequences(test_sequences, maxlen=max_len)\n",
    "        \n",
    "    return train_padding, test_padding, max_len, word_index, vocab_size\n",
    "    "
   ]
  },
  {
   "cell_type": "code",
   "execution_count": 12,
   "metadata": {},
   "outputs": [],
   "source": [
    "essay_tr_padding, essay_te_padding , essay_max_len, essay_word_index, essay_vocab_size = processing(x_train['essay'], x_test['essay'])\n",
    "scst_tr_padding, scst_te_padding , scst_max_len, scst_word_index, scst_vocab_size = processing(x_train['school_state'], x_test['school_state'])\n",
    "grade_tr_padding, grade_te_padding , grade_max_len, grade_word_index, grade_vocab_size = processing(x_train['project_grade_category'], x_test['project_grade_category'])\n",
    "cleancat_tr_padding, cleancat_te_padding , cleancat_max_len, cleancat_word_index, cleancat_vocab_size = processing(x_train['clean_categories'], x_test['clean_categories'])\n",
    "cleansubcat_tr_padding, cleansubcat_te_padding , cleansubcat_max_len, cleansubcat_word_index, cleansubcat_vocab_size = processing(x_train['clean_subcategories'], x_test['clean_subcategories'])\n",
    "tea_tr_padding, tea_te_padding , tea_max_len, tea_word_index, tea_vocab_size = processing(x_train['teacher_prefix'], x_test['teacher_prefix'])"
   ]
  },
  {
   "cell_type": "code",
   "execution_count": 13,
   "metadata": {},
   "outputs": [
    {
     "data": {
      "text/plain": [
       "array([    0,     0,     0,     0,     0,     0,     0,     0,     0,\n",
       "           0,     0,     0,     0,     0,     0,     0,     0,     0,\n",
       "           0,     0,     0,     0,     0,     0,     0,     0,     0,\n",
       "           0,     0,     0,     0,     0,     0,     0,     0,     0,\n",
       "           0,     0,     0,     0,     0,     0,     0,     0,     0,\n",
       "           0,     0,     0,     0,     0,     0,     0,     0,     0,\n",
       "           0,     0,     0,     0,     0,     0,     0,     0,     0,\n",
       "           0,     0,     0,     0,     0,     0,     0,     0,     0,\n",
       "           0,     0,     0,     0,     0,     0,     0,     0,     0,\n",
       "           0,     0,     0,     0,     0,     0,     0,     0,     0,\n",
       "           0,     0,     0,     0,     0,     0,     0,     0,     0,\n",
       "           0,     0,     0,     0,     0,     0,     0,     0,     0,\n",
       "           0,     0,     0,     0,     0,     0,     0,     0,     0,\n",
       "           0,     0,     0,     0,     0,     0,     0,     0,     0,\n",
       "           0,     0,     0,     0,     0,     0,     0,     0,     0,\n",
       "           0,     0,     0,     0,     0,     0,     0,     0,     0,\n",
       "           0,     0,     0,     0,     0,     0,     0,     0,     0,\n",
       "           0,     0,     0,     0,     0,     0,     0,     0,     0,\n",
       "           0,     0,     0,     0,     0,     0,     0,     0,     0,\n",
       "           0,     0,     0,     0,     0,     0,     0,     0,     0,\n",
       "           0,     0,     0,     0,     0,     0,     0,     0,     0,\n",
       "           0,     0,     0,     0,     0,     0,     0,     0,     0,\n",
       "           0,     0,     0,     0,     0,     0,     0,     0,     0,\n",
       "           0,     0,     0,     0,     0,     0,     0,     0,     0,\n",
       "           0,     0,     0,     0,     0,     4, 38505,   367,   138,\n",
       "         386,     3,  2085,    50,   218,     5,  4403,    12,     1,\n",
       "          47,   287,    66,    39,    90,     3,   498,    82,  1223,\n",
       "         288,   169,  7340,    16,  2748,     1,   476,   366,  2198,\n",
       "          25,     3,   281,  3008,  1257,   169,   498,   281,   239,\n",
       "        2085,   441,   410,    27,   274,    26,   389,   263,   237,\n",
       "         451,     7,  1364,    50,   601,     1,   236,   673,   346,\n",
       "         159,  1573,   680,   102,    27,   272,  1380,  1366,   237,\n",
       "         451,   389,   263,   277,   248,    48,  1829,    50,  1120,\n",
       "           1,  1115,    57,   528,   553,  5164,  2224,  4681, 10021,\n",
       "         443,   652,   171,    12,     1,   270,    17,   102,     8,\n",
       "         240,     1,   270,   710,     6,  1873,    20,   243,    27,\n",
       "         498,   125,  8095,    29,    50,    43,     1,   144,   302,\n",
       "         205,   961,    57,  1980,   624,    13])"
      ]
     },
     "execution_count": 13,
     "metadata": {},
     "output_type": "execute_result"
    }
   ],
   "source": [
    "essay_te_padding[0]"
   ]
  },
  {
   "cell_type": "code",
   "execution_count": 14,
   "metadata": {},
   "outputs": [],
   "source": [
    "embedding_dict = {}\n",
    "file = open('glove/glove.6B.300d.txt', 'r', encoding = 'utf8')\n",
    "for line in file:\n",
    "    values = line.split()\n",
    "    word = values[0]\n",
    "    vectors = np.asarray(values[1:], 'float32')\n",
    "    embedding_dict[word] = vectors\n",
    "file.close()"
   ]
  },
  {
   "cell_type": "code",
   "execution_count": 15,
   "metadata": {},
   "outputs": [],
   "source": [
    "embedding_matrix = np.zeros((essay_vocab_size, 300))\n",
    "\n",
    "for word, i in essay_word_index.items():\n",
    "    if i < essay_vocab_size:\n",
    "        emb_vec = embedding_dict.get(word)\n",
    "    if emb_vec is not None:\n",
    "        embedding_matrix[i] = emb_vec"
   ]
  },
  {
   "cell_type": "code",
   "execution_count": 16,
   "metadata": {},
   "outputs": [
    {
     "data": {
      "text/plain": [
       "(50491, 300)"
      ]
     },
     "execution_count": 16,
     "metadata": {},
     "output_type": "execute_result"
    }
   ],
   "source": [
    "embedding_matrix.shape"
   ]
  },
  {
   "cell_type": "code",
   "execution_count": 17,
   "metadata": {},
   "outputs": [],
   "source": [
    "from sklearn.preprocessing import Normalizer\n",
    "from sklearn.preprocessing import StandardScaler"
   ]
  },
  {
   "cell_type": "code",
   "execution_count": 18,
   "metadata": {},
   "outputs": [],
   "source": [
    "def standard_scale(x_train,x_test):\n",
    "\n",
    "    standard_scaler = StandardScaler()\n",
    "    standard_scaler.fit(x_train.values.reshape(-1, 1))\n",
    "    x_train_standard = standard_scaler.transform(x_train.values.reshape(-1,1))\n",
    "    x_test_standard = standard_scaler.transform(x_test.values.reshape(-1,1))\n",
    "    \n",
    "    return x_train_standard, x_test_standard"
   ]
  },
  {
   "cell_type": "code",
   "execution_count": 19,
   "metadata": {},
   "outputs": [],
   "source": [
    "tr_price_standard, te_price_standard = standard_scale(x_train['price'], x_test['price'])\n",
    "tr_tea_pre_projects_standard, te_tea_pre_projects_standard = standard_scale(x_train['teacher_number_of_previously_posted_projects'], x_test['teacher_number_of_previously_posted_projects'])"
   ]
  },
  {
   "cell_type": "code",
   "execution_count": 20,
   "metadata": {},
   "outputs": [
    {
     "name": "stdout",
     "output_type": "stream",
     "text": [
      "(81936, 1)\n",
      "(81936, 1)\n"
     ]
    }
   ],
   "source": [
    "print(tr_price_standard.shape)\n",
    "print(tr_tea_pre_projects_standard.shape)"
   ]
  },
  {
   "cell_type": "code",
   "execution_count": 21,
   "metadata": {},
   "outputs": [],
   "source": [
    "num_fea_tr = np.hstack((tr_price_standard, tr_tea_pre_projects_standard))\n",
    "num_fea_te = np.hstack((te_price_standard, te_tea_pre_projects_standard))"
   ]
  },
  {
   "cell_type": "code",
   "execution_count": 22,
   "metadata": {},
   "outputs": [
    {
     "data": {
      "text/plain": [
       "(2,)"
      ]
     },
     "execution_count": 22,
     "metadata": {},
     "output_type": "execute_result"
    }
   ],
   "source": [
    "num_fea_tr[0].shape"
   ]
  },
  {
   "cell_type": "code",
   "execution_count": 23,
   "metadata": {},
   "outputs": [],
   "source": [
    "from keras.models import Sequential\n",
    "from keras.layers import Embedding\n",
    "from keras.layers import Dense\n",
    "from keras.layers import Flatten\n",
    "from keras.layers import Dense, InputLayer, Dropout, Flatten, BatchNormalization, Conv1D\n",
    "from keras.layers import Concatenate, Dense, LSTM, Input, concatenate\n",
    "from keras.layers import MaxPooling1D\n",
    "import tensorflow as tf\n",
    "from tensorflow import keras\n",
    "from tensorflow.keras import layers\n",
    "from tensorflow.keras.layers import Dense,Input,Activation\n",
    "from tensorflow.keras.models import Model\n",
    "from tensorflow.keras.models import Sequential\n",
    "from tensorflow.keras import initializers\n",
    "import datetime\n",
    "import os\n",
    "import sys\n",
    "from keras.preprocessing.text import Tokenizer\n",
    "from keras.utils import to_categorical\n",
    "from keras.layers import Activation, Conv2D, Input, Embedding, Reshape, MaxPool2D,MaxPool1D, Concatenate, Flatten, Dropout, Dense, Conv1D\n",
    "from keras.callbacks import ModelCheckpoint\n",
    "from keras.models import Model\n",
    "from keras.initializers import he_normal,glorot_normal\n",
    "from keras.optimizers import Adam\n",
    "from keras.regularizers import l1,l2\n",
    "import tensorflow as tf\n",
    "from sklearn.metrics import roc_auc_score\n",
    "from sklearn.datasets import make_classification\n",
    "from keras.models import Sequential\n",
    "from keras.layers import Dense\n",
    "from keras.utils import np_utils\n",
    "from keras.callbacks import Callback, EarlyStopping\n",
    "import warnings\n",
    "warnings.filterwarnings(\"ignore\")\n",
    "tf.compat.v1.disable_eager_execution()"
   ]
  },
  {
   "cell_type": "code",
   "execution_count": 24,
   "metadata": {},
   "outputs": [
    {
     "name": "stdout",
     "output_type": "stream",
     "text": [
      "Model: \"model\"\n",
      "__________________________________________________________________________________________________\n",
      " Layer (type)                   Output Shape         Param #     Connected to                     \n",
      "==================================================================================================\n",
      " input_1 (InputLayer)           [(None, 339)]        0           []                               \n",
      "                                                                                                  \n",
      " embedding (Embedding)          (None, 339, 300)     15147300    ['input_1[0][0]']                \n",
      "                                                                                                  \n",
      " input_2 (InputLayer)           [(None, 1)]          0           []                               \n",
      "                                                                                                  \n",
      " input_3 (InputLayer)           [(None, 1)]          0           []                               \n",
      "                                                                                                  \n",
      " input_4 (InputLayer)           [(None, 3)]          0           []                               \n",
      "                                                                                                  \n",
      " input_5 (InputLayer)           [(None, 3)]          0           []                               \n",
      "                                                                                                  \n",
      " input_6 (InputLayer)           [(None, 1)]          0           []                               \n",
      "                                                                                                  \n",
      " lstm (LSTM)                    (None, 339, 100)     160400      ['embedding[0][0]']              \n",
      "                                                                                                  \n",
      " embedding_1 (Embedding)        (None, 1, 10)        520         ['input_2[0][0]']                \n",
      "                                                                                                  \n",
      " embedding_2 (Embedding)        (None, 1, 10)        50          ['input_3[0][0]']                \n",
      "                                                                                                  \n",
      " embedding_3 (Embedding)        (None, 3, 10)        100         ['input_4[0][0]']                \n",
      "                                                                                                  \n",
      " embedding_4 (Embedding)        (None, 3, 10)        310         ['input_5[0][0]']                \n",
      "                                                                                                  \n",
      " embedding_5 (Embedding)        (None, 1, 10)        60          ['input_6[0][0]']                \n",
      "                                                                                                  \n",
      " input_7 (InputLayer)           [(None, 2)]          0           []                               \n",
      "                                                                                                  \n",
      " flatten (Flatten)              (None, 33900)        0           ['lstm[0][0]']                   \n",
      "                                                                                                  \n",
      " flatten_1 (Flatten)            (None, 10)           0           ['embedding_1[0][0]']            \n",
      "                                                                                                  \n",
      " flatten_2 (Flatten)            (None, 10)           0           ['embedding_2[0][0]']            \n",
      "                                                                                                  \n",
      " flatten_3 (Flatten)            (None, 30)           0           ['embedding_3[0][0]']            \n",
      "                                                                                                  \n",
      " flatten_4 (Flatten)            (None, 30)           0           ['embedding_4[0][0]']            \n",
      "                                                                                                  \n",
      " flatten_5 (Flatten)            (None, 10)           0           ['embedding_5[0][0]']            \n",
      "                                                                                                  \n",
      " dense (Dense)                  (None, 10)           30          ['input_7[0][0]']                \n",
      "                                                                                                  \n",
      " concatenate (Concatenate)      (None, 34000)        0           ['flatten[0][0]',                \n",
      "                                                                  'flatten_1[0][0]',              \n",
      "                                                                  'flatten_2[0][0]',              \n",
      "                                                                  'flatten_3[0][0]',              \n",
      "                                                                  'flatten_4[0][0]',              \n",
      "                                                                  'flatten_5[0][0]',              \n",
      "                                                                  'dense[0][0]']                  \n",
      "                                                                                                  \n",
      " dense_1 (Dense)                (None, 256)          8704256     ['concatenate[0][0]']            \n",
      "                                                                                                  \n",
      " dropout (Dropout)              (None, 256)          0           ['dense_1[0][0]']                \n",
      "                                                                                                  \n",
      " dense_2 (Dense)                (None, 120)          30840       ['dropout[0][0]']                \n",
      "                                                                                                  \n",
      " dropout_1 (Dropout)            (None, 120)          0           ['dense_2[0][0]']                \n",
      "                                                                                                  \n",
      " dense_3 (Dense)                (None, 2)            242         ['dropout_1[0][0]']              \n",
      "                                                                                                  \n",
      "==================================================================================================\n",
      "Total params: 24,044,108\n",
      "Trainable params: 8,896,808\n",
      "Non-trainable params: 15,147,300\n",
      "__________________________________________________________________________________________________\n"
     ]
    }
   ],
   "source": [
    "tf.keras.backend.clear_session()\n",
    "\n",
    "essay_input_layer = Input(shape=(essay_max_len),)\n",
    "essay_embedded_layer = Embedding(essay_vocab_size, 300, weights=[embedding_matrix], input_length= essay_max_len,trainable=False)(essay_input_layer)\n",
    "layer_1 = LSTM(100, return_sequences=True)(essay_embedded_layer)\n",
    "flatten = Flatten()(layer_1)\n",
    "\n",
    "scst_input_layer = Input(shape=(scst_max_len),)\n",
    "scst_embedded_layer = Embedding(scst_vocab_size, 10, input_length= scst_max_len)(scst_input_layer)\n",
    "flatten_1 = Flatten()(scst_embedded_layer)\n",
    "\n",
    "grade_input_layer = Input(shape=(grade_max_len),)\n",
    "grade_embedded_layer = Embedding(grade_vocab_size, 10, input_length= grade_max_len)(grade_input_layer)\n",
    "flatten_2 = Flatten()(grade_embedded_layer)\n",
    "\n",
    "cleancat_input_layer = Input(shape=(cleancat_max_len),)\n",
    "cleancat_embedded_layer = Embedding(cleancat_vocab_size, 10, input_length= cleancat_max_len)(cleancat_input_layer)\n",
    "flatten_3 = Flatten()(cleancat_embedded_layer)\n",
    "\n",
    "cleansubcat_input_layer = Input(shape=(cleansubcat_max_len),)\n",
    "cleansubcat_embedded_layer = Embedding(cleansubcat_vocab_size, 10, input_length= cleansubcat_max_len)(cleansubcat_input_layer) \n",
    "flatten_4 = Flatten()(cleansubcat_embedded_layer)\n",
    "\n",
    "tea_input_layer = Input(shape=(tea_max_len),)\n",
    "tea_embedded_layer = Embedding(tea_vocab_size, 10)(tea_input_layer)\n",
    "flatten_5 = Flatten()(tea_embedded_layer)\n",
    "\n",
    "num_fea_input_layer = Input(shape=num_fea_tr[0].shape)\n",
    "num_dense = Dense(10, activation='relu', kernel_initializer= 'he_normal', kernel_regularizer=l2(0.0001))(num_fea_input_layer)\n",
    "\n",
    "concat = concatenate([flatten, flatten_1, flatten_2, flatten_3, flatten_4, flatten_5, num_dense])\n",
    "\n",
    "dense_layer1 = Dense(256, activation='relu', kernel_initializer='he_normal', kernel_regularizer=l2(0.0001))(concat)\n",
    "\n",
    "dropout1 = Dropout(0.5)(dense_layer1)\n",
    "\n",
    "dense_layer2 = Dense(120,activation='relu',kernel_initializer='he_normal', kernel_regularizer=l2(0.0001))(dropout1)\n",
    "\n",
    "dropout2 = Dropout(0.5)(dense_layer2)\n",
    "\n",
    "output_layer = Dense(2, activation='softmax')(dropout2)\n",
    "\n",
    "model1 = Model(inputs=[essay_input_layer, scst_input_layer, grade_input_layer, cleancat_input_layer, cleansubcat_input_layer, tea_input_layer, num_fea_input_layer], outputs=output_layer)\n",
    "\n",
    "model1.run_eagerly = True\n",
    "\n",
    "model1.summary()"
   ]
  },
  {
   "cell_type": "code",
   "execution_count": 25,
   "metadata": {},
   "outputs": [],
   "source": [
    "from sklearn.metrics import roc_auc_score\n",
    "from sklearn.metrics import confusion_matrix, f1_score, precision_score, recall_score\n",
    "from keras.utils import np_utils\n",
    "from keras.callbacks import Callback\n",
    "from tensorflow.keras.callbacks import ModelCheckpoint\n",
    "from tensorflow.keras.callbacks import EarlyStopping\n",
    "from tensorflow.keras.callbacks import ReduceLROnPlateau\n",
    "from tensorflow.keras.callbacks import LearningRateScheduler"
   ]
  },
  {
   "cell_type": "code",
   "execution_count": 26,
   "metadata": {},
   "outputs": [],
   "source": [
    "%load_ext tensorboard"
   ]
  },
  {
   "cell_type": "code",
   "execution_count": 27,
   "metadata": {},
   "outputs": [],
   "source": [
    "filepath=\"best_model_1/weights-{epoch:02d}-{val_accuracy:.4f}.hdf5\"\n",
    "checkpoint = ModelCheckpoint(filepath=filepath, monitor='val_auc',  verbose=1, save_best_only=True, mode='max')\n",
    "\n",
    "earlystop = EarlyStopping(monitor='val_accuracy', min_delta=0.0001, patience=3, verbose=1)\n",
    "\n",
    "reduce_lr = ReduceLROnPlateau(monitor='val_accuracy', factor=0.1, patience=3, verbose = 1, mode= 'auto' , min_lr=0.0001)\n",
    "\n",
    "log_dir = os.path.join(\"logs\",'fits', datetime.datetime.now().strftime(\"%Y%m%d-%H%M%S\"))\n",
    "tensorboard_callback = tf.keras.callbacks.TensorBoard(log_dir=log_dir,histogram_freq=1,write_graph=True)\n",
    "\n",
    "\n",
    "callback_list = [checkpoint, earlystop, reduce_lr, tensorboard_callback]"
   ]
  },
  {
   "cell_type": "code",
   "execution_count": 28,
   "metadata": {},
   "outputs": [],
   "source": [
    "#AUC score\n",
    "def auc( y_true, y_pred ) :\n",
    "    score = tf.compat.v1.py_func( lambda y_true, y_pred : roc_auc_score( y_true, y_pred, average='macro', sample_weight=None).astype('float32'),\n",
    "                        [y_true, y_pred],\n",
    "                        'float32',\n",
    "                        stateful=True,\n",
    "                        name='sklearnAUC' )\n",
    "    return score"
   ]
  },
  {
   "cell_type": "code",
   "execution_count": 30,
   "metadata": {},
   "outputs": [
    {
     "name": "stdout",
     "output_type": "stream",
     "text": [
      "WARNING:tensorflow:From C:\\Users\\mayek\\anaconda3\\lib\\site-packages\\tensorflow\\python\\autograph\\impl\\api.py:458: py_func (from tensorflow.python.ops.script_ops) is deprecated and will be removed in a future version.\n",
      "Instructions for updating:\n",
      "tf.py_func is deprecated in TF V2. Instead, there are two\n",
      "    options available in V2.\n",
      "    - tf.py_function takes a python function which manipulates tf eager\n",
      "    tensors instead of numpy arrays. It's easy to convert a tf eager tensor to\n",
      "    an ndarray (just call tensor.numpy()) but having access to eager tensors\n",
      "    means `tf.py_function`s can use accelerators such as GPUs as well as\n",
      "    being differentiable using a gradient tape.\n",
      "    - tf.numpy_function maintains the semantics of the deprecated tf.py_func\n",
      "    (it is not differentiable, and manipulates numpy arrays). It drops the\n",
      "    stateful argument making all functions stateful.\n",
      "    \n"
     ]
    }
   ],
   "source": [
    "model1.compile(loss='categorical_crossentropy', optimizer=keras.optimizers.Adam(lr=0.0006,decay = 1e-4), metrics=['accuracy', auc])"
   ]
  },
  {
   "cell_type": "code",
   "execution_count": 31,
   "metadata": {},
   "outputs": [
    {
     "data": {
      "image/png": "[encoded data removed]",
      "text/plain": [
       "<IPython.core.display.Image object>"
      ]
     },
     "execution_count": 31,
     "metadata": {},
     "output_type": "execute_result"
    }
   ],
   "source": [
    "from keras.utils.vis_utils import plot_model\n",
    "plot_model(model1, to_file='model1_plot.png', show_shapes=True, show_layer_names=True)"
   ]
  },
  {
   "cell_type": "code",
   "execution_count": 32,
   "metadata": {},
   "outputs": [
    {
     "name": "stdout",
     "output_type": "stream",
     "text": [
      "Train on 81936 samples, validate on 27312 samples\n",
      "Epoch 1/3\n",
      "81936/81936 [==============================] - ETA: 0s - loss: 0.4761 - accuracy: 0.8489 - auc: 0.6862\n",
      "Epoch 1: val_auc improved from -inf to 0.73839, saving model to best_model_1\\weights-01-0.8526.hdf5\n",
      "81936/81936 [==============================] - 994s 12ms/sample - loss: 0.4761 - accuracy: 0.8489 - auc: 0.6862 - val_loss: 0.4412 - val_accuracy: 0.8526 - val_auc: 0.7384 - lr: 6.0000e-04\n",
      "Epoch 2/3\n",
      "81936/81936 [==============================] - ETA: 0s - loss: 0.4413 - accuracy: 0.8555 - auc: 0.7518\n",
      "Epoch 2: val_auc improved from 0.73839 to 0.74934, saving model to best_model_1\\weights-02-0.8573.hdf5\n",
      "81936/81936 [==============================] - 994s 12ms/sample - loss: 0.4413 - accuracy: 0.8555 - auc: 0.7518 - val_loss: 0.4403 - val_accuracy: 0.8573 - val_auc: 0.7493 - lr: 6.0000e-04\n",
      "Epoch 3/3\n",
      "81936/81936 [==============================] - ETA: 0s - loss: 0.4318 - accuracy: 0.8638 - auc: 0.7968\n",
      "Epoch 3: val_auc did not improve from 0.74934\n",
      "81936/81936 [==============================] - 997s 12ms/sample - loss: 0.4318 - accuracy: 0.8638 - auc: 0.7968 - val_loss: 0.4645 - val_accuracy: 0.8527 - val_auc: 0.7373 - lr: 6.0000e-04\n"
     ]
    },
    {
     "data": {
      "text/plain": [
       "<keras.callbacks.History at 0x25904532dc0>"
      ]
     },
     "execution_count": 32,
     "metadata": {},
     "output_type": "execute_result"
    }
   ],
   "source": [
    "model1.fit([essay_tr_padding, scst_tr_padding, grade_tr_padding, cleancat_tr_padding, cleansubcat_tr_padding, tea_tr_padding, num_fea_tr], y_train, epochs = 3, verbose = 1, batch_size=64, validation_data=([essay_te_padding, scst_te_padding, grade_te_padding, cleancat_te_padding, cleansubcat_te_padding, tea_te_padding, num_fea_te], y_test), callbacks = callback_list)"
   ]
  },
  {
   "cell_type": "code",
   "execution_count": 33,
   "metadata": {},
   "outputs": [
    {
     "data": {
      "text/plain": [
       "Reusing TensorBoard on port 6006 (pid 16096), started 2 days, 7:22:14 ago. (Use '!kill 16096' to kill it.)"
      ]
     },
     "metadata": {},
     "output_type": "display_data"
    },
    {
     "data": {
      "text/html": [
       "\n",
       "      <iframe id=\"tensorboard-frame-8c8ec75c6bba9311\" width=\"100%\" height=\"800\" frameborder=\"0\">\n",
       "      </iframe>\n",
       "      <script>\n",
       "        (function() {\n",
       "          const frame = document.getElementById(\"tensorboard-frame-8c8ec75c6bba9311\");\n",
       "          const url = new URL(\"/\", window.location);\n",
       "          const port = 6006;\n",
       "          if (port) {\n",
       "            url.port = port;\n",
       "          }\n",
       "          frame.src = url;\n",
       "        })();\n",
       "      </script>\n",
       "    "
      ],
      "text/plain": [
       "<IPython.core.display.HTML object>"
      ]
     },
     "metadata": {},
     "output_type": "display_data"
    }
   ],
   "source": [
    "%tensorboard --logdir logs"
   ]
  },
  {
   "cell_type": "code",
   "execution_count": 34,
   "metadata": {},
   "outputs": [
    {
     "name": "stderr",
     "output_type": "stream",
     "text": [
      "'rm' is not recognized as an internal or external command,\n",
      "operable program or batch file.\n"
     ]
    }
   ],
   "source": [
    "!rm -rf ./logs/"
   ]
  },
  {
   "cell_type": "markdown",
   "metadata": {},
   "source": [
    "## MODEL-II (Using IDF Values)"
   ]
  },
  {
   "cell_type": "code",
   "execution_count": 35,
   "metadata": {},
   "outputs": [],
   "source": [
    "from sklearn.feature_extraction.text import TfidfVectorizer\n",
    "import matplotlib.pyplot as plt"
   ]
  },
  {
   "cell_type": "code",
   "execution_count": 36,
   "metadata": {},
   "outputs": [],
   "source": [
    "vectorizer = TfidfVectorizer(min_df=1)\n",
    "X = vectorizer.fit_transform(x_train['essay'])\n",
    "idf = vectorizer.idf_\n",
    "idf_scores = dict(zip(vectorizer.get_feature_names(), idf))"
   ]
  },
  {
   "cell_type": "code",
   "execution_count": 37,
   "metadata": {},
   "outputs": [
    {
     "data": {
      "text/plain": [
       "Text(0, 0.5, 'IDF score')"
      ]
     },
     "execution_count": 37,
     "metadata": {},
     "output_type": "execute_result"
    },
    {
     "data": {
      "image/png": "[encoded data removed]",
      "text/plain": [
       "<Figure size 640x480 with 1 Axes>"
      ]
     },
     "metadata": {},
     "output_type": "display_data"
    }
   ],
   "source": [
    "plt.boxplot(idf)\n",
    "plt.ylabel(\"IDF score\")"
   ]
  },
  {
   "cell_type": "code",
   "execution_count": 38,
   "metadata": {},
   "outputs": [
    {
     "name": "stdout",
     "output_type": "stream",
     "text": [
      "The 25 percentile of idf score is : [9.60565574]\n",
      "The 75 percentile of idf score is : [11.62055876]\n"
     ]
    }
   ],
   "source": [
    "print(\"The 25 percentile of idf score is :\", np.percentile(idf,[25]))\n",
    "print(\"The 75 percentile of idf score is :\",np.percentile(idf,[75]))"
   ]
  },
  {
   "cell_type": "code",
   "execution_count": 39,
   "metadata": {},
   "outputs": [],
   "source": [
    "iqr = (np.percentile(idf,[75][0]) - np.percentile(idf,[25][0]))"
   ]
  },
  {
   "cell_type": "code",
   "execution_count": 40,
   "metadata": {},
   "outputs": [
    {
     "data": {
      "text/plain": [
       "2.014903020542265"
      ]
     },
     "execution_count": 40,
     "metadata": {},
     "output_type": "execute_result"
    }
   ],
   "source": [
    "iqr"
   ]
  },
  {
   "cell_type": "code",
   "execution_count": 41,
   "metadata": {},
   "outputs": [],
   "source": [
    "lower_bound = 2\n",
    "upper_bound = 11"
   ]
  },
  {
   "cell_type": "code",
   "execution_count": 42,
   "metadata": {},
   "outputs": [],
   "source": [
    "# ran = list(range(101))\n",
    "# per = [np.percentile(vectorizer.idf_,[i][0]) for i in ran]\n",
    "# # for i in ran:\n",
    "# #     fig = plt.figure()\n",
    "# #     ax = fig.add_axes([0, 0, 1, 1])\n",
    "# #     ax.bar(i, np.percentile(vectorizer.idf_,[i]))\n",
    "    \n"
   ]
  },
  {
   "cell_type": "code",
   "execution_count": 43,
   "metadata": {},
   "outputs": [],
   "source": [
    "# fig = plt.figure()\n",
    "# ax = fig.add_axes([0, 0, 1, 1])\n",
    "# ax.bar(ran, per, color = ['red', 'blue', 'g', 'y'], width = 0.8)"
   ]
  },
  {
   "cell_type": "code",
   "execution_count": 44,
   "metadata": {},
   "outputs": [
    {
     "data": {
      "text/plain": [
       "{'00': 7.213839510451187,\n",
       " '000': 5.957598277579494,\n",
       " '000s': 11.62055875771544,\n",
       " '001': 11.215093649607276,\n",
       " '002': 11.62055875771544,\n",
       " '003': 11.62055875771544,\n",
       " '00am': 10.01112084528134,\n",
       " '00p': 11.62055875771544,\n",
       " '00pm': 9.605655737173175,\n",
       " '01': 10.52194646904733,\n",
       " '01075rm': 11.62055875771544,\n",
       " '01g': 11.62055875771544,\n",
       " '01ip': 11.215093649607276,\n",
       " '02': 10.704268025841285,\n",
       " '022x10': 11.62055875771544,\n",
       " '024': 11.62055875771544,\n",
       " '02810010': 11.62055875771544,\n",
       " '03': 10.116481360939165,\n",
       " '030': 11.215093649607276,\n",
       " '034': 11.62055875771544,\n",
       " '04': 11.215093649607276,\n",
       " '041': 11.62055875771544,\n",
       " '05': 10.01112084528134,\n",
       " '050': 11.215093649607276,\n",
       " '059': 11.62055875771544,\n",
       " '05a': 11.62055875771544,\n",
       " '05pm': 11.62055875771544,\n",
       " '06': 10.927411577155494,\n",
       " '060': 11.62055875771544,\n",
       " '07': 10.927411577155494,\n",
       " '072': 11.62055875771544,\n",
       " '074': 11.62055875771544,\n",
       " '076': 11.62055875771544,\n",
       " '08': 10.52194646904733,\n",
       " '084': 11.62055875771544,\n",
       " '09': 10.704268025841285,\n",
       " '0my': 11.62055875771544,\n",
       " '0nly': 11.62055875771544,\n",
       " '0thanks': 11.62055875771544,\n",
       " '0the': 11.62055875771544,\n",
       " '0ver': 10.704268025841285,\n",
       " '10': 4.498498876086297,\n",
       " '100': 3.8128454014800455,\n",
       " '1000': 7.160414343777607,\n",
       " '1000blackgirlbooks': 11.62055875771544,\n",
       " '1000s': 11.62055875771544,\n",
       " '10027': 11.62055875771544,\n",
       " '1009': 11.62055875771544,\n",
       " '100cm': 11.62055875771544,\n",
       " '100ft': 11.62055875771544,\n",
       " '100m': 10.704268025841285,\n",
       " '100s': 10.234264396595549,\n",
       " '100th': 9.317973664721395,\n",
       " '101': 8.758357876785972,\n",
       " '1017': 11.62055875771544,\n",
       " '102': 9.269183500551962,\n",
       " '1020': 11.215093649607276,\n",
       " '1022': 11.62055875771544,\n",
       " '103': 9.055609400253903,\n",
       " '104': 9.369266959108945,\n",
       " '1043': 11.62055875771544,\n",
       " '105': 9.269183500551962,\n",
       " '1057': 11.62055875771544,\n",
       " '106': 10.367795789220072,\n",
       " '1065': 11.62055875771544,\n",
       " '107': 9.605655737173175,\n",
       " '1070': 11.62055875771544,\n",
       " '1077': 11.62055875771544,\n",
       " '108': 9.748756580813849,\n",
       " '1080p': 11.62055875771544,\n",
       " '1084': 11.215093649607276,\n",
       " '109': 10.52194646904733,\n",
       " '1099': 11.62055875771544,\n",
       " '10am': 11.62055875771544,\n",
       " '10cm': 11.62055875771544,\n",
       " '10k': 11.62055875771544,\n",
       " '10min': 11.62055875771544,\n",
       " '10pk': 11.62055875771544,\n",
       " '10pm': 11.62055875771544,\n",
       " '10s': 10.116481360939165,\n",
       " '10th': 6.678916335106136,\n",
       " '10the': 11.62055875771544,\n",
       " '10x': 11.62055875771544,\n",
       " '10x10': 11.215093649607276,\n",
       " '10yrs': 11.62055875771544,\n",
       " '11': 5.587472535916638,\n",
       " '110': 7.386452253118181,\n",
       " '1100': 8.62482648416145,\n",
       " '11000': 11.62055875771544,\n",
       " '1104': 11.62055875771544,\n",
       " '110mph': 11.62055875771544,\n",
       " '111': 10.116481360939165,\n",
       " '111558': 11.62055875771544,\n",
       " '112': 10.234264396595549,\n",
       " '1120': 11.215093649607276,\n",
       " '11242': 11.62055875771544,\n",
       " '112th': 11.62055875771544,\n",
       " '113': 10.116481360939165,\n",
       " '1130': 11.62055875771544,\n",
       " '113th': 11.62055875771544,\n",
       " '114': 10.367795789220072,\n",
       " '115': 8.847970035475658,\n",
       " '116': 10.927411577155494,\n",
       " '117': 10.367795789220072,\n",
       " '1170l': 11.62055875771544,\n",
       " '118': 11.62055875771544,\n",
       " '119': 11.62055875771544,\n",
       " '11e': 11.62055875771544,\n",
       " '11pm': 11.62055875771544,\n",
       " '11th': 6.915543236757633,\n",
       " '11x14': 11.215093649607276,\n",
       " '11x17': 11.215093649607276,\n",
       " '11x25': 11.62055875771544,\n",
       " '12': 4.738121286717593,\n",
       " '120': 6.816537712982183,\n",
       " '1200': 8.186571553230294,\n",
       " '1202': 11.62055875771544,\n",
       " '120s': 11.62055875771544,\n",
       " '120th': 11.62055875771544,\n",
       " '121': 10.927411577155494,\n",
       " '122': 11.62055875771544,\n",
       " '123': 9.48049259421917,\n",
       " '1233': 11.62055875771544,\n",
       " '1238': 11.62055875771544,\n",
       " '123d': 11.215093649607276,\n",
       " '123s': 10.116481360939165,\n",
       " '124': 10.234264396595549,\n",
       " '1248': 11.62055875771544,\n",
       " '125': 8.109013318884418,\n",
       " '1250': 10.927411577155494,\n",
       " '126': 10.52194646904733,\n",
       " '127': 10.234264396595549,\n",
       " '1279': 11.62055875771544,\n",
       " '128': 10.52194646904733,\n",
       " '1285': 11.62055875771544,\n",
       " '128oz': 11.62055875771544,\n",
       " '129': 10.704268025841285,\n",
       " '12pm': 10.927411577155494,\n",
       " '12th': 5.964566946895587,\n",
       " '12x': 11.62055875771544,\n",
       " '12x12': 11.62055875771544,\n",
       " '12x16': 11.62055875771544,\n",
       " '13': 6.061802055109497,\n",
       " '130': 7.759829046674844,\n",
       " '1300': 9.317973664721395,\n",
       " '130ish': 11.62055875771544,\n",
       " '131': 10.367795789220072,\n",
       " '1318110': 11.62055875771544,\n",
       " '132': 10.704268025841285,\n",
       " '133': 10.116481360939165,\n",
       " '134': 10.234264396595549,\n",
       " '134th': 11.62055875771544,\n",
       " '135': 9.915810665477014,\n",
       " '1350': 11.215093649607276,\n",
       " '1354': 11.62055875771544,\n",
       " '1358': 11.62055875771544,\n",
       " '136': 11.62055875771544,\n",
       " '137': 10.52194646904733,\n",
       " '138': 10.234264396595549,\n",
       " '139': 11.62055875771544,\n",
       " '13th': 9.369266959108945,\n",
       " '13x13': 11.62055875771544,\n",
       " '14': 5.8920836704688675,\n",
       " '140': 8.12405119624896,\n",
       " '1400': 8.576036319992017,\n",
       " '1402': 11.62055875771544,\n",
       " '1404': 11.62055875771544,\n",
       " '141': 11.215093649607276,\n",
       " '142': 10.927411577155494,\n",
       " '143': 11.62055875771544,\n",
       " '144': 11.62055875771544,\n",
       " '1440': 11.215093649607276,\n",
       " '145': 9.674648608660126,\n",
       " '1450': 10.704268025841285,\n",
       " '145boys': 11.62055875771544,\n",
       " '145m': 11.215093649607276,\n",
       " '1469021285': 11.62055875771544,\n",
       " '147': 10.927411577155494,\n",
       " '1475': 11.62055875771544,\n",
       " '148': 10.367795789220072,\n",
       " '149': 11.62055875771544,\n",
       " '1491': 11.62055875771544,\n",
       " '14th': 9.605655737173175,\n",
       " '15': 5.112535054993707,\n",
       " '150': 6.6933050725582355,\n",
       " '1500': 8.730186999819274,\n",
       " '1505': 11.215093649607276,\n",
       " '151': 11.62055875771544,\n",
       " '152': 10.927411577155494,\n",
       " '153': 11.215093649607276,\n",
       " '1530': 11.62055875771544,\n",
       " '153rd': 11.62055875771544,\n",
       " '154': 11.215093649607276,\n",
       " '155': 10.234264396595549,\n",
       " '1550': 11.62055875771544,\n",
       " '156': 11.215093649607276,\n",
       " '156th': 11.62055875771544,\n",
       " '157': 10.704268025841285,\n",
       " '158': 10.704268025841285,\n",
       " '159': 11.215093649607276,\n",
       " '15am': 10.52194646904733,\n",
       " '15k': 11.62055875771544,\n",
       " '15mins': 11.62055875771544,\n",
       " '15pm': 11.215093649607276,\n",
       " '15s': 11.62055875771544,\n",
       " '15th': 9.178211722346235,\n",
       " '15these': 11.62055875771544,\n",
       " '15w': 11.62055875771544,\n",
       " '16': 5.877555569905957,\n",
       " '160': 8.306372753042915,\n",
       " '1600': 8.787345413659224,\n",
       " '1600s': 11.215093649607276,\n",
       " '1607': 11.62055875771544,\n",
       " '161': 10.704268025841285,\n",
       " '162': 10.927411577155494,\n",
       " '162nd': 11.62055875771544,\n",
       " '163': 11.215093649607276,\n",
       " '1632': 11.62055875771544,\n",
       " '164': 10.927411577155494,\n",
       " '165': 10.116481360939165,\n",
       " '1650': 11.62055875771544,\n",
       " '165th': 11.215093649607276,\n",
       " '1663': 11.62055875771544,\n",
       " '167': 11.215093649607276,\n",
       " '1670': 11.62055875771544,\n",
       " '1678': 11.62055875771544,\n",
       " '167th': 11.62055875771544,\n",
       " '169': 11.62055875771544,\n",
       " '1692': 11.62055875771544,\n",
       " '1695': 11.62055875771544,\n",
       " '16ft': 11.62055875771544,\n",
       " '16g': 11.62055875771544,\n",
       " '16gb': 10.927411577155494,\n",
       " '16oz': 11.62055875771544,\n",
       " '16port': 11.62055875771544,\n",
       " '16th': 10.01112084528134,\n",
       " '16yo': 11.62055875771544,\n",
       " '17': 6.00743065132737,\n",
       " '170': 8.676119778549,\n",
       " '1700': 9.269183500551962,\n",
       " '1700s': 11.62055875771544,\n",
       " '171': 10.927411577155494,\n",
       " '1722': 11.62055875771544,\n",
       " '173': 11.62055875771544,\n",
       " '1732': 11.62055875771544,\n",
       " '174': 10.927411577155494,\n",
       " '175': 9.42333418037922,\n",
       " '1750': 11.62055875771544,\n",
       " '176': 11.215093649607276,\n",
       " '1770': 11.62055875771544,\n",
       " '178': 10.704268025841285,\n",
       " '1781': 11.62055875771544,\n",
       " '1784': 11.62055875771544,\n",
       " '1787': 11.62055875771544,\n",
       " '179': 11.215093649607276,\n",
       " '1791': 11.62055875771544,\n",
       " '1793': 11.62055875771544,\n",
       " '17b': 11.62055875771544,\n",
       " '17th': 9.42333418037922,\n",
       " '18': 5.3734834691557465,\n",
       " '180': 7.276753335861756,\n",
       " '1800': 8.847970035475658,\n",
       " '1800s': 10.234264396595549,\n",
       " '181': 11.62055875771544,\n",
       " '1810': 11.62055875771544,\n",
       " '1812': 11.215093649607276,\n",
       " '182': 11.62055875771544,\n",
       " '1820': 11.62055875771544,\n",
       " '1823': 11.62055875771544,\n",
       " '183': 10.927411577155494,\n",
       " '1831': 11.62055875771544,\n",
       " '1836': 11.215093649607276,\n",
       " '184': 11.62055875771544,\n",
       " '1841': 11.62055875771544,\n",
       " '1843': 11.62055875771544,\n",
       " '1849': 11.215093649607276,\n",
       " '185': 10.52194646904733,\n",
       " '1850': 11.215093649607276,\n",
       " '186': 11.62055875771544,\n",
       " '1865': 11.215093649607276,\n",
       " '1869415': 11.62055875771544,\n",
       " '187': 11.215093649607276,\n",
       " '1875': 11.215093649607276,\n",
       " '1876': 11.62055875771544,\n",
       " '188': 10.52194646904733,\n",
       " '1880': 11.62055875771544,\n",
       " '1886': 11.62055875771544,\n",
       " '1889': 11.62055875771544,\n",
       " '1899': 11.62055875771544,\n",
       " '18th': 10.01112084528134,\n",
       " '18x24': 11.62055875771544,\n",
       " '19': 6.079295212557014,\n",
       " '190': 10.116481360939165,\n",
       " '1900': 9.748756580813849,\n",
       " '1900s': 10.01112084528134,\n",
       " '1901': 11.62055875771544,\n",
       " '1905': 10.704268025841285,\n",
       " '1906': 11.62055875771544,\n",
       " '1907': 10.52194646904733,\n",
       " '1909': 11.62055875771544,\n",
       " '190q': 11.62055875771544,\n",
       " '1910': 11.215093649607276,\n",
       " '1911': 11.62055875771544,\n",
       " '1912': 10.927411577155494,\n",
       " '1913': 11.62055875771544,\n",
       " '1914': 11.62055875771544,\n",
       " '1916': 11.215093649607276,\n",
       " '1917': 10.927411577155494,\n",
       " '1919': 11.215093649607276,\n",
       " '192': 11.215093649607276,\n",
       " '1920': 10.704268025841285,\n",
       " '1920s': 10.367795789220072,\n",
       " '1921': 11.62055875771544,\n",
       " '1922': 11.215093649607276,\n",
       " '1924': 11.215093649607276,\n",
       " '1925': 10.704268025841285,\n",
       " '1926': 10.927411577155494,\n",
       " '1927': 11.215093649607276,\n",
       " '1928': 10.927411577155494,\n",
       " '1929': 10.704268025841285,\n",
       " '193': 10.927411577155494,\n",
       " '1930': 10.01112084528134,\n",
       " '1930s': 10.927411577155494,\n",
       " '1932': 11.62055875771544,\n",
       " '1933': 10.52194646904733,\n",
       " '1937': 11.215093649607276,\n",
       " '1938': 11.62055875771544,\n",
       " '1939': 11.215093649607276,\n",
       " '194': 10.704268025841285,\n",
       " '1940': 10.234264396595549,\n",
       " '1940s': 11.215093649607276,\n",
       " '1941': 11.62055875771544,\n",
       " '1943': 10.927411577155494,\n",
       " '1945': 10.52194646904733,\n",
       " '1947': 11.62055875771544,\n",
       " '1949': 11.62055875771544,\n",
       " '195': 11.215093649607276,\n",
       " '1950': 9.269183500551962,\n",
       " '1950s': 9.541117216035603,\n",
       " '1951': 11.62055875771544,\n",
       " '1953': 10.367795789220072,\n",
       " '1954': 11.215093649607276,\n",
       " '1955': 11.62055875771544,\n",
       " '1956': 11.215093649607276,\n",
       " '1957': 9.915810665477014,\n",
       " '1958': 11.215093649607276,\n",
       " '1959': 11.215093649607276,\n",
       " '1959559': 11.62055875771544,\n",
       " '195th': 11.62055875771544,\n",
       " '1960': 9.541117216035603,\n",
       " '1960s': 9.42333418037922,\n",
       " '1961': 11.215093649607276,\n",
       " '1962': 11.62055875771544,\n",
       " '1963': 10.704268025841285,\n",
       " '1964': 11.215093649607276,\n",
       " '1965': 11.62055875771544,\n",
       " '1966': 11.215093649607276,\n",
       " '1967': 10.927411577155494,\n",
       " '1968': 10.116481360939165,\n",
       " '1969': 11.62055875771544,\n",
       " '1970': 9.915810665477014,\n",
       " '1970s': 11.215093649607276,\n",
       " '1971': 11.215093649607276,\n",
       " '1972': 10.927411577155494,\n",
       " '1973': 10.927411577155494,\n",
       " '1974': 11.215093649607276,\n",
       " '1975': 11.62055875771544,\n",
       " '1976': 11.215093649607276,\n",
       " '1977': 11.62055875771544,\n",
       " '1979': 10.367795789220072,\n",
       " '1980': 9.48049259421917,\n",
       " '1980s': 9.828799288487385,\n",
       " '1981': 11.215093649607276,\n",
       " '1982': 10.367795789220072,\n",
       " '1983': 10.927411577155494,\n",
       " '1984': 9.828799288487385,\n",
       " '1985': 9.915810665477014,\n",
       " '1986': 10.367795789220072,\n",
       " '1987': 10.52194646904733,\n",
       " '1988': 10.01112084528134,\n",
       " '1989': 10.927411577155494,\n",
       " '199': 11.215093649607276,\n",
       " '1990': 9.748756580813849,\n",
       " '1990s': 10.234264396595549,\n",
       " '1991': 10.52194646904733,\n",
       " '1992': 10.116481360939165,\n",
       " '1993': 9.541117216035603,\n",
       " '1994': 10.704268025841285,\n",
       " '1995': 10.704268025841285,\n",
       " '1996': 9.828799288487385,\n",
       " '1997': 10.367795789220072,\n",
       " '1998': 9.915810665477014,\n",
       " '1999': 9.674648608660126,\n",
       " '19sweetest': 11.62055875771544,\n",
       " '19th': 9.369266959108945,\n",
       " '19years': 11.62055875771544,\n",
       " '1a': 10.52194646904733,\n",
       " '1b': 10.704268025841285,\n",
       " '1cent': 11.62055875771544,\n",
       " '1classroom': 11.62055875771544,\n",
       " '1cm': 11.62055875771544,\n",
       " '1d': 11.62055875771544,\n",
       " '1i': 11.62055875771544,\n",
       " '1kg': 11.62055875771544,\n",
       " '1kw': 11.62055875771544,\n",
       " '1nannan': 11.215093649607276,\n",
       " '1o': 11.62055875771544,\n",
       " '1on1': 11.62055875771544,\n",
       " '1one': 11.62055875771544,\n",
       " '1pm': 10.704268025841285,\n",
       " '1ream': 11.62055875771544,\n",
       " '1rst': 10.234264396595549,\n",
       " '1s': 10.704268025841285,\n",
       " '1sr': 11.62055875771544,\n",
       " '1st': 4.977420278254088,\n",
       " '1th': 11.62055875771544,\n",
       " '1ulbmve': 11.215093649607276,\n",
       " '1x': 11.62055875771544,\n",
       " '1x1': 11.62055875771544,\n",
       " '20': 4.490460247589862,\n",
       " '200': 6.200023758443154,\n",
       " '2000': 7.969900516421702,\n",
       " '2000plus': 11.62055875771544,\n",
       " '2000s': 11.215093649607276,\n",
       " '2001': 9.48049259421917,\n",
       " '2002': 9.48049259421917,\n",
       " '2003': 8.702788025631161,\n",
       " '2004': 8.91250855661323,\n",
       " '2005': 9.369266959108945,\n",
       " '2006': 9.017869072271056,\n",
       " '2007': 8.817198376808905,\n",
       " '2008': 8.758357876785972,\n",
       " '2009': 8.529516304357124,\n",
       " '200m': 11.62055875771544,\n",
       " '201': 11.215093649607276,\n",
       " '2010': 8.576036319992017,\n",
       " '2011': 8.306372753042915,\n",
       " '2012': 8.288354247540237,\n",
       " '2013': 8.154822854915714,\n",
       " '201311': 11.62055875771544,\n",
       " '2014': 7.738994959772002,\n",
       " '2014nannan': 11.62055875771544,\n",
       " '2015': 6.841435264603911,\n",
       " '2015nannan': 11.62055875771544,\n",
       " '2016': 5.544063961422882,\n",
       " '2017': 5.92851153927766,\n",
       " '2017many': 11.62055875771544,\n",
       " '2017students': 11.62055875771544,\n",
       " '2018': 8.139318668379747,\n",
       " '2019': 10.704268025841285,\n",
       " '202': 10.927411577155494,\n",
       " '2020': 9.317973664721395,\n",
       " '2021': 11.215093649607276,\n",
       " '2022': 10.52194646904733,\n",
       " '2023': 11.62055875771544,\n",
       " '2024': 11.215093649607276,\n",
       " '2025': 10.116481360939165,\n",
       " '2026': 10.927411577155494,\n",
       " '2027': 10.704268025841285,\n",
       " '2028': 9.915810665477014,\n",
       " '2029': 9.748756580813849,\n",
       " '203': 10.52194646904733,\n",
       " '2030': 10.927411577155494,\n",
       " '2031': 10.927411577155494,\n",
       " '2033': 11.215093649607276,\n",
       " '204': 10.704268025841285,\n",
       " '2040': 11.215093649607276,\n",
       " '205': 10.704268025841285,\n",
       " '2050': 11.215093649607276,\n",
       " '206': 10.927411577155494,\n",
       " '2064': 11.62055875771544,\n",
       " '207': 10.01112084528134,\n",
       " '208': 10.927411577155494,\n",
       " '209': 10.01112084528134,\n",
       " '20am': 10.927411577155494,\n",
       " '20force': 11.62055875771544,\n",
       " '20k': 11.62055875771544,\n",
       " '20lab': 11.62055875771544,\n",
       " '20minutes': 11.62055875771544,\n",
       " '20motion': 11.62055875771544,\n",
       " '20net': 11.62055875771544,\n",
       " '20p': 11.62055875771544,\n",
       " '20s': 11.62055875771544,\n",
       " '20th': 7.969900516421702,\n",
       " '20time': 11.62055875771544,\n",
       " '20x28': 11.62055875771544,\n",
       " '21': 5.675138149108864,\n",
       " '210': 9.828799288487385,\n",
       " '2100': 9.915810665477014,\n",
       " '2101': 11.62055875771544,\n",
       " '2107': 11.62055875771544,\n",
       " '211': 11.62055875771544,\n",
       " '212': 11.62055875771544,\n",
       " '2123': 11.62055875771544,\n",
       " '213': 10.927411577155494,\n",
       " '2143282': 11.62055875771544,\n",
       " '2144': 11.62055875771544,\n",
       " '215': 10.116481360939165,\n",
       " '216': 11.215093649607276,\n",
       " '217': 11.62055875771544,\n",
       " '218': 10.927411577155494,\n",
       " '219': 10.927411577155494,\n",
       " '21ist': 11.62055875771544,\n",
       " '21rst': 10.927411577155494,\n",
       " '21sr': 11.62055875771544,\n",
       " '21st': 4.010944357571336,\n",
       " '21t': 11.62055875771544,\n",
       " '21th': 10.927411577155494,\n",
       " '22': 5.450948025223984,\n",
       " '220': 9.748756580813849,\n",
       " '2200': 10.52194646904733,\n",
       " '221': 10.704268025841285,\n",
       " '2219': 11.62055875771544,\n",
       " '222': 10.927411577155494,\n",
       " '223': 10.927411577155494,\n",
       " '224': 10.704268025841285,\n",
       " '225': 9.42333418037922,\n",
       " '226': 11.215093649607276,\n",
       " '228': 11.62055875771544,\n",
       " '2285': 11.62055875771544,\n",
       " '229': 11.215093649607276,\n",
       " '22nd': 10.704268025841285,\n",
       " '22st': 11.62055875771544,\n",
       " '23': 5.842906434492783,\n",
       " '230': 9.748756580813849,\n",
       " '2300': 11.215093649607276,\n",
       " '231': 10.52194646904733,\n",
       " '232': 11.215093649607276,\n",
       " '234q': 11.62055875771544,\n",
       " '235': 11.215093649607276,\n",
       " '2360': 11.62055875771544,\n",
       " '237': 10.927411577155494,\n",
       " '2375': 11.62055875771544,\n",
       " '238': 10.704268025841285,\n",
       " '239': 11.62055875771544,\n",
       " '23rd': 10.52194646904733,\n",
       " '24': 5.241284037738014,\n",
       " '240': 9.269183500551962,\n",
       " '2400': 10.52194646904733,\n",
       " '241': 10.704268025841285,\n",
       " '242': 10.704268025841285,\n",
       " '243': 11.62055875771544,\n",
       " '244': 11.215093649607276,\n",
       " '2448': 11.62055875771544,\n",
       " '245': 11.215093649607276,\n",
       " '248': 10.927411577155494,\n",
       " '249': 11.215093649607276,\n",
       " '24children': 11.62055875771544,\n",
       " '24th': 10.234264396595549,\n",
       " '25': 4.778943281237847,\n",
       " '250': 7.501521582902968,\n",
       " '2500': 9.828799288487385,\n",
       " '25000': 11.62055875771544,\n",
       " '252448': 11.62055875771544,\n",
       " '253': 11.215093649607276,\n",
       " '254': 11.62055875771544,\n",
       " '254th': 11.62055875771544,\n",
       " '2550': 11.62055875771544,\n",
       " '256': 11.62055875771544,\n",
       " '258': 11.62055875771544,\n",
       " '25am': 10.927411577155494,\n",
       " '25k': 11.62055875771544,\n",
       " '25mm': 11.62055875771544,\n",
       " '25pm': 11.215093649607276,\n",
       " '25th': 10.234264396595549,\n",
       " '26': 5.9151110037401775,\n",
       " '260': 9.605655737173175,\n",
       " '2600': 10.927411577155494,\n",
       " '262': 11.215093649607276,\n",
       " '263': 10.927411577155494,\n",
       " '265': 11.215093649607276,\n",
       " '266': 11.62055875771544,\n",
       " '2669': 11.62055875771544,\n",
       " '267': 11.215093649607276,\n",
       " '2683': 11.62055875771544,\n",
       " '269': 11.62055875771544,\n",
       " '26feature': 11.62055875771544,\n",
       " '26th': 10.367795789220072,\n",
       " '27': 6.275835018353248,\n",
       " '270': 9.369266959108945,\n",
       " '2700': 10.01112084528134,\n",
       " '274': 11.62055875771544,\n",
       " '275': 9.828799288487385,\n",
       " '276': 11.62055875771544,\n",
       " '277': 11.62055875771544,\n",
       " '279': 11.215093649607276,\n",
       " '27th': 11.62055875771544,\n",
       " '28': 6.095105818583656,\n",
       " '280': 8.730186999819274,\n",
       " '2800': 11.215093649607276,\n",
       " '281': 11.62055875771544,\n",
       " '282': 10.704268025841285,\n",
       " '28226': 11.62055875771544,\n",
       " '283': 11.215093649607276,\n",
       " '284': 11.62055875771544,\n",
       " '285': 11.215093649607276,\n",
       " '286': 10.704268025841285,\n",
       " '287': 11.215093649607276,\n",
       " '289': 11.62055875771544,\n",
       " '28in': 11.62055875771544,\n",
       " '28th': 11.215093649607276,\n",
       " '29': 6.929210875486296,\n",
       " '290': 10.116481360939165,\n",
       " '2900': 11.62055875771544,\n",
       " '291': 11.62055875771544,\n",
       " '293': 11.215093649607276,\n",
       " '294': 11.62055875771544,\n",
       " '296': 11.62055875771544,\n",
       " '299': 10.704268025841285,\n",
       " '29th': 11.215093649607276,\n",
       " '2a': 10.116481360939165,\n",
       " '2aa': 11.62055875771544,\n",
       " '2cents': 11.62055875771544,\n",
       " '2chcdud': 11.62055875771544,\n",
       " '2cm': 11.62055875771544,\n",
       " '2d': 7.640877103813479,\n",
       " '2ds': 11.62055875771544,\n",
       " '2fwatch': 11.62055875771544,\n",
       " '2having': 11.62055875771544,\n",
       " '2hr': 11.62055875771544,\n",
       " '2k8': 11.62055875771544,\n",
       " '2kdfiof': 11.62055875771544,\n",
       " '2km': 11.62055875771544,\n",
       " '2l': 11.62055875771544,\n",
       " '2laptops': 11.62055875771544,\n",
       " '2lbs': 11.62055875771544,\n",
       " '2nannan': 11.62055875771544,\n",
       " '2nd': 4.593687997843141,\n",
       " '2ndgradelove': 11.62055875771544,\n",
       " '2o': 10.927411577155494,\n",
       " '2pm': 11.62055875771544,\n",
       " '2s': 9.828799288487385,\n",
       " '2small': 11.62055875771544,\n",
       " '2st': 11.62055875771544,\n",
       " '2this': 11.62055875771544,\n",
       " '2x': 11.62055875771544,\n",
       " '2x2': 11.215093649607276,\n",
       " '2x3': 11.62055875771544,\n",
       " '2x4': 11.62055875771544,\n",
       " '2x6': 11.62055875771544,\n",
       " '2yr': 11.62055875771544,\n",
       " '30': 4.650298273381906,\n",
       " '300': 6.419303104010535,\n",
       " '3000': 8.170571211883853,\n",
       " '300291199': 11.62055875771544,\n",
       " '301': 10.927411577155494,\n",
       " '302': 11.215093649607276,\n",
       " '3023591having': 11.62055875771544,\n",
       " '303': 10.704268025841285,\n",
       " '30318': 11.62055875771544,\n",
       " '304': 10.927411577155494,\n",
       " '305': 10.116481360939165,\n",
       " '306': 10.927411577155494,\n",
       " '307': 10.52194646904733,\n",
       " '308': 10.927411577155494,\n",
       " '3087': 11.62055875771544,\n",
       " '309': 11.215093649607276,\n",
       " '30am': 9.541117216035603,\n",
       " '30hands': 11.215093649607276,\n",
       " '30minutes': 11.62055875771544,\n",
       " '30p': 11.62055875771544,\n",
       " '30pm': 9.748756580813849,\n",
       " '30students': 11.62055875771544,\n",
       " '30th': 10.704268025841285,\n",
       " '30x10': 11.62055875771544,\n",
       " '30x50': 11.62055875771544,\n",
       " '30xa': 11.62055875771544,\n",
       " '30xiis': 11.62055875771544,\n",
       " '30xs': 10.52194646904733,\n",
       " '31': 7.030502209537397,\n",
       " '310': 10.704268025841285,\n",
       " '310cw': 11.62055875771544,\n",
       " '311': 11.215093649607276,\n",
       " '312': 11.215093649607276,\n",
       " '3120': 9.915810665477014,\n",
       " '313': 11.215093649607276,\n",
       " '31313': 11.62055875771544,\n",
       " '315': 10.367795789220072,\n",
       " '316': 10.927411577155494,\n",
       " '317': 11.62055875771544,\n",
       " '318': 10.927411577155494,\n",
       " '319': 11.62055875771544,\n",
       " '31st': 10.704268025841285,\n",
       " '32': 6.464381158328526,\n",
       " '320': 8.758357876785972,\n",
       " '320ish': 11.62055875771544,\n",
       " '3240': 11.62055875771544,\n",
       " '325': 10.704268025841285,\n",
       " '326': 11.62055875771544,\n",
       " '327': 11.62055875771544,\n",
       " '328': 11.62055875771544,\n",
       " '32gb': 11.215093649607276,\n",
       " '32nd': 11.62055875771544,\n",
       " '33': 7.015388571727349,\n",
       " '330': 9.605655737173175,\n",
       " '3300': 10.927411577155494,\n",
       " '332': 10.927411577155494,\n",
       " '334': 11.62055875771544,\n",
       " '335': 10.704268025841285,\n",
       " '33rd': 11.62055875771544,\n",
       " '34': 7.207760464374805,\n",
       " '340': 9.605655737173175,\n",
       " '344': 11.62055875771544,\n",
       " '345': 10.704268025841285,\n",
       " '348': 11.215093649607276,\n",
       " '35': 6.245280350031275,\n",
       " '350': 7.586318119563044,\n",
       " '3500': 10.704268025841285,\n",
       " '355': 11.62055875771544,\n",
       " '356': 11.62055875771544,\n",
       " '358': 11.62055875771544,\n",
       " '35cm': 11.62055875771544,\n",
       " '35mm': 11.215093649607276,\n",
       " '35pm': 11.62055875771544,\n",
       " '36': 7.02543890758085,\n",
       " '360': 7.728738459604814,\n",
       " '3600': 10.927411577155494,\n",
       " '360fly': 10.927411577155494,\n",
       " '361': 11.62055875771544,\n",
       " '362': 11.62055875771544,\n",
       " '363': 10.704268025841285,\n",
       " '3637': 11.62055875771544,\n",
       " '365': 9.017869072271056,\n",
       " '366': 11.62055875771544,\n",
       " '368': 10.234264396595549,\n",
       " '369': 11.62055875771544,\n",
       " '36th': 10.927411577155494,\n",
       " '36x': 11.62055875771544,\n",
       " '37': 7.859358642021878,\n",
       " '370': 10.704268025841285,\n",
       " '3700': 11.62055875771544,\n",
       " '372': 11.215093649607276,\n",
       " '373': 11.62055875771544,\n",
       " '374': 11.62055875771544,\n",
       " '375': 9.222663484917069,\n",
       " '377': 11.62055875771544,\n",
       " '378': 11.62055875771544,\n",
       " '37th': 11.62055875771544,\n",
       " '38': 7.759829046674844,\n",
       " '380': 9.369266959108945,\n",
       " '3800': 11.62055875771544,\n",
       " '384': 11.62055875771544,\n",
       " '385': 10.704268025841285,\n",
       " '387': 11.215093649607276,\n",
       " '388': 10.927411577155494,\n",
       " '389': 11.62055875771544,\n",
       " '38k': 11.62055875771544,\n",
       " '38th': 11.62055875771544,\n",
       " '39': 7.931679303601504,\n",
       " '390': 10.234264396595549,\n",
       " '392': 11.62055875771544,\n",
       " '393': 11.62055875771544,\n",
       " '394': 11.62055875771544,\n",
       " '395': 11.62055875771544,\n",
       " '397': 11.62055875771544,\n",
       " '399': 11.62055875771544,\n",
       " '39th': 10.927411577155494,\n",
       " '3a': 10.367795789220072,\n",
       " '3c': 11.62055875771544,\n",
       " '3cm': 11.62055875771544,\n",
       " '3csmart': 11.215093649607276,\n",
       " '3d': 5.487160714718791,\n",
       " '3dcell': 11.62055875771544,\n",
       " '3dcqnxashzuhw': 11.62055875771544,\n",
       " '3dfitbud': 11.62055875771544,\n",
       " '3din': 11.62055875771544,\n",
       " '3dm': 11.62055875771544,\n",
       " '3doddle': 11.62055875771544,\n",
       " '3doodle': 9.828799288487385,\n",
       " '3doodler': 7.232301573290922,\n",
       " '3doodlers': 8.787345413659224,\n",
       " '3doodles': 11.215093649607276,\n",
       " '3dprocess': 11.62055875771544,\n",
       " '3dr': 11.62055875771544,\n",
       " '3ds': 11.215093649607276,\n",
       " '3dsharenannan': 11.62055875771544,\n",
       " '3dvr': 11.62055875771544,\n",
       " '3ess2': 11.62055875771544,\n",
       " '3fv': 11.62055875771544,\n",
       " '3hrs': 11.215093649607276,\n",
       " '3imagine': 11.62055875771544,\n",
       " '3k': 10.927411577155494,\n",
       " '3lcd': 11.62055875771544,\n",
       " '3m': 11.62055875771544,\n",
       " '3minutes': 11.62055875771544,\n",
       " '3months': 11.62055875771544,\n",
       " '3nannan': 11.215093649607276,\n",
       " '3o': 11.62055875771544,\n",
       " '3pm': 10.367795789220072,\n",
       " '3r': 10.704268025841285,\n",
       " '3rd': 4.471034463295928,\n",
       " '3rds': 11.62055875771544,\n",
       " '3s': 10.927411577155494,\n",
       " '3special': 11.62055875771544,\n",
       " '3th': 11.215093649607276,\n",
       " '3x': 10.52194646904733,\n",
       " '3x3': 11.215093649607276,\n",
       " '3x5': 11.215093649607276,\n",
       " '3xs': 11.62055875771544,\n",
       " '3yr': 10.927411577155494,\n",
       " '3yrs': 11.62055875771544,\n",
       " '40': 5.271419766335642,\n",
       " '400': 6.121343448800514,\n",
       " '4000': 9.828799288487385,\n",
       " '4000ish': 11.215093649607276,\n",
       " '400m': 11.215093649607276,\n",
       " '400x': 11.215093649607276,\n",
       " '401': 10.927411577155494,\n",
       " '401161546': 11.62055875771544,\n",
       " '403541': 10.927411577155494,\n",
       " '404': 11.215093649607276,\n",
       " '405': 11.215093649607276,\n",
       " '408': 11.62055875771544,\n",
       " '40am': 11.215093649607276,\n",
       " '40k': 11.62055875771544,\n",
       " '40pm': 11.215093649607276,\n",
       " '40s': 11.62055875771544,\n",
       " '40th': 9.915810665477014,\n",
       " '40x': 11.62055875771544,\n",
       " '41': 8.051026061234069,\n",
       " '410': 10.52194646904733,\n",
       " '410berrylet': 11.62055875771544,\n",
       " '412': 11.62055875771544,\n",
       " '413': 11.62055875771544,\n",
       " '415': 10.927411577155494,\n",
       " '416': 11.62055875771544,\n",
       " '418': 11.62055875771544,\n",
       " '419': 11.62055875771544,\n",
       " '41st': 10.704268025841285,\n",
       " '42': 7.343892638699384,\n",
       " '420': 9.48049259421917,\n",
       " '4200': 11.62055875771544,\n",
       " '421': 11.62055875771544,\n",
       " '422': 11.215093649607276,\n",
       " '423': 11.62055875771544,\n",
       " '424': 11.62055875771544,\n",
       " '425': 9.48049259421917,\n",
       " '426': 11.62055875771544,\n",
       " '426741473': 11.62055875771544,\n",
       " '429': 10.52194646904733,\n",
       " '42nd': 11.62055875771544,\n",
       " '43': 8.009640845071216,\n",
       " '430': 9.369266959108945,\n",
       " '431': 11.215093649607276,\n",
       " '432': 11.62055875771544,\n",
       " '434341': 11.62055875771544,\n",
       " '436': 11.62055875771544,\n",
       " '438': 11.215093649607276,\n",
       " '4392': 11.62055875771544,\n",
       " '44': 7.477424031323907,\n",
       " '440': 9.674648608660126,\n",
       " '441': 11.62055875771544,\n",
       " '445': 10.927411577155494,\n",
       " '447': 11.62055875771544,\n",
       " '45': 6.00743065132737,\n",
       " '450': 7.1319223879833,\n",
       " '451': 9.748756580813849,\n",
       " '4510': 11.62055875771544,\n",
       " '452': 11.62055875771544,\n",
       " '4520': 11.62055875771544,\n",
       " '453': 11.215093649607276,\n",
       " '45300': 11.62055875771544,\n",
       " '455': 11.215093649607276,\n",
       " '4550': 11.62055875771544,\n",
       " '45560': 11.62055875771544,\n",
       " '458': 11.62055875771544,\n",
       " '45am': 10.367795789220072,\n",
       " '45cm': 11.62055875771544,\n",
       " '45min': 11.62055875771544,\n",
       " '45pm': 10.52194646904733,\n",
       " '46': 7.568773809912135,\n",
       " '460': 9.674648608660126,\n",
       " '461': 11.215093649607276,\n",
       " '462': 10.927411577155494,\n",
       " '463': 11.62055875771544,\n",
       " '465': 10.927411577155494,\n",
       " '466': 11.62055875771544,\n",
       " '467': 11.62055875771544,\n",
       " '468': 11.215093649607276,\n",
       " '47': 7.586318119563044,\n",
       " '470': 9.915810665477014,\n",
       " '475': 9.748756580813849,\n",
       " '476': 11.62055875771544,\n",
       " '47th': 11.62055875771544,\n",
       " '48': 7.309759632329926,\n",
       " '480': 9.017869072271056,\n",
       " '48025': 11.62055875771544,\n",
       " '482': 11.62055875771544,\n",
       " '485': 10.52194646904733,\n",
       " '486': 11.62055875771544,\n",
       " '487': 11.215093649607276,\n",
       " '49': 8.051026061234069,\n",
       " '490': 10.116481360939165,\n",
       " '493': 11.62055875771544,\n",
       " '494': 11.62055875771544,\n",
       " '495': 10.927411577155494,\n",
       " '49ers': 11.62055875771544,\n",
       " '49th': 10.367795789220072,\n",
       " '4a': 10.367795789220072,\n",
       " '4ap': 11.62055875771544,\n",
       " '4c': 9.605655737173175,\n",
       " '4cm': 11.62055875771544,\n",
       " '4cs': 10.01112084528134,\n",
       " '4d': 10.234264396595549,\n",
       " '4d3oknannan': 11.62055875771544,\n",
       " '4g': 11.215093649607276,\n",
       " '4h': 10.704268025841285,\n",
       " '4k': 8.051026061234069,\n",
       " '4m': 11.215093649607276,\n",
       " '4pm': 10.704268025841285,\n",
       " '4r': 11.62055875771544,\n",
       " '4s': 10.704268025841285,\n",
       " '4tc': 11.62055875771544,\n",
       " '4th': 4.437447055972159,\n",
       " '4ths': 11.62055875771544,\n",
       " '4x': 11.62055875771544,\n",
       " '4x4': 11.62055875771544,\n",
       " '4x5': 11.215093649607276,\n",
       " '4x6': 10.927411577155494,\n",
       " '4yr': 10.927411577155494,\n",
       " '4yrs': 10.927411577155494,\n",
       " '50': 4.858407452592095,\n",
       " '500': 5.866400075734172,\n",
       " '5000': 10.704268025841285,\n",
       " '5005046': 11.62055875771544,\n",
       " '500al': 11.62055875771544,\n",
       " '500w': 11.62055875771544,\n",
       " '501': 10.927411577155494,\n",
       " '501c3': 10.927411577155494,\n",
       " '502': 10.367795789220072,\n",
       " '504': 7.847797819620801,\n",
       " '504s': 9.674648608660126,\n",
       " '505': 11.62055875771544,\n",
       " '506': 11.215093649607276,\n",
       " '507': 11.215093649607276,\n",
       " '508': 11.62055875771544,\n",
       " '509': 11.62055875771544,\n",
       " '50am': 11.62055875771544,\n",
       " '50ml': 11.62055875771544,\n",
       " '50mm': 11.62055875771544,\n",
       " '50s': 11.215093649607276,\n",
       " '50th': 10.116481360939165,\n",
       " '51': 8.03703981925933,\n",
       " '510': 10.116481360939165,\n",
       " '514': 11.62055875771544,\n",
       " '515': 10.52194646904733,\n",
       " '516': 11.62055875771544,\n",
       " '52': 7.613225572482969,\n",
       " '520': 9.541117216035603,\n",
       " '5210': 11.62055875771544,\n",
       " '523': 10.927411577155494,\n",
       " '524': 11.62055875771544,\n",
       " '525': 10.116481360939165,\n",
       " '526': 10.927411577155494,\n",
       " '527': 11.62055875771544,\n",
       " '528': 10.704268025841285,\n",
       " '529': 11.215093649607276,\n",
       " '52nd': 11.62055875771544,\n",
       " '53': 7.749357746807549,\n",
       " '530': 9.915810665477014,\n",
       " '531': 11.62055875771544,\n",
       " '532': 11.62055875771544,\n",
       " '53206': 11.62055875771544,\n",
       " '533': 11.62055875771544,\n",
       " '535': 11.215093649607276,\n",
       " '536': 11.62055875771544,\n",
       " '537': 10.927411577155494,\n",
       " '538': 10.704268025841285,\n",
       " '53cm': 11.62055875771544,\n",
       " '54': 7.836369123797179,\n",
       " '540': 9.828799288487385,\n",
       " '541': 10.52194646904733,\n",
       " '544': 11.62055875771544,\n",
       " '545': 10.52194646904733,\n",
       " '546': 11.215093649607276,\n",
       " '547': 10.367795789220072,\n",
       " '55': 7.154650639060856,\n",
       " '550': 7.738994959772002,\n",
       " '552': 11.215093649607276,\n",
       " '555': 11.62055875771544,\n",
       " '556': 11.62055875771544,\n",
       " '557': 11.62055875771544,\n",
       " '558': 11.62055875771544,\n",
       " '55am': 11.215093649607276,\n",
       " '55cm': 11.62055875771544,\n",
       " '55in': 11.62055875771544,\n",
       " '56': 7.969900516421702,\n",
       " '560': 8.676119778549,\n",
       " '561': 11.62055875771544,\n",
       " '562': 10.704268025841285,\n",
       " '563': 11.62055875771544,\n",
       " '565': 11.62055875771544,\n",
       " '569': 11.62055875771544,\n",
       " '56th': 11.62055875771544,\n",
       " '57': 8.009640845071216,\n",
       " '570': 9.828799288487385,\n",
       " '572': 11.215093649607276,\n",
       " '575': 10.01112084528134,\n",
       " '576': 11.215093649607276,\n",
       " '577': 10.927411577155494,\n",
       " ...}"
      ]
     },
     "execution_count": 44,
     "metadata": {},
     "output_type": "execute_result"
    }
   ],
   "source": [
    "idf_scores"
   ]
  },
  {
   "cell_type": "code",
   "execution_count": 45,
   "metadata": {},
   "outputs": [],
   "source": [
    "features = []\n",
    "\n",
    "for feature, idf in idf_scores.items():\n",
    "    if idf >= lower_bound and idf <= upper_bound:\n",
    "        features.append(feature)"
   ]
  },
  {
   "cell_type": "code",
   "execution_count": 46,
   "metadata": {},
   "outputs": [],
   "source": [
    "vocab_size_tfidf = len(features) + 1"
   ]
  },
  {
   "cell_type": "code",
   "execution_count": 47,
   "metadata": {},
   "outputs": [
    {
     "data": {
      "text/plain": [
       "25028"
      ]
     },
     "execution_count": 47,
     "metadata": {},
     "output_type": "execute_result"
    }
   ],
   "source": [
    "len(features)"
   ]
  },
  {
   "cell_type": "code",
   "execution_count": 48,
   "metadata": {},
   "outputs": [
    {
     "name": "stderr",
     "output_type": "stream",
     "text": [
      "100%|██████████| 81936/81936 [44:38<00:00, 30.59it/s]\n"
     ]
    }
   ],
   "source": [
    "from tqdm import tqdm\n",
    "import time\n",
    "\n",
    "common_elements = []\n",
    "\n",
    "for i in tqdm(range(len(x_train['essay'].iloc[::]))): \n",
    "\n",
    "    common = []\n",
    "\n",
    "    a = x_train['essay'].iloc[i].split()\n",
    "\n",
    "    for j in a:\n",
    "        if j in features:\n",
    "            common.append(j)\n",
    "\n",
    "    sen = ' '.join(common)\n",
    "\n",
    "    common_elements.append(sen)"
   ]
  },
  {
   "cell_type": "code",
   "execution_count": 49,
   "metadata": {},
   "outputs": [],
   "source": [
    "x_train_idf_mod = pd.Series(common_elements)"
   ]
  },
  {
   "cell_type": "code",
   "execution_count": 50,
   "metadata": {},
   "outputs": [],
   "source": [
    "essay_idf_tr_padding, essay_idf_te_padding , essay_idf_max_len, essay_idf_word_index, essay_idf_vocab_size = processing(x_train_idf_mod, x_test['essay'])"
   ]
  },
  {
   "cell_type": "code",
   "execution_count": 51,
   "metadata": {},
   "outputs": [],
   "source": [
    "embedding_mat = np.zeros((essay_idf_vocab_size, 300))\n",
    "\n",
    "for word, i in essay_idf_word_index.items():\n",
    "    if i < essay_idf_vocab_size:\n",
    "        emb_vector = embedding_dict.get(word)\n",
    "    if emb_vector is not None:\n",
    "        embedding_mat[i] = emb_vector"
   ]
  },
  {
   "cell_type": "code",
   "execution_count": 52,
   "metadata": {},
   "outputs": [
    {
     "name": "stdout",
     "output_type": "stream",
     "text": [
      "Model: \"model\"\n",
      "__________________________________________________________________________________________________\n",
      " Layer (type)                   Output Shape         Param #     Connected to                     \n",
      "==================================================================================================\n",
      " input_1 (InputLayer)           [(None, 294)]        0           []                               \n",
      "                                                                                                  \n",
      " embedding (Embedding)          (None, 294, 300)     7508700     ['input_1[0][0]']                \n",
      "                                                                                                  \n",
      " input_2 (InputLayer)           [(None, 1)]          0           []                               \n",
      "                                                                                                  \n",
      " input_3 (InputLayer)           [(None, 1)]          0           []                               \n",
      "                                                                                                  \n",
      " input_4 (InputLayer)           [(None, 3)]          0           []                               \n",
      "                                                                                                  \n",
      " input_5 (InputLayer)           [(None, 3)]          0           []                               \n",
      "                                                                                                  \n",
      " input_6 (InputLayer)           [(None, 1)]          0           []                               \n",
      "                                                                                                  \n",
      " lstm (LSTM)                    (None, 294, 100)     160400      ['embedding[0][0]']              \n",
      "                                                                                                  \n",
      " embedding_1 (Embedding)        (None, 1, 10)        520         ['input_2[0][0]']                \n",
      "                                                                                                  \n",
      " embedding_2 (Embedding)        (None, 1, 10)        50          ['input_3[0][0]']                \n",
      "                                                                                                  \n",
      " embedding_3 (Embedding)        (None, 3, 10)        100         ['input_4[0][0]']                \n",
      "                                                                                                  \n",
      " embedding_4 (Embedding)        (None, 3, 10)        310         ['input_5[0][0]']                \n",
      "                                                                                                  \n",
      " embedding_5 (Embedding)        (None, 1, 10)        60          ['input_6[0][0]']                \n",
      "                                                                                                  \n",
      " input_7 (InputLayer)           [(None, 2)]          0           []                               \n",
      "                                                                                                  \n",
      " flatten (Flatten)              (None, 29400)        0           ['lstm[0][0]']                   \n",
      "                                                                                                  \n",
      " flatten_1 (Flatten)            (None, 10)           0           ['embedding_1[0][0]']            \n",
      "                                                                                                  \n",
      " flatten_2 (Flatten)            (None, 10)           0           ['embedding_2[0][0]']            \n",
      "                                                                                                  \n",
      " flatten_3 (Flatten)            (None, 30)           0           ['embedding_3[0][0]']            \n",
      "                                                                                                  \n",
      " flatten_4 (Flatten)            (None, 30)           0           ['embedding_4[0][0]']            \n",
      "                                                                                                  \n",
      " flatten_5 (Flatten)            (None, 10)           0           ['embedding_5[0][0]']            \n",
      "                                                                                                  \n",
      " dense (Dense)                  (None, 10)           30          ['input_7[0][0]']                \n",
      "                                                                                                  \n",
      " concatenate (Concatenate)      (None, 29500)        0           ['flatten[0][0]',                \n",
      "                                                                  'flatten_1[0][0]',              \n",
      "                                                                  'flatten_2[0][0]',              \n",
      "                                                                  'flatten_3[0][0]',              \n",
      "                                                                  'flatten_4[0][0]',              \n",
      "                                                                  'flatten_5[0][0]',              \n",
      "                                                                  'dense[0][0]']                  \n",
      "                                                                                                  \n",
      " dense_1 (Dense)                (None, 256)          7552256     ['concatenate[0][0]']            \n",
      "                                                                                                  \n",
      " dropout (Dropout)              (None, 256)          0           ['dense_1[0][0]']                \n",
      "                                                                                                  \n",
      " dense_2 (Dense)                (None, 120)          30840       ['dropout[0][0]']                \n",
      "                                                                                                  \n",
      " dropout_1 (Dropout)            (None, 120)          0           ['dense_2[0][0]']                \n",
      "                                                                                                  \n",
      " dense_3 (Dense)                (None, 2)            242         ['dropout_1[0][0]']              \n",
      "                                                                                                  \n",
      "==================================================================================================\n",
      "Total params: 15,253,508\n",
      "Trainable params: 7,744,808\n",
      "Non-trainable params: 7,508,700\n",
      "__________________________________________________________________________________________________\n"
     ]
    }
   ],
   "source": [
    "tf.keras.backend.clear_session()\n",
    "\n",
    "essay_idf_input_layer = Input(shape=(essay_idf_max_len),)\n",
    "essay_idf_embedded_layer = Embedding(essay_idf_vocab_size, 300, weights=[embedding_mat], input_length= essay_idf_max_len,trainable=False)(essay_idf_input_layer)\n",
    "layer_1 = LSTM(100, return_sequences=True)(essay_idf_embedded_layer)\n",
    "flatten = Flatten()(layer_1)\n",
    "\n",
    "scst_input_layer = Input(shape=(scst_max_len),)\n",
    "scst_embedded_layer = Embedding(scst_vocab_size, 10, input_length= scst_max_len)(scst_input_layer)\n",
    "flatten_1 = Flatten()(scst_embedded_layer)\n",
    "\n",
    "grade_input_layer = Input(shape=(grade_max_len),)\n",
    "grade_embedded_layer = Embedding(grade_vocab_size, 10, input_length= grade_max_len)(grade_input_layer)\n",
    "flatten_2 = Flatten()(grade_embedded_layer)\n",
    "\n",
    "cleancat_input_layer = Input(shape=(cleancat_max_len),)\n",
    "cleancat_embedded_layer = Embedding(cleancat_vocab_size, 10, input_length= cleancat_max_len)(cleancat_input_layer)\n",
    "flatten_3 = Flatten()(cleancat_embedded_layer)\n",
    "\n",
    "cleansubcat_input_layer = Input(shape=(cleansubcat_max_len),)\n",
    "cleansubcat_embedded_layer = Embedding(cleansubcat_vocab_size, 10, input_length= cleansubcat_max_len)(cleansubcat_input_layer) \n",
    "flatten_4 = Flatten()(cleansubcat_embedded_layer)\n",
    "\n",
    "tea_input_layer = Input(shape=(tea_max_len),)\n",
    "tea_embedded_layer = Embedding(tea_vocab_size, 10)(tea_input_layer)\n",
    "flatten_5 = Flatten()(tea_embedded_layer)\n",
    "\n",
    "num_fea_input_layer = Input(shape=num_fea_tr[0].shape)\n",
    "num_dense = Dense(10, activation='relu', kernel_initializer= 'he_normal', kernel_regularizer=l2(0.0001))(num_fea_input_layer)\n",
    "\n",
    "concat = concatenate([flatten, flatten_1, flatten_2, flatten_3, flatten_4, flatten_5, num_dense])\n",
    "\n",
    "dense_layer1 = Dense(256, activation='relu', kernel_initializer='he_normal', kernel_regularizer=l2(0.0001))(concat)\n",
    "\n",
    "dropout1 = Dropout(0.5)(dense_layer1)\n",
    "\n",
    "dense_layer2 = Dense(120,activation='relu',kernel_initializer='he_normal', kernel_regularizer=l2(0.0001))(dropout1)\n",
    "\n",
    "dropout2 = Dropout(0.5)(dense_layer2)\n",
    "\n",
    "output_layer = Dense(2, activation='softmax')(dropout2)\n",
    "\n",
    "model2 = Model(inputs=[essay_idf_input_layer, scst_input_layer, grade_input_layer, cleancat_input_layer, cleansubcat_input_layer, tea_input_layer, num_fea_input_layer], outputs=output_layer)\n",
    "\n",
    "model2.run_eagerly = True\n",
    "\n",
    "model2.summary()"
   ]
  },
  {
   "cell_type": "code",
   "execution_count": 53,
   "metadata": {},
   "outputs": [],
   "source": [
    "filepath=\"best_model_2/weights-{epoch:02d}-{val_accuracy:.4f}.hdf5\"\n",
    "checkpoint = ModelCheckpoint(filepath=filepath, monitor='val_auc',  verbose=1, save_best_only=True, mode='max')\n",
    "\n",
    "earlystop = EarlyStopping(monitor='val_accuracy', min_delta=0.0001, patience=3, verbose=1)\n",
    "\n",
    "reduce_lr = ReduceLROnPlateau(monitor='val_accuracy', factor=0.1, patience=3, verbose = 1, mode= 'auto' , min_lr=0.0001)\n",
    "\n",
    "log_dir = os.path.join(\"logs\",'fits', datetime.datetime.now().strftime(\"%Y%m%d-%H%M%S\"))\n",
    "tensorboard_callback = tf.keras.callbacks.TensorBoard(log_dir=log_dir,histogram_freq=1,write_graph=True)\n",
    "\n",
    "\n",
    "callback_list = [checkpoint, earlystop, reduce_lr, tensorboard_callback]"
   ]
  },
  {
   "cell_type": "code",
   "execution_count": 55,
   "metadata": {},
   "outputs": [],
   "source": [
    "model2.compile(loss='categorical_crossentropy', optimizer=keras.optimizers.Adam(lr=0.0006,decay = 1e-4),metrics=['accuracy', auc])"
   ]
  },
  {
   "cell_type": "code",
   "execution_count": 56,
   "metadata": {},
   "outputs": [
    {
     "data": {
      "image/png": "[encoded data removed]",
      "text/plain": [
       "<IPython.core.display.Image object>"
      ]
     },
     "execution_count": 56,
     "metadata": {},
     "output_type": "execute_result"
    }
   ],
   "source": [
    "from keras.utils.vis_utils import plot_model\n",
    "plot_model(model2, to_file='model2_plot.png', show_shapes=True, show_layer_names=True)"
   ]
  },
  {
   "cell_type": "code",
   "execution_count": 57,
   "metadata": {},
   "outputs": [
    {
     "name": "stdout",
     "output_type": "stream",
     "text": [
      "Train on 81936 samples, validate on 27312 samples\n",
      "Epoch 1/3\n",
      "81936/81936 [==============================] - ETA: 0s - loss: 0.4715 - accuracy: 0.8490 - auc: 0.6862\n",
      "Epoch 1: val_auc improved from -inf to 0.74105, saving model to best_model_2\\weights-01-0.8555.hdf5\n",
      "81936/81936 [==============================] - 789s 10ms/sample - loss: 0.4715 - accuracy: 0.8490 - auc: 0.6862 - val_loss: 0.4432 - val_accuracy: 0.8555 - val_auc: 0.7411 - lr: 6.0000e-04\n",
      "Epoch 2/3\n",
      "81936/81936 [==============================] - ETA: 0s - loss: 0.4373 - accuracy: 0.8551 - auc: 0.7497\n",
      "Epoch 2: val_auc improved from 0.74105 to 0.74740, saving model to best_model_2\\weights-02-0.8572.hdf5\n",
      "81936/81936 [==============================] - 793s 10ms/sample - loss: 0.4373 - accuracy: 0.8551 - auc: 0.7497 - val_loss: 0.4303 - val_accuracy: 0.8572 - val_auc: 0.7474 - lr: 6.0000e-04\n",
      "Epoch 3/3\n",
      "81936/81936 [==============================] - ETA: 0s - loss: 0.4227 - accuracy: 0.8626 - auc: 0.7930\n",
      "Epoch 3: val_auc did not improve from 0.74740\n",
      "81936/81936 [==============================] - 794s 10ms/sample - loss: 0.4227 - accuracy: 0.8626 - auc: 0.7930 - val_loss: 0.4526 - val_accuracy: 0.8539 - val_auc: 0.7382 - lr: 6.0000e-04\n"
     ]
    },
    {
     "data": {
      "text/plain": [
       "<keras.callbacks.History at 0x25906eb2250>"
      ]
     },
     "execution_count": 57,
     "metadata": {},
     "output_type": "execute_result"
    }
   ],
   "source": [
    "model2.fit([essay_idf_tr_padding, scst_tr_padding, grade_tr_padding, cleancat_tr_padding, cleansubcat_tr_padding, tea_tr_padding, num_fea_tr], y_train, epochs = 3, verbose = 1, batch_size=64, validation_data=([essay_idf_te_padding, scst_te_padding, grade_te_padding, cleancat_te_padding, cleansubcat_te_padding, tea_te_padding, num_fea_te], y_test), callbacks = callback_list)"
   ]
  },
  {
   "cell_type": "code",
   "execution_count": 58,
   "metadata": {},
   "outputs": [
    {
     "data": {
      "text/plain": [
       "Reusing TensorBoard on port 6006 (pid 16096), started 2 days, 8:46:53 ago. (Use '!kill 16096' to kill it.)"
      ]
     },
     "metadata": {},
     "output_type": "display_data"
    },
    {
     "data": {
      "text/html": [
       "\n",
       "      <iframe id=\"tensorboard-frame-b904a76dcb4a6093\" width=\"100%\" height=\"800\" frameborder=\"0\">\n",
       "      </iframe>\n",
       "      <script>\n",
       "        (function() {\n",
       "          const frame = document.getElementById(\"tensorboard-frame-b904a76dcb4a6093\");\n",
       "          const url = new URL(\"/\", window.location);\n",
       "          const port = 6006;\n",
       "          if (port) {\n",
       "            url.port = port;\n",
       "          }\n",
       "          frame.src = url;\n",
       "        })();\n",
       "      </script>\n",
       "    "
      ],
      "text/plain": [
       "<IPython.core.display.HTML object>"
      ]
     },
     "metadata": {},
     "output_type": "display_data"
    }
   ],
   "source": [
    "%tensorboard --logdir logs"
   ]
  },
  {
   "cell_type": "code",
   "execution_count": 59,
   "metadata": {},
   "outputs": [
    {
     "name": "stderr",
     "output_type": "stream",
     "text": [
      "'rm' is not recognized as an internal or external command,\n",
      "operable program or batch file.\n"
     ]
    }
   ],
   "source": [
    "!rm -rf ./logs/"
   ]
  },
  {
   "cell_type": "markdown",
   "metadata": {},
   "source": [
    "## MODEL-III"
   ]
  },
  {
   "cell_type": "markdown",
   "metadata": {},
   "source": [
    "### Bag of Words representation of categorical feature \"School State\""
   ]
  },
  {
   "cell_type": "code",
   "execution_count": 60,
   "metadata": {},
   "outputs": [],
   "source": [
    "from sklearn.feature_extraction.text import TfidfVectorizer\n",
    "from sklearn.feature_extraction.text import CountVectorizer"
   ]
  },
  {
   "cell_type": "code",
   "execution_count": 61,
   "metadata": {},
   "outputs": [
    {
     "data": {
      "text/plain": [
       "CountVectorizer()"
      ]
     },
     "execution_count": 61,
     "metadata": {},
     "output_type": "execute_result"
    }
   ],
   "source": [
    "vectorizer = CountVectorizer()\n",
    "vectorizer.fit(x_train['school_state'].values)"
   ]
  },
  {
   "cell_type": "code",
   "execution_count": 62,
   "metadata": {},
   "outputs": [],
   "source": [
    "x_train_school_ohe = vectorizer.transform(x_train['school_state'].values)\n",
    "x_test_school_ohe = vectorizer.transform(x_test['school_state'].values)"
   ]
  },
  {
   "cell_type": "code",
   "execution_count": 63,
   "metadata": {},
   "outputs": [
    {
     "name": "stdout",
     "output_type": "stream",
     "text": [
      "(81936, 51) (81936, 2)\n",
      "(27312, 51) (27312, 2)\n",
      "['ak', 'al', 'ar', 'az', 'ca', 'co', 'ct', 'dc', 'de', 'fl', 'ga', 'hi', 'ia', 'id', 'il', 'in', 'ks', 'ky', 'la', 'ma', 'md', 'me', 'mi', 'mn', 'mo', 'ms', 'mt', 'nc', 'nd', 'ne', 'nh', 'nj', 'nm', 'nv', 'ny', 'oh', 'ok', 'or', 'pa', 'ri', 'sc', 'sd', 'tn', 'tx', 'ut', 'va', 'vt', 'wa', 'wi', 'wv', 'wy']\n"
     ]
    }
   ],
   "source": [
    "print(x_train_school_ohe.shape, y_train.shape)\n",
    "print(x_test_school_ohe.shape, y_test.shape)\n",
    "print(vectorizer.get_feature_names())"
   ]
  },
  {
   "cell_type": "markdown",
   "metadata": {},
   "source": [
    "### Bag of Words representation of categorical feature \"Teacher_Prefix\""
   ]
  },
  {
   "cell_type": "code",
   "execution_count": 64,
   "metadata": {},
   "outputs": [
    {
     "data": {
      "text/plain": [
       "CountVectorizer()"
      ]
     },
     "execution_count": 64,
     "metadata": {},
     "output_type": "execute_result"
    }
   ],
   "source": [
    "vectorizer = CountVectorizer()\n",
    "vectorizer.fit(x_train['teacher_prefix'].values)"
   ]
  },
  {
   "cell_type": "code",
   "execution_count": 65,
   "metadata": {},
   "outputs": [],
   "source": [
    "x_train_teacher_ohe = vectorizer.transform(x_train['teacher_prefix'].values)\n",
    "x_test_teacher_ohe = vectorizer.transform(x_test['teacher_prefix'].values)"
   ]
  },
  {
   "cell_type": "code",
   "execution_count": 66,
   "metadata": {},
   "outputs": [
    {
     "name": "stdout",
     "output_type": "stream",
     "text": [
      "(81936, 5) (81936, 2)\n",
      "(27312, 5) (27312, 2)\n",
      "['dr', 'mr', 'mrs', 'ms', 'teacher']\n"
     ]
    }
   ],
   "source": [
    "print(x_train_teacher_ohe.shape, y_train.shape)\n",
    "print(x_test_teacher_ohe.shape, y_test.shape)\n",
    "print(vectorizer.get_feature_names())"
   ]
  },
  {
   "cell_type": "markdown",
   "metadata": {},
   "source": [
    "### Bag of Words representation of categorical feature \"Poject_Grade_Category\""
   ]
  },
  {
   "cell_type": "code",
   "execution_count": 67,
   "metadata": {},
   "outputs": [
    {
     "data": {
      "text/plain": [
       "CountVectorizer()"
      ]
     },
     "execution_count": 67,
     "metadata": {},
     "output_type": "execute_result"
    }
   ],
   "source": [
    "vectorizer = CountVectorizer()\n",
    "vectorizer.fit(x_train['project_grade_category'].values)"
   ]
  },
  {
   "cell_type": "code",
   "execution_count": 68,
   "metadata": {},
   "outputs": [],
   "source": [
    "x_train_grade_ohe = vectorizer.transform(x_train['project_grade_category'].values)\n",
    "x_test_grade_ohe = vectorizer.transform(x_test['project_grade_category'].values)"
   ]
  },
  {
   "cell_type": "code",
   "execution_count": 69,
   "metadata": {},
   "outputs": [
    {
     "name": "stdout",
     "output_type": "stream",
     "text": [
      "(81936, 4) (81936, 2)\n",
      "(27312, 4) (27312, 2)\n",
      "['grades_3_5', 'grades_6_8', 'grades_9_12', 'grades_prek_2']\n"
     ]
    }
   ],
   "source": [
    "print(x_train_grade_ohe.shape, y_train.shape)\n",
    "print(x_test_grade_ohe.shape, y_test.shape)\n",
    "print(vectorizer.get_feature_names())"
   ]
  },
  {
   "cell_type": "markdown",
   "metadata": {},
   "source": [
    "### Bag of Words representation of categorical feature \"Clean_Categoroies\""
   ]
  },
  {
   "cell_type": "code",
   "execution_count": 70,
   "metadata": {},
   "outputs": [
    {
     "data": {
      "text/plain": [
       "CountVectorizer()"
      ]
     },
     "execution_count": 70,
     "metadata": {},
     "output_type": "execute_result"
    }
   ],
   "source": [
    "vectorizer = CountVectorizer()\n",
    "vectorizer.fit(x_train['clean_categories'].values)"
   ]
  },
  {
   "cell_type": "code",
   "execution_count": 71,
   "metadata": {},
   "outputs": [],
   "source": [
    "x_train_cleancat_ohe = vectorizer.transform(x_train['clean_categories'].values)\n",
    "x_test_cleancat_ohe = vectorizer.transform(x_test['clean_categories'].values)"
   ]
  },
  {
   "cell_type": "code",
   "execution_count": 72,
   "metadata": {},
   "outputs": [
    {
     "name": "stdout",
     "output_type": "stream",
     "text": [
      "(81936, 9) (81936, 2)\n",
      "(27312, 9) (27312, 2)\n",
      "['appliedlearning', 'care_hunger', 'health_sports', 'history_civics', 'literacy_language', 'math_science', 'music_arts', 'specialneeds', 'warmth']\n"
     ]
    }
   ],
   "source": [
    "print(x_train_cleancat_ohe.shape, y_train.shape)\n",
    "print(x_test_cleancat_ohe.shape, y_test.shape)\n",
    "print(vectorizer.get_feature_names())"
   ]
  },
  {
   "cell_type": "markdown",
   "metadata": {},
   "source": [
    "### Bag of Words representation of categorical feature \"Clean_Subcategoroies\""
   ]
  },
  {
   "cell_type": "code",
   "execution_count": 73,
   "metadata": {},
   "outputs": [
    {
     "data": {
      "text/plain": [
       "CountVectorizer()"
      ]
     },
     "execution_count": 73,
     "metadata": {},
     "output_type": "execute_result"
    }
   ],
   "source": [
    "vectorizer = CountVectorizer()\n",
    "vectorizer.fit(x_train['clean_subcategories'].values)"
   ]
  },
  {
   "cell_type": "code",
   "execution_count": 74,
   "metadata": {},
   "outputs": [],
   "source": [
    "x_train_subcat_ohe = vectorizer.transform(x_train['clean_subcategories'].values)\n",
    "x_test_subcat_ohe = vectorizer.transform(x_test['clean_subcategories'].values)"
   ]
  },
  {
   "cell_type": "code",
   "execution_count": 75,
   "metadata": {},
   "outputs": [
    {
     "name": "stdout",
     "output_type": "stream",
     "text": [
      "(81936, 30) (81936, 2)\n",
      "(27312, 30) (27312, 2)\n",
      "['appliedsciences', 'care_hunger', 'charactereducation', 'civics_government', 'college_careerprep', 'communityservice', 'earlydevelopment', 'economics', 'environmentalscience', 'esl', 'extracurricular', 'financialliteracy', 'foreignlanguages', 'gym_fitness', 'health_lifescience', 'health_wellness', 'history_geography', 'literacy', 'literature_writing', 'mathematics', 'music', 'nutritioneducation', 'other', 'parentinvolvement', 'performingarts', 'socialsciences', 'specialneeds', 'teamsports', 'visualarts', 'warmth']\n"
     ]
    }
   ],
   "source": [
    "print(x_train_subcat_ohe.shape, y_train.shape)\n",
    "print(x_test_subcat_ohe.shape, y_test.shape)\n",
    "print(vectorizer.get_feature_names())"
   ]
  },
  {
   "cell_type": "markdown",
   "metadata": {},
   "source": [
    "### Standardized numerical features"
   ]
  },
  {
   "cell_type": "code",
   "execution_count": 76,
   "metadata": {},
   "outputs": [
    {
     "name": "stdout",
     "output_type": "stream",
     "text": [
      "(81936, 1) (81936, 2)\n",
      "(27312, 1) (27312, 2)\n"
     ]
    }
   ],
   "source": [
    "print(tr_price_standard.shape, y_train.shape)\n",
    "print(te_price_standard.shape, y_test.shape)"
   ]
  },
  {
   "cell_type": "code",
   "execution_count": 77,
   "metadata": {},
   "outputs": [
    {
     "name": "stdout",
     "output_type": "stream",
     "text": [
      "(81936, 1) (81936, 2)\n",
      "(27312, 1) (27312, 2)\n"
     ]
    }
   ],
   "source": [
    "print(tr_tea_pre_projects_standard.shape, y_train.shape)\n",
    "print(te_tea_pre_projects_standard.shape, y_test.shape)"
   ]
  },
  {
   "cell_type": "markdown",
   "metadata": {},
   "source": [
    "## Concatinating all the features"
   ]
  },
  {
   "cell_type": "code",
   "execution_count": 78,
   "metadata": {},
   "outputs": [],
   "source": [
    "from scipy.sparse import hstack"
   ]
  },
  {
   "cell_type": "code",
   "execution_count": 79,
   "metadata": {},
   "outputs": [],
   "source": [
    "x_tr = hstack((x_train_school_ohe, x_train_teacher_ohe, x_train_grade_ohe, x_train_cleancat_ohe, x_train_subcat_ohe, tr_price_standard, tr_tea_pre_projects_standard)).todense()\n",
    "x_te = hstack((x_test_school_ohe, x_test_teacher_ohe, x_test_grade_ohe, x_test_cleancat_ohe, x_test_subcat_ohe, te_price_standard, te_tea_pre_projects_standard)).todense()"
   ]
  },
  {
   "cell_type": "code",
   "execution_count": 80,
   "metadata": {},
   "outputs": [],
   "source": [
    "x_tr = np.resize(x_tr,new_shape=(81936,101,1))\n",
    "x_te = np.resize(x_te,new_shape=(27312,101,1))"
   ]
  },
  {
   "cell_type": "code",
   "execution_count": 81,
   "metadata": {},
   "outputs": [
    {
     "name": "stdout",
     "output_type": "stream",
     "text": [
      "Final Data Matrix\n",
      "(81936, 101, 1) (81936, 2)\n",
      "(27312, 101, 1) (27312, 2)\n"
     ]
    }
   ],
   "source": [
    "print('Final Data Matrix')\n",
    "print(x_tr.shape, y_train.shape)\n",
    "print(x_te.shape, y_test.shape)"
   ]
  },
  {
   "cell_type": "code",
   "execution_count": 82,
   "metadata": {},
   "outputs": [
    {
     "name": "stdout",
     "output_type": "stream",
     "text": [
      "Model: \"model\"\n",
      "__________________________________________________________________________________________________\n",
      " Layer (type)                   Output Shape         Param #     Connected to                     \n",
      "==================================================================================================\n",
      " input_1 (InputLayer)           [(None, 339)]        0           []                               \n",
      "                                                                                                  \n",
      " input_2 (InputLayer)           [(None, 101, 1)]     0           []                               \n",
      "                                                                                                  \n",
      " embedding (Embedding)          (None, 339, 300)     15147300    ['input_1[0][0]']                \n",
      "                                                                                                  \n",
      " conv1d (Conv1D)                (None, 101, 128)     640         ['input_2[0][0]']                \n",
      "                                                                                                  \n",
      " lstm (LSTM)                    (None, 339, 100)     160400      ['embedding[0][0]']              \n",
      "                                                                                                  \n",
      " conv1d_1 (Conv1D)              (None, 101, 64)      32832       ['conv1d[0][0]']                 \n",
      "                                                                                                  \n",
      " flatten (Flatten)              (None, 33900)        0           ['lstm[0][0]']                   \n",
      "                                                                                                  \n",
      " flatten_1 (Flatten)            (None, 6464)         0           ['conv1d_1[0][0]']               \n",
      "                                                                                                  \n",
      " concatenate (Concatenate)      (None, 40364)        0           ['flatten[0][0]',                \n",
      "                                                                  'flatten_1[0][0]']              \n",
      "                                                                                                  \n",
      " dense (Dense)                  (None, 256)          10333440    ['concatenate[0][0]']            \n",
      "                                                                                                  \n",
      " dropout (Dropout)              (None, 256)          0           ['dense[0][0]']                  \n",
      "                                                                                                  \n",
      " dense_1 (Dense)                (None, 120)          30840       ['dropout[0][0]']                \n",
      "                                                                                                  \n",
      " dropout_1 (Dropout)            (None, 120)          0           ['dense_1[0][0]']                \n",
      "                                                                                                  \n",
      " dense_2 (Dense)                (None, 60)           7260        ['dropout_1[0][0]']              \n",
      "                                                                                                  \n",
      " dense_3 (Dense)                (None, 2)            122         ['dense_2[0][0]']                \n",
      "                                                                                                  \n",
      "==================================================================================================\n",
      "Total params: 25,712,834\n",
      "Trainable params: 10,565,534\n",
      "Non-trainable params: 15,147,300\n",
      "__________________________________________________________________________________________________\n"
     ]
    }
   ],
   "source": [
    "tf.keras.backend.clear_session()\n",
    "\n",
    "input_1 = Input(shape=(essay_max_len),)\n",
    "essay_embedded_layer = Embedding(essay_vocab_size, 300, weights=[embedding_matrix], input_length= essay_max_len,trainable=False)(input_1)\n",
    "layer_1 = LSTM(100, return_sequences=True)(essay_embedded_layer)\n",
    "flatten = Flatten()(layer_1)\n",
    "\n",
    "input_2 = Input(shape=(101,1))\n",
    "convolv1 = Conv1D(128, 4, activation=\"relu\", padding=\"same\")(input_2)\n",
    "convolv2 = Conv1D(64, 4, activation=\"relu\", padding=\"same\")(convolv1)\n",
    "flatten_1 = Flatten()(convolv2)\n",
    "\n",
    "concat = concatenate([flatten,flatten_1])\n",
    "\n",
    "dense_layer1 = Dense(256, activation='relu', kernel_initializer='he_normal', kernel_regularizer=l2(0.0001))(concat)\n",
    "\n",
    "dropout1 = Dropout(0.5)(dense_layer1)\n",
    "\n",
    "dense_layer2 = Dense(120,activation='relu',kernel_initializer='he_normal', kernel_regularizer=l2(0.0001))(dropout1)\n",
    "\n",
    "dropout2 = Dropout(0.5)(dense_layer2)\n",
    "\n",
    "dense_layer3 = Dense(60,activation='relu',kernel_initializer='he_normal', kernel_regularizer=l2(0.0001))(dropout2)\n",
    "\n",
    "output_layer = Dense(2, activation='softmax')(dense_layer3)\n",
    "\n",
    "model3 = Model(inputs=[input_1, input_2], outputs=output_layer)\n",
    "\n",
    "model3.run_eagerly = True\n",
    "\n",
    "model3.summary()\n",
    "\n"
   ]
  },
  {
   "cell_type": "code",
   "execution_count": 83,
   "metadata": {},
   "outputs": [],
   "source": [
    "filepath=\"best_model_3/weights-{epoch:02d}-{val_accuracy:.4f}.hdf5\"\n",
    "checkpoint = ModelCheckpoint(filepath=filepath, monitor='val_auc',  verbose=1, save_best_only=True, mode='max')\n",
    "\n",
    "earlystop = EarlyStopping(monitor='val_accuracy', min_delta=0.0001, patience=3, verbose=1)\n",
    "\n",
    "reduce_lr = ReduceLROnPlateau(monitor='val_accuracy', factor=0.1, patience=3, verbose = 1, mode= 'auto' , min_lr=0.0001)\n",
    "\n",
    "log_dir = os.path.join(\"logs\",'fits', datetime.datetime.now().strftime(\"%Y%m%d-%H%M%S\"))\n",
    "tensorboard_callback = tf.keras.callbacks.TensorBoard(log_dir=log_dir,histogram_freq=1,write_graph=True)\n",
    "\n",
    "\n",
    "callback_list = [checkpoint, earlystop, reduce_lr, tensorboard_callback]"
   ]
  },
  {
   "cell_type": "code",
   "execution_count": 85,
   "metadata": {},
   "outputs": [],
   "source": [
    "model3.compile(loss='categorical_crossentropy', optimizer=keras.optimizers.Adam(lr=0.0006,decay = 1e-4),metrics=['accuracy', auc])"
   ]
  },
  {
   "cell_type": "code",
   "execution_count": 86,
   "metadata": {},
   "outputs": [
    {
     "data": {
      "image/png": "[encoded data removed]",
      "text/plain": [
       "<IPython.core.display.Image object>"
      ]
     },
     "execution_count": 86,
     "metadata": {},
     "output_type": "execute_result"
    }
   ],
   "source": [
    "from keras.utils.vis_utils import plot_model\n",
    "plot_model(model3, to_file='model3_plot.png', show_shapes=True, show_layer_names=True)"
   ]
  },
  {
   "cell_type": "code",
   "execution_count": 87,
   "metadata": {},
   "outputs": [
    {
     "name": "stdout",
     "output_type": "stream",
     "text": [
      "Train on 81936 samples, validate on 27312 samples\n",
      "Epoch 1/3\n",
      "81936/81936 [==============================] - ETA: 0s - loss: 0.4813 - accuracy: 0.8487 - auc: 0.6916\n",
      "Epoch 1: val_auc improved from -inf to 0.74091, saving model to best_model_3\\weights-01-0.8556.hdf5\n",
      "81936/81936 [==============================] - 1075s 13ms/sample - loss: 0.4813 - accuracy: 0.8487 - auc: 0.6916 - val_loss: 0.4789 - val_accuracy: 0.8556 - val_auc: 0.7409 - lr: 6.0000e-04\n",
      "Epoch 2/3\n",
      "81936/81936 [==============================] - ETA: 0s - loss: 0.4515 - accuracy: 0.8536 - auc: 0.7504\n",
      "Epoch 2: val_auc improved from 0.74091 to 0.75332, saving model to best_model_3\\weights-02-0.8558.hdf5\n",
      "81936/81936 [==============================] - 1066s 13ms/sample - loss: 0.4515 - accuracy: 0.8536 - auc: 0.7504 - val_loss: 0.4573 - val_accuracy: 0.8558 - val_auc: 0.7533 - lr: 6.0000e-04\n",
      "Epoch 3/3\n",
      "81936/81936 [==============================] - ETA: 0s - loss: 0.4412 - accuracy: 0.8611 - auc: 0.7864\n",
      "Epoch 3: val_auc did not improve from 0.75332\n",
      "81936/81936 [==============================] - 1063s 13ms/sample - loss: 0.4412 - accuracy: 0.8611 - auc: 0.7864 - val_loss: 0.4634 - val_accuracy: 0.8548 - val_auc: 0.7436 - lr: 6.0000e-04\n"
     ]
    },
    {
     "data": {
      "text/plain": [
       "<keras.callbacks.History at 0x259bb2dbdc0>"
      ]
     },
     "execution_count": 87,
     "metadata": {},
     "output_type": "execute_result"
    }
   ],
   "source": [
    "model3.fit([essay_tr_padding, x_tr], y_train, epochs = 3, verbose = 1, batch_size=64, validation_data=([essay_te_padding, x_te], y_test), callbacks = callback_list)"
   ]
  },
  {
   "cell_type": "code",
   "execution_count": 88,
   "metadata": {},
   "outputs": [
    {
     "data": {
      "text/plain": [
       "Reusing TensorBoard on port 6006 (pid 16096), started 2 days, 9:40:24 ago. (Use '!kill 16096' to kill it.)"
      ]
     },
     "metadata": {},
     "output_type": "display_data"
    },
    {
     "data": {
      "text/html": [
       "\n",
       "      <iframe id=\"tensorboard-frame-44ec90b992f64d99\" width=\"100%\" height=\"800\" frameborder=\"0\">\n",
       "      </iframe>\n",
       "      <script>\n",
       "        (function() {\n",
       "          const frame = document.getElementById(\"tensorboard-frame-44ec90b992f64d99\");\n",
       "          const url = new URL(\"/\", window.location);\n",
       "          const port = 6006;\n",
       "          if (port) {\n",
       "            url.port = port;\n",
       "          }\n",
       "          frame.src = url;\n",
       "        })();\n",
       "      </script>\n",
       "    "
      ],
      "text/plain": [
       "<IPython.core.display.HTML object>"
      ]
     },
     "metadata": {},
     "output_type": "display_data"
    }
   ],
   "source": [
    "%tensorboard --logdir logs"
   ]
  },
  {
   "cell_type": "markdown",
   "metadata": {},
   "source": [
    "## SUMMERY"
   ]
  },
  {
   "cell_type": "code",
   "execution_count": 90,
   "metadata": {},
   "outputs": [
    {
     "name": "stdout",
     "output_type": "stream",
     "text": [
      "+-----------+--------------+---------+\n",
      "| Model No. | val_accuracy | val_AUC |\n",
      "+-----------+--------------+---------+\n",
      "|     1     |    0.8573    |  0.7493 |\n",
      "|     2     |    0.8572    |  0.7477 |\n",
      "|     3     |    0.8558    |  0.7533 |\n",
      "+-----------+--------------+---------+\n"
     ]
    }
   ],
   "source": [
    "from prettytable import PrettyTable\n",
    "summery =PrettyTable()\n",
    "summery.field_names = [\"Model No.\", \"val_accuracy\", \"val_AUC\"]\n",
    "summery.add_row([\"1\", 0.8573, 0.7493])\n",
    "summery.add_row([\"2\", 0.8572, 0.7477])\n",
    "summery.add_row([\"3\", 0.8558, 0.7533])\n",
    "print(summery)"
   ]
  },
  {
   "cell_type": "code",
   "execution_count": null,
   "metadata": {},
   "outputs": [],
   "source": []
  }
 ],
 "metadata": {
  "kernelspec": {
   "display_name": "Python 3 (ipykernel)",
   "language": "python",
   "name": "python3"
  },
  "language_info": {
   "codemirror_mode": {
    "name": "ipython",
    "version": 3
   },
   "file_extension": ".py",
   "mimetype": "text/x-python",
   "name": "python",
   "nbconvert_exporter": "python",
   "pygments_lexer": "ipython3",
   "version": "3.9.13"
  }
 },
 "nbformat": 4,
 "nbformat_minor": 2
}
